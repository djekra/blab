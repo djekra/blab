{
 "cells": [
  {
   "cell_type": "markdown",
   "metadata": {},
   "source": [
    "# blab Tools for Jupyter\n",
    "* Finds a local folder named `libs` and integrates it into the Python path. Useful for your own private libraries.\n",
    "* loads `autotime` (see https://github.com/cpcloud/ipython-autotime)\n",
    "* loads `autoreload` \n",
    "* loads `ipytest`\n",
    "* configures `%matplotlib inline`\n",
    "* Tool: `run_notebooks`: Starts all notebooks in the directory in alphabetical order\n",
    "* Tool: `search_notebooks`: Searches notebooks for occurrences of a string\n",
    "* Tool: `raise Stop`: Ends the execution of a notebook and displays the elapsed time\n",
    "* Tool: `bgc('orange')`: Sets the backbround color of a notebook cell\n",
    "\n",
    "\n",
    "### Usage:\n",
    "* Copy this file `98___blab_tools.ipynb` into your notebook directory\n",
    "* Put `%run 98___blab_tools.ipynb` in the first cell of your notebook  "
   ]
  },
  {
   "cell_type": "code",
   "execution_count": 1,
   "metadata": {
    "execution": {
     "iopub.execute_input": "2022-09-10T19:56:09.791695Z",
     "iopub.status.busy": "2022-09-10T19:56:09.791109Z",
     "iopub.status.idle": "2022-09-10T19:56:09.798735Z",
     "shell.execute_reply": "2022-09-10T19:56:09.798240Z"
    }
   },
   "outputs": [
    {
     "name": "stdout",
     "output_type": "stream",
     "text": [
      "JupyterLab Tools Version 0.0.22\n"
     ]
    }
   ],
   "source": [
    "print('JupyterLab Tools Version 0.0.22')"
   ]
  },
  {
   "cell_type": "code",
   "execution_count": 2,
   "metadata": {
    "execution": {
     "iopub.execute_input": "2022-09-10T19:56:09.801302Z",
     "iopub.status.busy": "2022-09-10T19:56:09.801132Z",
     "iopub.status.idle": "2022-09-10T19:56:09.804469Z",
     "shell.execute_reply": "2022-09-10T19:56:09.804013Z"
    }
   },
   "outputs": [],
   "source": [
    "from time import sleep\n",
    "sleep(0.001)"
   ]
  },
  {
   "cell_type": "code",
   "execution_count": 3,
   "metadata": {
    "execution": {
     "iopub.execute_input": "2022-09-10T19:56:09.806803Z",
     "iopub.status.busy": "2022-09-10T19:56:09.806495Z",
     "iopub.status.idle": "2022-09-10T19:56:09.811681Z",
     "shell.execute_reply": "2022-09-10T19:56:09.811124Z"
    }
   },
   "outputs": [
    {
     "name": "stdout",
     "output_type": "stream",
     "text": [
      "found local libs at /mnt/DATA/Dropbox/31_Projekte/01_Python/libs\n"
     ]
    }
   ],
   "source": [
    "# find local libs directory\n",
    "# and add it to sys.path\n",
    "\n",
    "import pathlib, os, sys\n",
    "p = pathlib.Path().resolve()\n",
    "\n",
    "# iterate parent dirs\n",
    "for n in range(10):\n",
    "    trypath = os.path.join( p, 'libs')  # candidate for libs-Path\n",
    "    #print(trypath)\n",
    "\n",
    "    if os.path.isdir(trypath): # found  \n",
    "        print('found local libs at ' +  trypath)\n",
    "        if trypath not in sys.path:\n",
    "            sys.path.append(trypath)     \n",
    "        break\n",
    "    else:\n",
    "        p = p.parent\n",
    "        \n",
    "    #print(n)"
   ]
  },
  {
   "cell_type": "code",
   "execution_count": 4,
   "metadata": {
    "execution": {
     "iopub.execute_input": "2022-09-10T19:56:09.815028Z",
     "iopub.status.busy": "2022-09-10T19:56:09.814564Z",
     "iopub.status.idle": "2022-09-10T19:56:09.820436Z",
     "shell.execute_reply": "2022-09-10T19:56:09.819908Z"
    }
   },
   "outputs": [
    {
     "name": "stdout",
     "output_type": "stream",
     "text": [
      "Start Time: 21:56:09\n"
     ]
    }
   ],
   "source": [
    "# https://stackoverflow.com/questions/24005221/ipython-notebook-early-exit-from-cell\n",
    "\n",
    "class Stop(Exception):\n",
    "    \n",
    "    '''\n",
    "    Ends the execution of a notebook and displays the elapsed time.\n",
    "    Usage: \n",
    "    raise Stop\n",
    "    '''\n",
    "    import datetime\n",
    "    # Zeit beim Start ausgeben\n",
    "    startzeit = datetime.datetime.now()\n",
    "    print('Start Time:', startzeit.strftime('%H:%M:%S') )    \n",
    "    \n",
    "    def _render_traceback_(self):\n",
    "        \n",
    "        # Zeit beim Stop ausgeben\n",
    "        stopzeit = datetime.datetime.now()\n",
    "        difference = stopzeit - Stop.startzeit\n",
    "        \n",
    "        print('Stop Time: ',  stopzeit.strftime('%H:%M:%S') )\n",
    "        print( 'Elapsed:   ', Stop.elapsed()    )   \n",
    "    \n",
    "         \n",
    "        bgc('DarkGray')\n",
    "        pass\n",
    "    \n",
    "    \n",
    "    def elapsed():\n",
    "        difference = datetime.datetime.now() - Stop.startzeit\n",
    "        return bpy.human_readable_seconds(difference.seconds) \n"
   ]
  },
  {
   "cell_type": "code",
   "execution_count": 5,
   "metadata": {
    "execution": {
     "iopub.execute_input": "2022-09-10T19:56:09.824130Z",
     "iopub.status.busy": "2022-09-10T19:56:09.823883Z",
     "iopub.status.idle": "2022-09-10T19:56:09.831308Z",
     "shell.execute_reply": "2022-09-10T19:56:09.830781Z"
    }
   },
   "outputs": [],
   "source": [
    "# blab direkt in den Namespace inportieren\n",
    "# (run_notebooks, search_notebooks)\n",
    "\n",
    "try:\n",
    "    from blab import *\n",
    "except:\n",
    "    pass"
   ]
  },
  {
   "cell_type": "code",
   "execution_count": 6,
   "metadata": {
    "execution": {
     "iopub.execute_input": "2022-09-10T19:56:09.834083Z",
     "iopub.status.busy": "2022-09-10T19:56:09.833830Z",
     "iopub.status.idle": "2022-09-10T19:56:09.906520Z",
     "shell.execute_reply": "2022-09-10T19:56:09.906069Z"
    }
   },
   "outputs": [],
   "source": [
    "# ipytest\n",
    "import ipytest\n",
    "ipytest.autoconfig()\n",
    "\n",
    "sleep(0.001)"
   ]
  },
  {
   "cell_type": "code",
   "execution_count": 7,
   "metadata": {
    "execution": {
     "iopub.execute_input": "2022-09-10T19:56:09.908930Z",
     "iopub.status.busy": "2022-09-10T19:56:09.908762Z",
     "iopub.status.idle": "2022-09-10T19:56:09.912349Z",
     "shell.execute_reply": "2022-09-10T19:56:09.911910Z"
    }
   },
   "outputs": [],
   "source": [
    "# Ausgabe löschen\n",
    "from IPython.display         import clear_output\n",
    "\n",
    "sleep(0.001)"
   ]
  },
  {
   "cell_type": "code",
   "execution_count": 8,
   "metadata": {
    "execution": {
     "iopub.execute_input": "2022-09-10T19:56:09.914565Z",
     "iopub.status.busy": "2022-09-10T19:56:09.914386Z",
     "iopub.status.idle": "2022-09-10T19:56:09.920029Z",
     "shell.execute_reply": "2022-09-10T19:56:09.919501Z"
    }
   },
   "outputs": [],
   "source": [
    "# Hintergrundfarbe ändern\n",
    "# https://stackoverflow.com/questions/49429585/how-to-change-the-background-color-of-a-single-cell-in-a-jupyter-notebook-jupy\n",
    "from IPython.display import HTML, display\n",
    "\n",
    "def set_background(color):    \n",
    "    script = (\n",
    "        \"var cell = this.closest('.jp-CodeCell');\"\n",
    "        \"var editor = cell.querySelector('.jp-Editor');\"\n",
    "        \"editor.style.background='{}';\"\n",
    "        \"this.parentNode.removeChild(this)\"\n",
    "    ).format(color)\n",
    "\n",
    "    display(HTML('<img src onerror=\"{}\">'.format(script)))\n",
    "    \n",
    "from IPython.core.magic import register_cell_magic\n",
    "from IPython.display import HTML, display\n",
    "\n",
    "@register_cell_magic\n",
    "def bgc(color, cell=None):\n",
    "    script = (\n",
    "        \"var cell = this.closest('.jp-CodeCell');\"\n",
    "        \"var editor = cell.querySelector('.jp-Editor');\"\n",
    "        \"editor.style.background='{}';\"\n",
    "        \"this.parentNode.removeChild(this)\"\n",
    "    ).format(color)\n",
    "\n",
    "    display(HTML('<img src onerror=\"{}\">'.format(script)))    \n",
    "    \n",
    "sleep(0.001)    "
   ]
  },
  {
   "cell_type": "code",
   "execution_count": 9,
   "metadata": {
    "execution": {
     "iopub.execute_input": "2022-09-10T19:56:09.922676Z",
     "iopub.status.busy": "2022-09-10T19:56:09.922491Z",
     "iopub.status.idle": "2022-09-10T19:56:09.932894Z",
     "shell.execute_reply": "2022-09-10T19:56:09.932398Z"
    }
   },
   "outputs": [
    {
     "data": {
      "text/html": [
       "<img src onerror=\"var cell = this.closest('.jp-CodeCell');var editor = cell.querySelector('.jp-Editor');editor.style.background='Beige';this.parentNode.removeChild(this)\">"
      ],
      "text/plain": [
       "<IPython.core.display.HTML object>"
      ]
     },
     "metadata": {},
     "output_type": "display_data"
    }
   ],
   "source": [
    "# Test Hintergrundfarbe ändern\n",
    "bgc('Beige')\n",
    "bla = 'bla'*3\n",
    "\n",
    "sleep(0.001)"
   ]
  },
  {
   "cell_type": "code",
   "execution_count": 10,
   "metadata": {
    "execution": {
     "iopub.execute_input": "2022-09-10T19:56:09.935743Z",
     "iopub.status.busy": "2022-09-10T19:56:09.935555Z",
     "iopub.status.idle": "2022-09-10T19:56:09.943152Z",
     "shell.execute_reply": "2022-09-10T19:56:09.942568Z"
    }
   },
   "outputs": [
    {
     "name": "stdout",
     "output_type": "stream",
     "text": [
      "time: 1.47 ms (started: 2022-09-10 21:56:09 +02:00)\n"
     ]
    }
   ],
   "source": [
    "%%capture\n",
    "\n",
    "## https://github.com/cpcloud/ipython-autotime\n",
    "%load_ext autotime\n",
    "sleep(0.001)"
   ]
  },
  {
   "cell_type": "code",
   "execution_count": 11,
   "metadata": {
    "execution": {
     "iopub.execute_input": "2022-09-10T19:56:09.945905Z",
     "iopub.status.busy": "2022-09-10T19:56:09.945656Z",
     "iopub.status.idle": "2022-09-10T19:56:09.963656Z",
     "shell.execute_reply": "2022-09-10T19:56:09.963101Z"
    }
   },
   "outputs": [
    {
     "name": "stdout",
     "output_type": "stream",
     "text": [
      "time: 13.5 ms (started: 2022-09-10 21:56:09 +02:00)\n"
     ]
    }
   ],
   "source": [
    "%%capture\n",
    "\n",
    "# autoreload  \n",
    "%load_ext autoreload\n",
    "%autoreload 2\n",
    "\n",
    "sleep(0.001)"
   ]
  },
  {
   "cell_type": "code",
   "execution_count": 12,
   "metadata": {
    "execution": {
     "iopub.execute_input": "2022-09-10T19:56:09.966372Z",
     "iopub.status.busy": "2022-09-10T19:56:09.966180Z",
     "iopub.status.idle": "2022-09-10T19:56:10.672293Z",
     "shell.execute_reply": "2022-09-10T19:56:10.671709Z"
    }
   },
   "outputs": [
    {
     "name": "stdout",
     "output_type": "stream",
     "text": [
      "time: 703 ms (started: 2022-09-10 21:56:09 +02:00)\n"
     ]
    }
   ],
   "source": [
    "%matplotlib inline"
   ]
  }
 ],
 "metadata": {
  "kernelspec": {
   "display_name": "Python 3 (ipykernel)",
   "language": "python",
   "name": "python3"
  },
  "language_info": {
   "codemirror_mode": {
    "name": "ipython",
    "version": 3
   },
   "file_extension": ".py",
   "mimetype": "text/x-python",
   "name": "python",
   "nbconvert_exporter": "python",
   "pygments_lexer": "ipython3",
   "version": "3.8.12"
  }
 },
 "nbformat": 4,
 "nbformat_minor": 4
}
