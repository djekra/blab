{
 "cells": [
  {
   "cell_type": "markdown",
   "id": "2ff8e365-1efd-4bd6-8070-72d849dd131d",
   "metadata": {},
   "source": [
    "# Notebook two\n",
    "This is no 2 of the jupyter notebooks run by 99___run_all.ipynb"
   ]
  },
  {
   "cell_type": "code",
   "execution_count": 1,
   "id": "ddeac58d-b7ec-47b0-ab0c-c8f824fad816",
   "metadata": {
    "execution": {
     "iopub.execute_input": "2022-09-10T19:56:16.192470Z",
     "iopub.status.busy": "2022-09-10T19:56:16.191665Z",
     "iopub.status.idle": "2022-09-10T19:56:17.025311Z",
     "shell.execute_reply": "2022-09-10T19:56:17.024738Z"
    }
   },
   "outputs": [
    {
     "name": "stdout",
     "output_type": "stream",
     "text": [
      "JupyterLab Tools Version 0.0.22\n",
      "found local libs at /mnt/DATA/Dropbox/31_Projekte/01_Python/libs\n",
      "Start Time: 21:56:16\n"
     ]
    },
    {
     "data": {
      "text/html": [
       "<img src onerror=\"var cell = this.closest('.jp-CodeCell');var editor = cell.querySelector('.jp-Editor');editor.style.background='Beige';this.parentNode.removeChild(this)\">"
      ],
      "text/plain": [
       "<IPython.core.display.HTML object>"
      ]
     },
     "metadata": {},
     "output_type": "display_data"
    },
    {
     "name": "stdout",
     "output_type": "stream",
     "text": [
      "time: 661 ms (started: 2022-09-10 21:56:16 +02:00)\n"
     ]
    }
   ],
   "source": [
    "%run 98___blab_tools.ipynb"
   ]
  },
  {
   "cell_type": "code",
   "execution_count": 2,
   "id": "5909e918-5710-448c-ac9d-281bb4a2c25d",
   "metadata": {
    "execution": {
     "iopub.execute_input": "2022-09-10T19:56:17.027743Z",
     "iopub.status.busy": "2022-09-10T19:56:17.027491Z",
     "iopub.status.idle": "2022-09-10T19:56:17.043323Z",
     "shell.execute_reply": "2022-09-10T19:56:17.041883Z"
    }
   },
   "outputs": [
    {
     "name": "stdout",
     "output_type": "stream",
     "text": [
      "Hello 2\n",
      "time: 11.9 ms (started: 2022-09-10 21:56:17 +02:00)\n"
     ]
    }
   ],
   "source": [
    "print('Hello 2')"
   ]
  }
 ],
 "metadata": {
  "kernelspec": {
   "display_name": "Python 3 (ipykernel)",
   "language": "python",
   "name": "python3"
  },
  "language_info": {
   "codemirror_mode": {
    "name": "ipython",
    "version": 3
   },
   "file_extension": ".py",
   "mimetype": "text/x-python",
   "name": "python",
   "nbconvert_exporter": "python",
   "pygments_lexer": "ipython3",
   "version": "3.8.12"
  }
 },
 "nbformat": 4,
 "nbformat_minor": 5
}
