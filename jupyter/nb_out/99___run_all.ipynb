{
 "cells": [
  {
   "cell_type": "markdown",
   "id": "8e69225b",
   "metadata": {},
   "source": [
    "# Run all scripts in this folder"
   ]
  },
  {
   "cell_type": "code",
   "execution_count": 1,
   "id": "fb545c1a-c45f-4ce4-8b40-27a7170679df",
   "metadata": {
    "execution": {
     "iopub.execute_input": "2022-09-10T19:56:12.073096Z",
     "iopub.status.busy": "2022-09-10T19:56:12.071642Z",
     "iopub.status.idle": "2022-09-10T19:56:12.934223Z",
     "shell.execute_reply": "2022-09-10T19:56:12.933661Z"
    }
   },
   "outputs": [
    {
     "name": "stdout",
     "output_type": "stream",
     "text": [
      "JupyterLab Tools Version 0.0.22\n",
      "found local libs at /mnt/DATA/Dropbox/31_Projekte/01_Python/libs\n",
      "Start Time: 21:56:12\n"
     ]
    },
    {
     "data": {
      "text/html": [
       "<img src onerror=\"var cell = this.closest('.jp-CodeCell');var editor = cell.querySelector('.jp-Editor');editor.style.background='Beige';this.parentNode.removeChild(this)\">"
      ],
      "text/plain": [
       "<IPython.core.display.HTML object>"
      ]
     },
     "metadata": {},
     "output_type": "display_data"
    },
    {
     "name": "stdout",
     "output_type": "stream",
     "text": [
      "time: 667 ms (started: 2022-09-10 21:56:12 +02:00)\n"
     ]
    }
   ],
   "source": [
    "%run 98___blab_tools.ipynb"
   ]
  },
  {
   "cell_type": "code",
   "execution_count": 2,
   "id": "10e73dfb-d6ed-429e-9a8c-eab2b239bf56",
   "metadata": {
    "execution": {
     "iopub.execute_input": "2022-09-10T19:56:12.936632Z",
     "iopub.status.busy": "2022-09-10T19:56:12.936454Z",
     "iopub.status.idle": "2022-09-10T19:56:12.949462Z",
     "shell.execute_reply": "2022-09-10T19:56:12.948986Z"
    }
   },
   "outputs": [
    {
     "name": "stdout",
     "output_type": "stream",
     "text": [
      "30_Search_in_all_notebooks.ipynb\n",
      "time: 10.3 ms (started: 2022-09-10 21:56:12 +02:00)\n"
     ]
    }
   ],
   "source": [
    "search_notebooks('raise Stop', radius=0, exclude=['--','98','99',])"
   ]
  },
  {
   "cell_type": "code",
   "execution_count": 3,
   "id": "5e342761-9970-4dc8-9a11-fcdd28723947",
   "metadata": {
    "execution": {
     "iopub.execute_input": "2022-09-10T19:56:12.951858Z",
     "iopub.status.busy": "2022-09-10T19:56:12.951687Z",
     "iopub.status.idle": "2022-09-10T19:56:12.999289Z",
     "shell.execute_reply": "2022-09-10T19:56:12.998808Z"
    }
   },
   "outputs": [
    {
     "name": "stdout",
     "output_type": "stream",
     "text": [
      "time: 45 ms (started: 2022-09-10 21:56:12 +02:00)\n"
     ]
    }
   ],
   "source": [
    "?run_notebooks"
   ]
  },
  {
   "cell_type": "code",
   "execution_count": 4,
   "id": "771cc4dd",
   "metadata": {
    "execution": {
     "iopub.execute_input": "2022-09-10T19:56:13.001755Z",
     "iopub.status.busy": "2022-09-10T19:56:13.001587Z",
     "iopub.status.idle": "2022-09-10T19:56:19.664804Z",
     "shell.execute_reply": "2022-09-10T19:56:19.664324Z"
    }
   },
   "outputs": [
    {
     "name": "stdout",
     "output_type": "stream",
     "text": [
      "Trying to run this 3 notebooks:\n",
      "         10_Notebook_one.ipynb                   \n",
      "         20_Notebook_two.ipynb                   \n",
      "         30_Search_in_all_notebooks.ipynb        \n",
      "\n"
     ]
    },
    {
     "name": "stdout",
     "output_type": "stream",
     "text": [
      "Running: 10_Notebook_one.ipynb                    "
     ]
    },
    {
     "name": "stdout",
     "output_type": "stream",
     "text": [
      "   2 secs\n",
      "Running: 20_Notebook_two.ipynb                    "
     ]
    },
    {
     "name": "stdout",
     "output_type": "stream",
     "text": [
      "   2 secs\n",
      "Running: 30_Search_in_all_notebooks.ipynb         "
     ]
    },
    {
     "name": "stdout",
     "output_type": "stream",
     "text": [
      "   2 secs\n",
      "============================================================ \n",
      "\n",
      "\n",
      "time: 6.66 s (started: 2022-09-10 21:56:12 +02:00)\n"
     ]
    }
   ],
   "source": [
    "run_notebooks( exclude=['==','98','99',], mode='force' )"
   ]
  },
  {
   "cell_type": "code",
   "execution_count": null,
   "id": "c9082d5a-3d68-4f71-9750-0265241bf187",
   "metadata": {},
   "outputs": [],
   "source": []
  }
 ],
 "metadata": {
  "kernelspec": {
   "display_name": "Python 3 (ipykernel)",
   "language": "python",
   "name": "python3"
  },
  "language_info": {
   "codemirror_mode": {
    "name": "ipython",
    "version": 3
   },
   "file_extension": ".py",
   "mimetype": "text/x-python",
   "name": "python",
   "nbconvert_exporter": "python",
   "pygments_lexer": "ipython3",
   "version": "3.8.12"
  }
 },
 "nbformat": 4,
 "nbformat_minor": 5
}
