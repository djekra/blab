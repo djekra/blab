{
 "cells": [
  {
   "cell_type": "code",
   "execution_count": 1,
   "id": "fb545c1a-c45f-4ce4-8b40-27a7170679df",
   "metadata": {
    "execution": {
     "iopub.execute_input": "2022-10-31T17:35:19.618297Z",
     "iopub.status.busy": "2022-10-31T17:35:19.617943Z",
     "iopub.status.idle": "2022-10-31T17:35:20.203227Z",
     "shell.execute_reply": "2022-10-31T17:35:20.202556Z"
    }
   },
   "outputs": [
    {
     "name": "stdout",
     "output_type": "stream",
     "text": [
      "blab init\n",
      "blab found local libs at /media/me/DATA/Dropbox/31_Projekte/01_Python/libs\n",
      "Start Time: 18:35:19\n"
     ]
    },
    {
     "data": {
      "text/html": [
       "<img src onerror=\"var cell = this.closest('.jp-CodeCell');var editor = cell.querySelector('.jp-Editor');editor.style.background='Beige';this.parentNode.removeChild(this)\">"
      ],
      "text/plain": [
       "<IPython.core.display.HTML object>"
      ]
     },
     "metadata": {},
     "output_type": "display_data"
    },
    {
     "name": "stdout",
     "output_type": "stream",
     "text": [
      "time: 404 ms (started: 2022-10-31 18:35:19 +01:00)\n"
     ]
    }
   ],
   "source": [
    "# blab init\n",
    "try:\n",
    "    import blab\n",
    "    startup_notebook = blab.blab_startup()\n",
    "    %run $startup_notebook\n",
    "except:\n",
    "    pass"
   ]
  },
  {
   "cell_type": "markdown",
   "id": "8e69225b",
   "metadata": {},
   "source": [
    "# Search in all notebooks"
   ]
  },
  {
   "cell_type": "code",
   "execution_count": 2,
   "id": "de43bfbc-eec9-4021-b5ec-dc6127e18530",
   "metadata": {
    "execution": {
     "iopub.execute_input": "2022-10-31T17:35:20.206325Z",
     "iopub.status.busy": "2022-10-31T17:35:20.205945Z",
     "iopub.status.idle": "2022-10-31T17:35:20.257658Z",
     "shell.execute_reply": "2022-10-31T17:35:20.256901Z"
    }
   },
   "outputs": [
    {
     "name": "stdout",
     "output_type": "stream",
     "text": [
      "time: 47.2 ms (started: 2022-10-31 18:35:20 +01:00)\n"
     ]
    }
   ],
   "source": [
    "?search_notebooks"
   ]
  },
  {
   "cell_type": "code",
   "execution_count": 3,
   "id": "10e73dfb-d6ed-429e-9a8c-eab2b239bf56",
   "metadata": {
    "execution": {
     "iopub.execute_input": "2022-10-31T17:35:20.260599Z",
     "iopub.status.busy": "2022-10-31T17:35:20.260335Z",
     "iopub.status.idle": "2022-10-31T17:35:20.418201Z",
     "shell.execute_reply": "2022-10-31T17:35:20.417568Z"
    }
   },
   "outputs": [
    {
     "name": "stdout",
     "output_type": "stream",
     "text": [
      "../publish_blab.ipynb\n",
      "../jupyter/10_dummy_notebook_one.ipynb\n",
      "../jupyter/20_dummy_notebook_two.ipynb\n",
      "../jupyter/30_Search_in_all_notebooks.ipynb\n",
      "../jupyter/nb_out/10_dummy_notebook_one.ipynb\n",
      "../jupyter/nb_out/10_Notebook_one.ipynb\n",
      "../jupyter/nb_out/20_dummy_notebook_two.ipynb\n",
      "../jupyter/nb_out/20_Notebook_two.ipynb\n",
      "../jupyter/nb_out/30_Search_in_all_notebooks.ipynb\n",
      "../src/blab/__main__.py\n",
      "time: 154 ms (started: 2022-10-31 18:35:20 +01:00)\n"
     ]
    }
   ],
   "source": [
    "search_notebooks('Hello', radius=1, exclude=['--','98','99'])"
   ]
  },
  {
   "cell_type": "code",
   "execution_count": 4,
   "id": "33b3d052-3503-4da9-b1ba-503cd86cf279",
   "metadata": {
    "execution": {
     "iopub.execute_input": "2022-10-31T17:35:20.421121Z",
     "iopub.status.busy": "2022-10-31T17:35:20.420805Z",
     "iopub.status.idle": "2022-10-31T17:35:20.438345Z",
     "shell.execute_reply": "2022-10-31T17:35:20.437708Z"
    }
   },
   "outputs": [
    {
     "name": "stdout",
     "output_type": "stream",
     "text": [
      "../src/blab/blab_tools.py\n",
      "../src/blab/blab_tools.py\n",
      "time: 13.1 ms (started: 2022-10-31 18:35:20 +01:00)\n"
     ]
    }
   ],
   "source": [
    "search_notebooks('search_notebooks', radius=1, exclude=['--','98','99'], suffix='py')"
   ]
  },
  {
   "cell_type": "code",
   "execution_count": null,
   "id": "b495084d-67a8-4fa4-847c-99fcc2ad5fe4",
   "metadata": {},
   "outputs": [],
   "source": []
  }
 ],
 "metadata": {
  "kernelspec": {
   "display_name": "Python 3 (ipykernel)",
   "language": "python",
   "name": "python3"
  },
  "language_info": {
   "codemirror_mode": {
    "name": "ipython",
    "version": 3
   },
   "file_extension": ".py",
   "mimetype": "text/x-python",
   "name": "python",
   "nbconvert_exporter": "python",
   "pygments_lexer": "ipython3",
   "version": "3.9.13"
  }
 },
 "nbformat": 4,
 "nbformat_minor": 5
}
