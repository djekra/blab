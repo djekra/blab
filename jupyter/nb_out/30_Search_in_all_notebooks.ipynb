{
 "cells": [
  {
   "cell_type": "markdown",
   "id": "8e69225b",
   "metadata": {},
   "source": [
    "# Run all scripts in this folder"
   ]
  },
  {
   "cell_type": "code",
   "execution_count": 1,
   "id": "fb545c1a-c45f-4ce4-8b40-27a7170679df",
   "metadata": {
    "execution": {
     "iopub.execute_input": "2022-09-10T19:54:46.713539Z",
     "iopub.status.busy": "2022-09-10T19:54:46.712934Z",
     "iopub.status.idle": "2022-09-10T19:54:47.590525Z",
     "shell.execute_reply": "2022-09-10T19:54:47.589956Z"
    }
   },
   "outputs": [
    {
     "name": "stdout",
     "output_type": "stream",
     "text": [
      "JupyterLab Tools Version 0.0.22\n",
      "found local libs at /mnt/DATA/Dropbox/31_Projekte/01_Python/libs\n",
      "Start Time: 21:54:46\n"
     ]
    },
    {
     "data": {
      "text/html": [
       "<img src onerror=\"var cell = this.closest('.jp-CodeCell');var editor = cell.querySelector('.jp-Editor');editor.style.background='Beige';this.parentNode.removeChild(this)\">"
      ],
      "text/plain": [
       "<IPython.core.display.HTML object>"
      ]
     },
     "metadata": {},
     "output_type": "display_data"
    },
    {
     "name": "stdout",
     "output_type": "stream",
     "text": [
      "time: 701 ms (started: 2022-09-10 21:54:46 +02:00)\n"
     ]
    }
   ],
   "source": [
    "%run 98___blab_tools.ipynb"
   ]
  },
  {
   "cell_type": "code",
   "execution_count": 2,
   "id": "10e73dfb-d6ed-429e-9a8c-eab2b239bf56",
   "metadata": {
    "execution": {
     "iopub.execute_input": "2022-09-10T19:54:47.592895Z",
     "iopub.status.busy": "2022-09-10T19:54:47.592672Z",
     "iopub.status.idle": "2022-09-10T19:54:47.606056Z",
     "shell.execute_reply": "2022-09-10T19:54:47.605430Z"
    }
   },
   "outputs": [
    {
     "name": "stdout",
     "output_type": "stream",
     "text": [
      "30_Search_in_all_notebooks.ipynb\n",
      "98___blab_tools.ipynb\n",
      "99___run_all.ipynb\n",
      "time: 10.5 ms (started: 2022-09-10 21:54:47 +02:00)\n"
     ]
    }
   ],
   "source": [
    "search_notebooks('raise Stop', radius=0, exclude=['00','--'])"
   ]
  },
  {
   "cell_type": "code",
   "execution_count": 3,
   "id": "771cc4dd",
   "metadata": {
    "execution": {
     "iopub.execute_input": "2022-09-10T19:54:47.608584Z",
     "iopub.status.busy": "2022-09-10T19:54:47.608355Z",
     "iopub.status.idle": "2022-09-10T19:56:20.100752Z",
     "shell.execute_reply": "2022-09-10T19:56:20.100272Z"
    }
   },
   "outputs": [
    {
     "name": "stdout",
     "output_type": "stream",
     "text": [
      "Trying to run this 5 notebooks:\n",
      "         10_Notebook_one.ipynb                   \n",
      "         20_Notebook_two.ipynb                   \n",
      "         30_Search_in_all_notebooks.ipynb        \n",
      "         98___blab_tools.ipynb                   \n",
      "         99___run_all.ipynb                      \n",
      "\n",
      "Running: 10_Notebook_one.ipynb                    "
     ]
    },
    {
     "name": "stdout",
     "output_type": "stream",
     "text": [
      "   2 secs\n",
      "Running: 20_Notebook_two.ipynb                    "
     ]
    },
    {
     "name": "stdout",
     "output_type": "stream",
     "text": [
      "   2 secs\n",
      "Running: 30_Search_in_all_notebooks.ipynb         "
     ]
    },
    {
     "name": "stdout",
     "output_type": "stream",
     "text": [
      "   1 min, 16 secs\n",
      "Running: 98___blab_tools.ipynb                    "
     ]
    },
    {
     "name": "stdout",
     "output_type": "stream",
     "text": [
      "   2 secs\n",
      "Running: 99___run_all.ipynb                       "
     ]
    },
    {
     "name": "stdout",
     "output_type": "stream",
     "text": [
      "   9 secs\n",
      "============================================================ \n",
      "\n",
      "\n",
      "time: 1min 32s (started: 2022-09-10 21:54:47 +02:00)\n"
     ]
    }
   ],
   "source": [
    "run_notebooks( exclude=['00','03','=='], mode='force' )"
   ]
  },
  {
   "cell_type": "code",
   "execution_count": null,
   "id": "c9082d5a-3d68-4f71-9750-0265241bf187",
   "metadata": {},
   "outputs": [],
   "source": []
  }
 ],
 "metadata": {
  "kernelspec": {
   "display_name": "Python 3 (ipykernel)",
   "language": "python",
   "name": "python3"
  },
  "language_info": {
   "codemirror_mode": {
    "name": "ipython",
    "version": 3
   },
   "file_extension": ".py",
   "mimetype": "text/x-python",
   "name": "python",
   "nbconvert_exporter": "python",
   "pygments_lexer": "ipython3",
   "version": "3.8.12"
  }
 },
 "nbformat": 4,
 "nbformat_minor": 5
}
