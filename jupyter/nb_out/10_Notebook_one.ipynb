{
 "cells": [
  {
   "cell_type": "markdown",
   "id": "ade6e0ce-ab8d-4cd7-8ad6-c9f2f8f80411",
   "metadata": {},
   "source": [
    "# Notebook one\n",
    "This is no 1 of the jupyter notebooks run by 99___run_all.ipynb"
   ]
  },
  {
   "cell_type": "code",
   "execution_count": 1,
   "id": "28383554-ed4c-4a7c-bd1f-adfb4a44db11",
   "metadata": {
    "execution": {
     "iopub.execute_input": "2022-09-10T19:56:14.163630Z",
     "iopub.status.busy": "2022-09-10T19:56:14.163410Z",
     "iopub.status.idle": "2022-09-10T19:56:14.999665Z",
     "shell.execute_reply": "2022-09-10T19:56:14.999146Z"
    }
   },
   "outputs": [
    {
     "name": "stdout",
     "output_type": "stream",
     "text": [
      "JupyterLab Tools Version 0.0.22\n",
      "found local libs at /mnt/DATA/Dropbox/31_Projekte/01_Python/libs\n",
      "Start Time: 21:56:14\n"
     ]
    },
    {
     "data": {
      "text/html": [
       "<img src onerror=\"var cell = this.closest('.jp-CodeCell');var editor = cell.querySelector('.jp-Editor');editor.style.background='Beige';this.parentNode.removeChild(this)\">"
      ],
      "text/plain": [
       "<IPython.core.display.HTML object>"
      ]
     },
     "metadata": {},
     "output_type": "display_data"
    },
    {
     "name": "stdout",
     "output_type": "stream",
     "text": [
      "time: 665 ms (started: 2022-09-10 21:56:14 +02:00)\n"
     ]
    }
   ],
   "source": [
    "%run 98___blab_tools.ipynb"
   ]
  },
  {
   "cell_type": "code",
   "execution_count": 2,
   "id": "c4a93482-04c5-49d9-be48-1c670d76efb7",
   "metadata": {
    "execution": {
     "iopub.execute_input": "2022-09-10T19:56:15.002093Z",
     "iopub.status.busy": "2022-09-10T19:56:15.001887Z",
     "iopub.status.idle": "2022-09-10T19:56:15.013527Z",
     "shell.execute_reply": "2022-09-10T19:56:15.013050Z"
    }
   },
   "outputs": [
    {
     "name": "stdout",
     "output_type": "stream",
     "text": [
      "Hello 1\n",
      "time: 9.14 ms (started: 2022-09-10 21:56:15 +02:00)\n"
     ]
    }
   ],
   "source": [
    "print('Hello 1')"
   ]
  }
 ],
 "metadata": {
  "kernelspec": {
   "display_name": "Python 3 (ipykernel)",
   "language": "python",
   "name": "python3"
  },
  "language_info": {
   "codemirror_mode": {
    "name": "ipython",
    "version": 3
   },
   "file_extension": ".py",
   "mimetype": "text/x-python",
   "name": "python",
   "nbconvert_exporter": "python",
   "pygments_lexer": "ipython3",
   "version": "3.8.12"
  }
 },
 "nbformat": 4,
 "nbformat_minor": 5
}
