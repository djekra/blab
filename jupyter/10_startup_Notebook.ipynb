{
 "cells": [
  {
   "cell_type": "markdown",
   "id": "64be0193-480b-4093-809f-4f05b74249d2",
   "metadata": {},
   "source": [
    "# startup Notebook"
   ]
  },
  {
   "cell_type": "code",
   "execution_count": 4,
   "id": "5cfac15a-9970-494d-9f19-905281426482",
   "metadata": {
    "execution": {
     "iopub.execute_input": "2025-03-22T12:02:16.068408Z",
     "iopub.status.busy": "2025-03-22T12:02:16.067430Z",
     "iopub.status.idle": "2025-03-22T12:02:16.171689Z",
     "shell.execute_reply": "2025-03-22T12:02:16.170818Z",
     "shell.execute_reply.started": "2025-03-22T12:02:16.068361Z"
    }
   },
   "outputs": [
    {
     "name": "stdout",
     "output_type": "stream",
     "text": [
      "running my_startup.ipynb\n",
      "environment['in_colab']     = False\n",
      "environment['dropbox_path'] = /media/me/LinuxDropbox/Dropbox\n",
      "environment['lib_path']     = /media/me/LinuxDropbox/Dropbox/31_Projekte/01_Python/libs\n",
      "Start Time: 13:02:16\n"
     ]
    },
    {
     "data": {
      "text/html": [
       "<img src onerror=\"var cell = this.closest('.jp-CodeCell');var editor = cell.querySelector('.jp-Editor');editor.style.background='Beige';this.parentNode.removeChild(this)\">"
      ],
      "text/plain": [
       "<IPython.core.display.HTML object>"
      ]
     },
     "metadata": {},
     "output_type": "display_data"
    }
   ],
   "source": [
    "# run my_startup.ipynb\n",
    "import blab\n",
    "# startup_notebook = blab.blab_startup() # default\n",
    "startup_notebook = 'my_startup.ipynb'    # custom\n",
    "%run $startup_notebook  "
   ]
  },
  {
   "cell_type": "code",
   "execution_count": 9,
   "id": "b58ecb89-0b2a-461f-a90f-3b94f16dd706",
   "metadata": {
    "execution": {
     "iopub.execute_input": "2025-03-22T19:56:35.969472Z",
     "iopub.status.busy": "2025-03-22T19:56:35.967961Z",
     "iopub.status.idle": "2025-03-22T19:56:35.997801Z",
     "shell.execute_reply": "2025-03-22T19:56:35.996638Z",
     "shell.execute_reply.started": "2025-03-22T19:56:35.969421Z"
    }
   },
   "outputs": [
    {
     "data": {
      "text/markdown": [
       "<span style=\"font-size:larger; margin-top: 15px; display: block;\">**blab_startup**():</span>\n",
       "\n",
       "Returns the path to the default startup notebook.\n",
       "\n",
       "This function retrieves the file path of the `blab_startup.ipynb` notebook,\n",
       "which contains essential configurations and initializations for using the\n",
       "`blab` library within a Jupyter Notebook environment.\n",
       "\n",
       "**Returns:**\n",
       "- `str`: The file path to the `blab_startup.ipynb` notebook.\n",
       "\n",
       "**Example:**\n",
       "To initialize `blab` in a Jupyter Notebook, use the following code in the\n",
       "first cell:\n",
       "```\n",
       "# blab init\n",
       "try:\n",
       "    import blab\n",
       "except ImportError as e:\n",
       "    !pip install blab\n",
       "    import blab\n",
       "startup_notebook = blab.blab_startup()\n",
       "%run $startup_notebook\n",
       "```"
      ],
      "text/plain": [
       "<IPython.core.display.Markdown object>"
      ]
     },
     "metadata": {},
     "output_type": "display_data"
    }
   ],
   "source": [
    "help(blab_startup)"
   ]
  }
 ],
 "metadata": {
  "kernelspec": {
   "display_name": "Python 3 (ipykernel)",
   "language": "python",
   "name": "python3"
  },
  "language_info": {
   "codemirror_mode": {
    "name": "ipython",
    "version": 3
   },
   "file_extension": ".py",
   "mimetype": "text/x-python",
   "name": "python",
   "nbconvert_exporter": "python",
   "pygments_lexer": "ipython3",
   "version": "3.12.9"
  }
 },
 "nbformat": 4,
 "nbformat_minor": 5
}
