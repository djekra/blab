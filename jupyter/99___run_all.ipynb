{
 "cells": [
  {
   "cell_type": "markdown",
   "id": "8e69225b",
   "metadata": {},
   "source": [
    "# Run all notebooks in this folder"
   ]
  },
  {
   "cell_type": "code",
   "execution_count": 1,
   "id": "fb545c1a-c45f-4ce4-8b40-27a7170679df",
   "metadata": {},
   "outputs": [],
   "source": [
    "# blab init\n",
    "try:\n",
    "    import blab\n",
    "    startup_notebook = blab.blab_startup()\n",
    "    %run $startup_notebook\n",
    "except:\n",
    "    pass"
   ]
  },
  {
   "cell_type": "code",
   "execution_count": 2,
   "id": "10e73dfb-d6ed-429e-9a8c-eab2b239bf56",
   "metadata": {},
   "outputs": [
    {
     "ename": "NameError",
     "evalue": "name 'search_notebooks' is not defined",
     "output_type": "error",
     "traceback": [
      "\u001b[1;31m---------------------------------------------------------------------------\u001b[0m",
      "\u001b[1;31mNameError\u001b[0m                                 Traceback (most recent call last)",
      "Cell \u001b[1;32mIn [2], line 2\u001b[0m\n\u001b[0;32m      1\u001b[0m \u001b[38;5;66;03m# search for 'raise Stop'\u001b[39;00m\n\u001b[1;32m----> 2\u001b[0m \u001b[43msearch_notebooks\u001b[49m(\u001b[38;5;124m'\u001b[39m\u001b[38;5;124mraise Stop\u001b[39m\u001b[38;5;124m'\u001b[39m, radius\u001b[38;5;241m=\u001b[39m\u001b[38;5;241m0\u001b[39m, exclude\u001b[38;5;241m=\u001b[39m[\u001b[38;5;124m'\u001b[39m\u001b[38;5;124m--\u001b[39m\u001b[38;5;124m'\u001b[39m,\u001b[38;5;124m'\u001b[39m\u001b[38;5;124m98\u001b[39m\u001b[38;5;124m'\u001b[39m,\u001b[38;5;124m'\u001b[39m\u001b[38;5;124m99\u001b[39m\u001b[38;5;124m'\u001b[39m,])\n",
      "\u001b[1;31mNameError\u001b[0m: name 'search_notebooks' is not defined"
     ]
    }
   ],
   "source": [
    "# search for 'raise Stop'\n",
    "search_notebooks('raise Stop', radius=0, exclude=['--','98','99',])"
   ]
  },
  {
   "cell_type": "code",
   "execution_count": null,
   "id": "5e342761-9970-4dc8-9a11-fcdd28723947",
   "metadata": {},
   "outputs": [],
   "source": [
    "# show doc\n",
    "?run_notebooks"
   ]
  },
  {
   "cell_type": "code",
   "execution_count": null,
   "id": "771cc4dd",
   "metadata": {},
   "outputs": [],
   "source": [
    "# run all notebooks, except this one\n",
    "run_notebooks( exclude=['99',], mode='force' )"
   ]
  },
  {
   "cell_type": "code",
   "execution_count": null,
   "id": "c9082d5a-3d68-4f71-9750-0265241bf187",
   "metadata": {},
   "outputs": [],
   "source": []
  }
 ],
 "metadata": {
  "kernelspec": {
   "display_name": "Python 3 (ipykernel)",
   "language": "python",
   "name": "python3"
  },
  "language_info": {
   "codemirror_mode": {
    "name": "ipython",
    "version": 3
   },
   "file_extension": ".py",
   "mimetype": "text/x-python",
   "name": "python",
   "nbconvert_exporter": "python",
   "pygments_lexer": "ipython3",
   "version": "3.9.13"
  }
 },
 "nbformat": 4,
 "nbformat_minor": 5
}
