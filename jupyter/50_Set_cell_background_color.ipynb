{
 "cells": [
  {
   "cell_type": "markdown",
   "id": "55aec25c-a242-40f0-9cfd-8b6757fbe190",
   "metadata": {},
   "source": [
    "# Set cell background color\n",
    "This is a method of the startup notebook blab.blab_startup()"
   ]
  },
  {
   "cell_type": "code",
   "execution_count": 6,
   "id": "8a6e9887-3b17-4a0f-93c7-d9ebf3ec4e75",
   "metadata": {
    "execution": {
     "iopub.execute_input": "2025-03-22T10:23:08.262689Z",
     "iopub.status.busy": "2025-03-22T10:23:08.262037Z",
     "iopub.status.idle": "2025-03-22T10:23:08.324654Z",
     "shell.execute_reply": "2025-03-22T10:23:08.323641Z",
     "shell.execute_reply.started": "2025-03-22T10:23:08.262650Z"
    }
   },
   "outputs": [
    {
     "name": "stdout",
     "output_type": "stream",
     "text": [
      "blab init\n",
      "environment['in_colab']     = False\n",
      "environment['dropbox_path'] = /media/me/LinuxDropbox/Dropbox\n",
      "environment['lib_path']     = /media/me/LinuxDropbox/Dropbox/31_Projekte/01_Python/libs\n",
      "Start Time: 11:23:08\n"
     ]
    },
    {
     "data": {
      "text/html": [
       "<img src onerror=\"var cell = this.closest('.jp-CodeCell');var editor = cell.querySelector('.jp-Editor');editor.style.background='Beige';this.parentNode.removeChild(this)\">"
      ],
      "text/plain": [
       "<IPython.core.display.HTML object>"
      ]
     },
     "metadata": {},
     "output_type": "display_data"
    }
   ],
   "source": [
    "# blab init\n",
    "try:\n",
    "    import blab\n",
    "except ImportError as e:\n",
    "    !pip install blab\n",
    "    import blab    \n",
    "startup_notebook = blab.blab_startup()\n",
    "%run $startup_notebook  "
   ]
  },
  {
   "cell_type": "markdown",
   "id": "a560be99-62c0-47ab-80ff-7af75a376d2b",
   "metadata": {
    "execution": {
     "iopub.execute_input": "2025-03-21T17:11:04.922566Z",
     "iopub.status.busy": "2025-03-21T17:11:04.921666Z",
     "iopub.status.idle": "2025-03-21T17:11:04.927779Z",
     "shell.execute_reply": "2025-03-21T17:11:04.926344Z",
     "shell.execute_reply.started": "2025-03-21T17:11:04.922531Z"
    }
   },
   "source": [
    "## bgc"
   ]
  },
  {
   "cell_type": "code",
   "execution_count": 7,
   "id": "c5d8e063-d902-4c2c-a417-04feea5cac1d",
   "metadata": {
    "execution": {
     "iopub.execute_input": "2025-03-22T10:23:08.326651Z",
     "iopub.status.busy": "2025-03-22T10:23:08.325986Z",
     "iopub.status.idle": "2025-03-22T10:23:08.381748Z",
     "shell.execute_reply": "2025-03-22T10:23:08.381204Z",
     "shell.execute_reply.started": "2025-03-22T10:23:08.326599Z"
    }
   },
   "outputs": [
    {
     "data": {
      "text/plain": [
       "\u001b[31mSignature:\u001b[39m bgc(color, cell=\u001b[38;5;28;01mNone\u001b[39;00m)\n",
       "\u001b[31mDocstring:\u001b[39m\n",
       "Sets the background color of the current Jupyter Notebook cell.\n",
       "\n",
       "This function uses JavaScript to modify the CSS style of the current cell,\n",
       "changing its background color.\n",
       "\n",
       "Args:\n",
       "    color (str): The desired background color. This can be a color name\n",
       "                 (e.g., 'red', 'blue', 'green') or a hexadecimal color code\n",
       "                 (e.g., '#FF0000', '#0000FF').\n",
       "\n",
       "Note:\n",
       "    This function does not work in Google Colab due to security restrictions.\n",
       "    It is intended for use in local Jupyter Notebook environments.\n",
       "\n",
       "Example:\n",
       "    To set the background color of the current cell to light blue:\n",
       "    >>> bgc('lightblue')\n",
       "\n",
       "    To set the background color of the current cell to orange:\n",
       "    >>> bgc('orange')\n",
       "\n",
       "    To set the background color of the current cell to a specific hex color:\n",
       "    >>> bgc('#FFA500')\n",
       "\u001b[31mFile:\u001b[39m      /tmp/ipykernel_248523/920698398.py\n",
       "\u001b[31mType:\u001b[39m      function"
      ]
     },
     "metadata": {},
     "output_type": "display_data"
    }
   ],
   "source": [
    "?bgc"
   ]
  },
  {
   "cell_type": "code",
   "execution_count": 8,
   "id": "d8bfeedd-559d-4582-8c7f-e5ff3b69a802",
   "metadata": {
    "execution": {
     "iopub.execute_input": "2025-03-22T10:23:08.382592Z",
     "iopub.status.busy": "2025-03-22T10:23:08.382385Z",
     "iopub.status.idle": "2025-03-22T10:23:08.397667Z",
     "shell.execute_reply": "2025-03-22T10:23:08.397058Z",
     "shell.execute_reply.started": "2025-03-22T10:23:08.382573Z"
    }
   },
   "outputs": [
    {
     "data": {
      "text/html": [
       "<img src onerror=\"var cell = this.closest('.jp-CodeCell');var editor = cell.querySelector('.jp-Editor');editor.style.background='LightSalmon';this.parentNode.removeChild(this)\">"
      ],
      "text/plain": [
       "<IPython.core.display.HTML object>"
      ]
     },
     "metadata": {},
     "output_type": "display_data"
    }
   ],
   "source": [
    "bgc('LightSalmon')"
   ]
  }
 ],
 "metadata": {
  "kernelspec": {
   "display_name": "Python 3 (ipykernel)",
   "language": "python",
   "name": "python3"
  },
  "language_info": {
   "codemirror_mode": {
    "name": "ipython",
    "version": 3
   },
   "file_extension": ".py",
   "mimetype": "text/x-python",
   "name": "python",
   "nbconvert_exporter": "python",
   "pygments_lexer": "ipython3",
   "version": "3.12.9"
  }
 },
 "nbformat": 4,
 "nbformat_minor": 5
}
