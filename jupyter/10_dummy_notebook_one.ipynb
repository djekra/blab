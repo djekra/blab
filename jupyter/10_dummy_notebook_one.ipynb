{
 "cells": [
  {
   "cell_type": "markdown",
   "id": "ade6e0ce-ab8d-4cd7-8ad6-c9f2f8f80411",
   "metadata": {},
   "source": [
    "# Notebook one\n",
    "This is no 1 of the jupyter notebooks run by 99___run_all.ipynb"
   ]
  },
  {
   "cell_type": "code",
   "execution_count": null,
   "id": "c4a93482-04c5-49d9-be48-1c670d76efb7",
   "metadata": {},
   "outputs": [],
   "source": [
    "print('Hello 1')"
   ]
  }
 ],
 "metadata": {
  "kernelspec": {
   "display_name": "Python 3 (ipykernel)",
   "language": "python",
   "name": "python3"
  },
  "language_info": {
   "codemirror_mode": {
    "name": "ipython",
    "version": 3
   },
   "file_extension": ".py",
   "mimetype": "text/x-python",
   "name": "python",
   "nbconvert_exporter": "python",
   "pygments_lexer": "ipython3",
   "version": "3.8.12"
  }
 },
 "nbformat": 4,
 "nbformat_minor": 5
}
