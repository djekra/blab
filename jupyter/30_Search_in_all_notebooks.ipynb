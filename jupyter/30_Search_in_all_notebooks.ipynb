{
 "cells": [
  {
   "cell_type": "code",
   "execution_count": 1,
   "id": "fb545c1a-c45f-4ce4-8b40-27a7170679df",
   "metadata": {
    "execution": {
     "iopub.execute_input": "2025-03-22T22:18:17.651895Z",
     "iopub.status.busy": "2025-03-22T22:18:17.651114Z",
     "iopub.status.idle": "2025-03-22T22:18:18.719651Z",
     "shell.execute_reply": "2025-03-22T22:18:18.719025Z",
     "shell.execute_reply.started": "2025-03-22T22:18:17.651847Z"
    }
   },
   "outputs": [
    {
     "name": "stdout",
     "output_type": "stream",
     "text": [
      "blab init\n",
      "environment['in_colab']     = False\n",
      "environment['dropbox_path'] = /media/me/LinuxDropbox/Dropbox\n",
      "environment['lib_path']     = /media/me/LinuxDropbox/Dropbox/31_Projekte/01_Python/libs\n",
      "Start Time: 23:18:18\n"
     ]
    },
    {
     "data": {
      "text/html": [
       "<img src onerror=\"var cell = this.closest('.jp-CodeCell');var editor = cell.querySelector('.jp-Editor');editor.style.background='Beige';this.parentNode.removeChild(this)\">"
      ],
      "text/plain": [
       "<IPython.core.display.HTML object>"
      ]
     },
     "metadata": {},
     "output_type": "display_data"
    }
   ],
   "source": [
    "# blab init\n",
    "try:\n",
    "    import blab\n",
    "except ImportError as e:\n",
    "    !pip install blab\n",
    "    import blab    \n",
    "startup_notebook = blab.blab_startup()\n",
    "%run $startup_notebook  "
   ]
  },
  {
   "cell_type": "markdown",
   "id": "8e69225b",
   "metadata": {},
   "source": [
    "# Search in all notebooks"
   ]
  },
  {
   "cell_type": "code",
   "execution_count": 2,
   "id": "de43bfbc-eec9-4021-b5ec-dc6127e18530",
   "metadata": {
    "execution": {
     "iopub.execute_input": "2025-03-22T22:18:18.720745Z",
     "iopub.status.busy": "2025-03-22T22:18:18.720293Z",
     "iopub.status.idle": "2025-03-22T22:18:18.735131Z",
     "shell.execute_reply": "2025-03-22T22:18:18.734329Z",
     "shell.execute_reply.started": "2025-03-22T22:18:18.720726Z"
    }
   },
   "outputs": [
    {
     "data": {
      "text/markdown": [
       "<span style=\"font-size:larger; margin-top: 15px; display: block;\">**search_notebooks**(query, radius=1, exclude=[], suffix='ipynb'):</span>\n",
       "\n",
       "Searches for a string within Jupyter Notebooks and Python files.\n",
       "\n",
       "This function performs a case-sensitive search for a given string (`query`)\n",
       "within the content of Jupyter Notebook files (`.ipynb`) and/or Python files\n",
       "(`.py`). The search encompasses code cells, markdown cells, and output cells\n",
       "in notebooks, as well as the content of Python files.\n",
       "\n",
       "**Args:**\n",
       "- `query (str)`: The string to search for. The search is case-sensitive.\n",
       "- `radius (int, optional)`: Specifies the search scope relative to the\n",
       "        current directory.\n",
       "    - 0: Search only in the current directory.\n",
       "    - 1: Search in the parent directory and all its subdirectories\n",
       "      (one level up).\n",
       "    - n: Search n levels up and all their subdirectories, respectively.\n",
       "    Defaults to 1.\n",
       "- `exclude (list of str, optional)`: A list of strings. Filenames\n",
       "        containing any of these strings will be excluded from the search.\n",
       "        Defaults to None (no files excluded).\n",
       "- `suffix (str, optional)`: The file suffix to search for.\n",
       "    - 'ipynb': Search only in Jupyter Notebook files (default).\n",
       "    - 'py': Search only in Python files.\n",
       "    - Any other string: Search for files with that suffix.\n",
       "\n",
       "**Returns:**\n",
       "    None (the function prints the filenames of the files containing the query)\n",
       "\n",
       "**Example:**\n",
       "- To search for \"my_variable\" in all notebooks in the current directory:<br>\n",
       "  `search_notebooks(\"my_variable\", radius=0)`\n",
       "\n",
       "- To search for \"my_class\" only in Python files in the current directory and\n",
       "    in the parent directory:<br>\n",
       "    `search_notebooks(\"my_class\", suffix=\"py\")`\n",
       "\n",
       "- To search for \"TODO\" in all notebooks up to two levels up, excluding files\n",
       "    containing \"old\":<br>\n",
       "    `search_notebooks(\"TODO\", radius=2, exclude=[\"old\"])`"
      ],
      "text/plain": [
       "<IPython.core.display.Markdown object>"
      ]
     },
     "metadata": {},
     "output_type": "display_data"
    }
   ],
   "source": [
    "help(search_notebooks)"
   ]
  },
  {
   "cell_type": "markdown",
   "id": "780d8f6f-9c5b-4cb0-bfc2-9e09c7464f7d",
   "metadata": {},
   "source": [
    "## Examples"
   ]
  },
  {
   "cell_type": "code",
   "execution_count": 3,
   "id": "10e73dfb-d6ed-429e-9a8c-eab2b239bf56",
   "metadata": {
    "execution": {
     "iopub.execute_input": "2025-03-22T22:18:18.736182Z",
     "iopub.status.busy": "2025-03-22T22:18:18.735864Z",
     "iopub.status.idle": "2025-03-22T22:18:18.753736Z",
     "shell.execute_reply": "2025-03-22T22:18:18.753031Z",
     "shell.execute_reply.started": "2025-03-22T22:18:18.736160Z"
    }
   },
   "outputs": [
    {
     "name": "stdout",
     "output_type": "stream",
     "text": [
      "../publish_blab.ipynb\n",
      "../jupyter/30_Search_in_all_notebooks.ipynb\n",
      "../jupyter/80_dummy_notebook_two.ipynb\n",
      "../jupyter/70_dummy_notebook_one.ipynb\n",
      "../tests/test_blab_tools_search_notebooks.py\n",
      "../src/blab/__main__.py\n"
     ]
    }
   ],
   "source": [
    "search_notebooks('Hello', radius=1, exclude=['--','98','99'])"
   ]
  },
  {
   "cell_type": "code",
   "execution_count": 7,
   "id": "33b3d052-3503-4da9-b1ba-503cd86cf279",
   "metadata": {
    "execution": {
     "iopub.execute_input": "2025-03-22T22:19:15.517401Z",
     "iopub.status.busy": "2025-03-22T22:19:15.516268Z",
     "iopub.status.idle": "2025-03-22T22:19:15.545546Z",
     "shell.execute_reply": "2025-03-22T22:19:15.544218Z",
     "shell.execute_reply.started": "2025-03-22T22:19:15.517337Z"
    }
   },
   "outputs": [
    {
     "name": "stdout",
     "output_type": "stream",
     "text": [
      "../tests/test_blab_tools_search_notebooks.py\n",
      "../src/blab/blab_tools.py\n",
      "../tests/test_blab_tools_search_notebooks.py\n",
      "../src/blab/blab_tools.py\n"
     ]
    }
   ],
   "source": [
    "search_notebooks('search_notebooks', radius=1, exclude=['--','98','99'], suffix='py')"
   ]
  },
  {
   "cell_type": "code",
   "execution_count": 8,
   "id": "6af2ca0a-dcb1-400b-ab0e-14a5c311726e",
   "metadata": {
    "execution": {
     "iopub.execute_input": "2025-03-22T22:19:17.570112Z",
     "iopub.status.busy": "2025-03-22T22:19:17.569437Z",
     "iopub.status.idle": "2025-03-22T22:19:17.632027Z",
     "shell.execute_reply": "2025-03-22T22:19:17.630582Z",
     "shell.execute_reply.started": "2025-03-22T22:19:17.570025Z"
    }
   },
   "outputs": [
    {
     "name": "stdout",
     "output_type": "stream",
     "text": [
      "30_Search_in_all_notebooks.ipynb\n",
      "40_raise_Stop.ipynb\n",
      "my_startup.ipynb\n"
     ]
    }
   ],
   "source": [
    "# search for 'sleep'\n",
    "search_notebooks('sleep', radius=0, exclude=['--','98','99',])"
   ]
  },
  {
   "cell_type": "code",
   "execution_count": null,
   "id": "72041230-2e12-407d-a310-e83bf3ba2fb8",
   "metadata": {},
   "outputs": [],
   "source": []
  }
 ],
 "metadata": {
  "kernelspec": {
   "display_name": "Python 3 (ipykernel)",
   "language": "python",
   "name": "python3"
  },
  "language_info": {
   "codemirror_mode": {
    "name": "ipython",
    "version": 3
   },
   "file_extension": ".py",
   "mimetype": "text/x-python",
   "name": "python",
   "nbconvert_exporter": "python",
   "pygments_lexer": "ipython3",
   "version": "3.12.9"
  }
 },
 "nbformat": 4,
 "nbformat_minor": 5
}
