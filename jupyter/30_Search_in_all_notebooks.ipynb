{
 "cells": [
  {
   "cell_type": "code",
   "execution_count": 1,
   "id": "fb545c1a-c45f-4ce4-8b40-27a7170679df",
   "metadata": {},
   "outputs": [
    {
     "name": "stdout",
     "output_type": "stream",
     "text": [
      "blab init\n",
      "blab found local libs at D:\\Dropbox\\31_Projekte\\01_Python\\libs\n",
      "Start Time: 14:58:58\n"
     ]
    },
    {
     "data": {
      "text/html": [
       "<img src onerror=\"var cell = this.closest('.jp-CodeCell');var editor = cell.querySelector('.jp-Editor');editor.style.background='Beige';this.parentNode.removeChild(this)\">"
      ],
      "text/plain": [
       "<IPython.core.display.HTML object>"
      ]
     },
     "metadata": {},
     "output_type": "display_data"
    },
    {
     "name": "stdout",
     "output_type": "stream",
     "text": [
      "time: 907 ms (started: 2022-10-23 14:58:58 +02:00)\n"
     ]
    }
   ],
   "source": [
    "# blab init\n",
    "try:\n",
    "    import blab\n",
    "except ImportError as e:\n",
    "    !pip install blab\n",
    "startup_notebook = blab.blab_startup()\n",
    "%run $startup_notebook  "
   ]
  },
  {
   "cell_type": "markdown",
   "id": "8e69225b",
   "metadata": {},
   "source": [
    "# Search in all notebooks"
   ]
  },
  {
   "cell_type": "code",
   "execution_count": 2,
   "id": "de43bfbc-eec9-4021-b5ec-dc6127e18530",
   "metadata": {},
   "outputs": [
    {
     "name": "stdout",
     "output_type": "stream",
     "text": [
      "time: 188 ms (started: 2022-10-23 14:58:59 +02:00)\n"
     ]
    },
    {
     "data": {
      "text/plain": [
       "\u001b[1;31mSignature:\u001b[0m \u001b[0msearch_notebooks\u001b[0m\u001b[1;33m(\u001b[0m\u001b[0mquery\u001b[0m\u001b[1;33m,\u001b[0m \u001b[0mradius\u001b[0m\u001b[1;33m=\u001b[0m\u001b[1;36m1\u001b[0m\u001b[1;33m,\u001b[0m \u001b[0mexclude\u001b[0m\u001b[1;33m=\u001b[0m\u001b[1;33m[\u001b[0m\u001b[1;33m]\u001b[0m\u001b[1;33m,\u001b[0m \u001b[0msuffix\u001b[0m\u001b[1;33m=\u001b[0m\u001b[1;34m'ipynb'\u001b[0m\u001b[1;33m)\u001b[0m\u001b[1;33m\u001b[0m\u001b[1;33m\u001b[0m\u001b[0m\n",
       "\u001b[1;31mDocstring:\u001b[0m\n",
       "Searches notebooks for occurrences of a string.\n",
       "Not only the code, but also all output is searched.\n",
       "The search is case sensitive.\n",
       "* radius=0: In the current directory    \n",
       "  radius=1: One dir up and recursive all descendants\n",
       "  ...\n",
       "  radius=5: Five dirs up and recursive all descendants    \n",
       "* exclude: List of strings that must not appear in the file name\n",
       "* suffix:  file suffix. suffix='py' searches for python files. \n",
       "\u001b[1;31mFile:\u001b[0m      d:\\dropbox\\31_projekte\\01_python\\git\\blab\\src\\blab\\blab_tools.py\n",
       "\u001b[1;31mType:\u001b[0m      function\n"
      ]
     },
     "metadata": {},
     "output_type": "display_data"
    }
   ],
   "source": [
    "?search_notebooks"
   ]
  },
  {
   "cell_type": "code",
   "execution_count": 3,
   "id": "10e73dfb-d6ed-429e-9a8c-eab2b239bf56",
   "metadata": {},
   "outputs": [
    {
     "name": "stdout",
     "output_type": "stream",
     "text": [
      "..\\publish.ipynb\n",
      "..\\jupyter\\10_dummy_notebook_one.ipynb\n",
      "..\\jupyter\\20_dummy_notebook_two.ipynb\n",
      "..\\jupyter\\30_Search_in_all_notebooks.ipynb\n",
      "..\\jupyter\\nb_out\\10_dummy_notebook_one.ipynb\n",
      "..\\jupyter\\nb_out\\10_Notebook_one.ipynb\n",
      "..\\jupyter\\nb_out\\20_dummy_notebook_two.ipynb\n",
      "..\\jupyter\\nb_out\\20_Notebook_two.ipynb\n",
      "..\\jupyter\\nb_out\\30_Search_in_all_notebooks.ipynb\n",
      "..\\src\\blab\\__main__.py\n",
      "time: 157 ms (started: 2022-10-23 14:58:59 +02:00)\n"
     ]
    }
   ],
   "source": [
    "search_notebooks('Hello', radius=1, exclude=['--','98','99'])"
   ]
  },
  {
   "cell_type": "code",
   "execution_count": 4,
   "id": "33b3d052-3503-4da9-b1ba-503cd86cf279",
   "metadata": {},
   "outputs": [
    {
     "name": "stdout",
     "output_type": "stream",
     "text": [
      "..\\src\\blab\\blab_tools.py\n",
      "..\\src\\blab\\blab_tools.py\n",
      "time: 141 ms (started: 2022-10-23 14:58:59 +02:00)\n"
     ]
    }
   ],
   "source": [
    "search_notebooks('search_notebooks', radius=1, exclude=['--','98','99'], suffix='py')"
   ]
  },
  {
   "cell_type": "code",
   "execution_count": null,
   "id": "b495084d-67a8-4fa4-847c-99fcc2ad5fe4",
   "metadata": {},
   "outputs": [],
   "source": []
  }
 ],
 "metadata": {
  "kernelspec": {
   "display_name": "Python 3 (ipykernel)",
   "language": "python",
   "name": "python3"
  },
  "language_info": {
   "codemirror_mode": {
    "name": "ipython",
    "version": 3
   },
   "file_extension": ".py",
   "mimetype": "text/x-python",
   "name": "python",
   "nbconvert_exporter": "python",
   "pygments_lexer": "ipython3",
   "version": "3.9.13"
  }
 },
 "nbformat": 4,
 "nbformat_minor": 5
}
