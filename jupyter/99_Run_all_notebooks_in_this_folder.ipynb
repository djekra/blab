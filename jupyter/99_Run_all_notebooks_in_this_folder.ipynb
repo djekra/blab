{
 "cells": [
  {
   "cell_type": "markdown",
   "id": "8e69225b",
   "metadata": {},
   "source": [
    "# Run all notebooks in this folder"
   ]
  },
  {
   "cell_type": "code",
   "execution_count": 1,
   "id": "fb545c1a-c45f-4ce4-8b40-27a7170679df",
   "metadata": {
    "execution": {
     "iopub.execute_input": "2025-03-22T22:28:51.040127Z",
     "iopub.status.busy": "2025-03-22T22:28:51.039855Z",
     "iopub.status.idle": "2025-03-22T22:28:52.194928Z",
     "shell.execute_reply": "2025-03-22T22:28:52.194383Z",
     "shell.execute_reply.started": "2025-03-22T22:28:51.040101Z"
    }
   },
   "outputs": [
    {
     "name": "stdout",
     "output_type": "stream",
     "text": [
      "blab init\n",
      "environment['in_colab']     = False\n",
      "environment['dropbox_path'] = /media/me/LinuxDropbox/Dropbox\n",
      "environment['lib_path']     = /media/me/LinuxDropbox/Dropbox/31_Projekte/01_Python/libs\n",
      "Start Time: 23:28:51\n"
     ]
    },
    {
     "data": {
      "text/html": [
       "<img src onerror=\"var cell = this.closest('.jp-CodeCell');var editor = cell.querySelector('.jp-Editor');editor.style.background='Beige';this.parentNode.removeChild(this)\">"
      ],
      "text/plain": [
       "<IPython.core.display.HTML object>"
      ]
     },
     "metadata": {},
     "output_type": "display_data"
    }
   ],
   "source": [
    "# blab init\n",
    "try:\n",
    "    import blab\n",
    "except ImportError as e:\n",
    "    !pip install blab\n",
    "    import blab    \n",
    "startup_notebook = blab.blab_startup()\n",
    "%run $startup_notebook  "
   ]
  },
  {
   "cell_type": "code",
   "execution_count": 2,
   "id": "5e342761-9970-4dc8-9a11-fcdd28723947",
   "metadata": {
    "execution": {
     "iopub.execute_input": "2025-03-22T22:28:52.196395Z",
     "iopub.status.busy": "2025-03-22T22:28:52.196001Z",
     "iopub.status.idle": "2025-03-22T22:28:52.211959Z",
     "shell.execute_reply": "2025-03-22T22:28:52.211171Z",
     "shell.execute_reply.started": "2025-03-22T22:28:52.196362Z"
    }
   },
   "outputs": [
    {
     "data": {
      "text/markdown": [
       "<span style=\"font-size:larger; margin-top: 15px; display: block;\">**run_notebooks**(exclude=[], out_dir='nb_out/', mode='list', cell_timeout=None):</span>\n",
       "\n",
       "Executes Jupyter Notebooks in the current directory using nbconvert.\n",
       "\n",
       "This function iterates through all Jupyter Notebook files (`.ipynb`) in the\n",
       "current directory, executes them sequentially in alphabetical order, and\n",
       "saves the executed notebooks to an output directory.\n",
       "\n",
       "**Args:**\n",
       "- `exclude (list of str, optional)`: A list of strings. Notebook filenames\n",
       "        containing any of these strings will be excluded from execution.\n",
       "        Defaults to None (no files excluded).\n",
       "- `out_dir (str, optional)`: The directory where the executed notebooks\n",
       "        will be saved. If the directory does not exist, it will be created.\n",
       "        Defaults to 'nb_out/'.\n",
       "- `mode (str, optional)`: Specifies the execution mode.\n",
       "    - `list`: Only lists the notebooks that would be executed. (Default)\n",
       "    - `run`: Executes the notebooks and stops on the first error.\n",
       "    - `force`: Executes all notebooks, ignoring errors.\n",
       "- `cell_timeout` (int, optional): The maximum execution time (in seconds)\n",
       "        allowed for each cell. If a cell exceeds this timeout, a\n",
       "        CellExecutionError will be raised. If None, no timeout is applied.\n",
       "        Defaults to None.\n",
       "\n",
       "**Returns:**\n",
       "    None\n",
       "\n",
       "**Raises:**\n",
       "    CellExecutionError: If a cell in a notebook fails to execute and the\n",
       "        mode is set to 'run'.\n",
       "\n",
       "**Notes:**\n",
       "- The notebooks are executed in the order they appear when sorted\n",
       "  alphabetically.\n",
       "- The original notebooks are not modified. The executed notebooks are\n",
       "  saved as new files in the out_dir.\n",
       "- If a notebook execution fails in 'force' mode, a warning is issued,\n",
       "  but the execution continues with the next notebook.\n",
       "- The elapsed time for each notebook execution is printed to the console.\n",
       "- The function prints a list of the notebooks that will be executed\n",
       "  before starting the execution.\n",
       "\n",
       "**Examples:**\n",
       "- To list the notebooks that would be executed:\n",
       "    `run_notebooks()`\n",
       "- To execute all notebooks and stop on the first error:\n",
       "    `run_notebooks(mode='run')`\n",
       "- To execute all notebooks, ignoring errors:\n",
       "    `run_notebooks(mode='force')`\n",
       "- To exclude notebooks containing 'draft' in their filename:\n",
       "    `run_notebooks(exclude=['draft'], mode='run')`\n",
       "- To set a timeout of 60 seconds for each cell:\n",
       "    `run_notebooks(mode='run', cell_timeout=60)`\n",
       "- To save the executed notebooks in a different directory:\n",
       "    `run_notebooks(out_dir='my_notebooks/', mode='run')`"
      ],
      "text/plain": [
       "<IPython.core.display.Markdown object>"
      ]
     },
     "metadata": {},
     "output_type": "display_data"
    }
   ],
   "source": [
    "# show doc\n",
    "help(run_notebooks)"
   ]
  },
  {
   "cell_type": "markdown",
   "id": "85cb90a0-9905-42e0-81a2-632c64f30a67",
   "metadata": {},
   "source": [
    "## Run all (mode='run')"
   ]
  },
  {
   "cell_type": "code",
   "execution_count": 3,
   "id": "771cc4dd",
   "metadata": {
    "execution": {
     "iopub.execute_input": "2025-03-22T22:28:52.212953Z",
     "iopub.status.busy": "2025-03-22T22:28:52.212646Z",
     "iopub.status.idle": "2025-03-22T22:29:05.515237Z",
     "shell.execute_reply": "2025-03-22T22:29:05.512201Z",
     "shell.execute_reply.started": "2025-03-22T22:28:52.212925Z"
    }
   },
   "outputs": [
    {
     "name": "stdout",
     "output_type": "stream",
     "text": [
      "Trying to run this 7 notebooks:\n",
      "         10_startup_Notebook.ipynb               \n",
      "         20_Render_Markup_Docstrings.ipynb       \n",
      "         30_Search_in_all_notebooks.ipynb        \n",
      "         50_Set_cell_background_color.ipynb      \n",
      "         70_dummy_notebook_one.ipynb             \n",
      "         80_dummy_notebook_two.ipynb             \n",
      "         my_startup.ipynb                        \n",
      "\n",
      "         10_startup_Notebook.ipynb                    2 secs\n",
      "  2 secs 20_Render_Markup_Docstrings.ipynb          \n",
      "  2 secs 30_Search_in_all_notebooks.ipynb           \n",
      "  2 secs 50_Set_cell_background_color.ipynb         \n",
      "  0 secs 70_dummy_notebook_one.ipynb                \n",
      "  0 secs 80_dummy_notebook_two.ipynb                \n",
      "  2 secs my_startup.ipynb                           \n",
      "============================================================ \n",
      "\n",
      "\n"
     ]
    },
    {
     "name": "stderr",
     "output_type": "stream",
     "text": [
      "Task exception was never retrieved\n",
      "future: <Task finished name='Task-246' coro=<NotebookClient._async_poll_kernel_alive() done, defined at /home/me/miniforge3/envs/python_07/lib/python3.12/site-packages/nbclient/client.py:821> exception=AssertionError()>\n",
      "Traceback (most recent call last):\n",
      "  File \"/home/me/miniforge3/envs/python_07/lib/python3.12/site-packages/nbclient/client.py\", line 825, in _async_poll_kernel_alive\n",
      "    await self._async_check_alive()\n",
      "  File \"/home/me/miniforge3/envs/python_07/lib/python3.12/site-packages/nbclient/client.py\", line 861, in _async_check_alive\n",
      "    assert self.kc is not None\n",
      "           ^^^^^^^^^^^^^^^^^^^\n",
      "AssertionError\n"
     ]
    }
   ],
   "source": [
    "# run all notebooks, except this one and the one with raise Stop\n",
    "run_notebooks( exclude=['99','40',], mode='run' )"
   ]
  },
  {
   "cell_type": "code",
   "execution_count": 4,
   "id": "4a0bc79b-ce03-4ddf-bd6d-aa6a24c9469d",
   "metadata": {
    "execution": {
     "iopub.execute_input": "2025-03-22T22:29:05.520648Z",
     "iopub.status.busy": "2025-03-22T22:29:05.519365Z",
     "iopub.status.idle": "2025-03-22T22:29:05.561399Z",
     "shell.execute_reply": "2025-03-22T22:29:05.559878Z",
     "shell.execute_reply.started": "2025-03-22T22:29:05.520538Z"
    }
   },
   "outputs": [
    {
     "name": "stdout",
     "output_type": "stream",
     "text": [
      "Task exception was never retrieved: This is caused by Ignore Errors (mode='force'), not the normal mode\n"
     ]
    }
   ],
   "source": [
    "print(\"Task exception was never retrieved: This is caused by Ignore Errors (mode='force'), not the normal mode\")"
   ]
  },
  {
   "cell_type": "markdown",
   "id": "5895b853-f607-48c1-bba4-a72495e2195d",
   "metadata": {},
   "source": [
    "## Ignore Errors (mode='force')\n",
    "experimental"
   ]
  },
  {
   "cell_type": "code",
   "execution_count": 5,
   "id": "27cb2c7f-77e2-47de-89a5-810f501a1fda",
   "metadata": {
    "execution": {
     "iopub.execute_input": "2025-03-22T22:29:05.562632Z",
     "iopub.status.busy": "2025-03-22T22:29:05.562322Z",
     "iopub.status.idle": "2025-03-22T22:29:23.327896Z",
     "shell.execute_reply": "2025-03-22T22:29:23.326818Z",
     "shell.execute_reply.started": "2025-03-22T22:29:05.562604Z"
    }
   },
   "outputs": [
    {
     "name": "stdout",
     "output_type": "stream",
     "text": [
      "Trying to run this 8 notebooks:\n",
      "         10_startup_Notebook.ipynb               \n",
      "         20_Render_Markup_Docstrings.ipynb       \n",
      "         30_Search_in_all_notebooks.ipynb        \n",
      "         40_raise_Stop.ipynb                     \n",
      "         50_Set_cell_background_color.ipynb      \n",
      "         70_dummy_notebook_one.ipynb             \n",
      "         80_dummy_notebook_two.ipynb             \n",
      "         my_startup.ipynb                        \n",
      "\n",
      "  2 secs 10_startup_Notebook.ipynb                  \n",
      "  2 secs 20_Render_Markup_Docstrings.ipynb          \n",
      "  2 secs 30_Search_in_all_notebooks.ipynb           \n",
      "         40_raise_Stop.ipynb                        "
     ]
    },
    {
     "name": "stderr",
     "output_type": "stream",
     "text": [
      "/media/me/LinuxDropbox/Dropbox/31_Projekte/01_Python/88_PyCharm/blab/src/blab/blab_tools.py:151: UserWarning: Error executing the notebook \"40_raise_Stop.ipynb\"\n",
      "\n",
      "\n",
      "  warnings.warn(msg)\n"
     ]
    },
    {
     "name": "stdout",
     "output_type": "stream",
     "text": [
      "  3 secs\n",
      "  2 secs 50_Set_cell_background_color.ipynb         \n",
      "  0 secs 70_dummy_notebook_one.ipynb                \n",
      "  1 secs 80_dummy_notebook_two.ipynb                \n",
      "  2 secs my_startup.ipynb                           \n",
      "============================================================ \n",
      "\n",
      "\n"
     ]
    }
   ],
   "source": [
    "# run all notebooks, except this one \n",
    "# and including the one with raise Stop\n",
    "run_notebooks( exclude=['99',], mode='force' )"
   ]
  },
  {
   "cell_type": "markdown",
   "id": "bc7ced19-3893-4b20-96c9-421aacf54c3c",
   "metadata": {},
   "source": [
    "# Run Pytest"
   ]
  },
  {
   "cell_type": "code",
   "execution_count": 6,
   "id": "40c7fcbd-adb2-4562-b271-ccecd7a40e3f",
   "metadata": {
    "execution": {
     "iopub.execute_input": "2025-03-22T22:29:23.329724Z",
     "iopub.status.busy": "2025-03-22T22:29:23.329453Z",
     "iopub.status.idle": "2025-03-22T22:29:25.849652Z",
     "shell.execute_reply": "2025-03-22T22:29:25.847540Z",
     "shell.execute_reply.started": "2025-03-22T22:29:23.329701Z"
    }
   },
   "outputs": [
    {
     "name": "stdout",
     "output_type": "stream",
     "text": [
      "\u001b[1m============================= test session starts ==============================\u001b[0m\n",
      "platform linux -- Python 3.12.9, pytest-8.3.5, pluggy-1.5.0\n",
      "rootdir: /media/me/LinuxDropbox/Dropbox/31_Projekte/01_Python/88_PyCharm/blab\n",
      "configfile: pyproject.toml\n",
      "plugins: dash-2.18.2, anyio-4.8.0\n",
      "collected 9 items / 5 deselected / 4 selected                                  \u001b[0m\n",
      "\n",
      "../tests/test_blab_tools.py \u001b[32m.\u001b[0m\u001b[32m                                            [ 25%]\u001b[0m\n",
      "../tests/test_blab_tools_search_notebooks.py \u001b[32m.\u001b[0m\u001b[32m.\u001b[0m\u001b[32m.\u001b[0m\u001b[32m                         [100%]\u001b[0m\n",
      "\n",
      "\u001b[32m======================= \u001b[32m\u001b[1m4 passed\u001b[0m, \u001b[33m5 deselected\u001b[0m\u001b[32m in 0.81s\u001b[0m\u001b[32m ========================\u001b[0m\n"
     ]
    }
   ],
   "source": [
    "!pytest ../tests/ -k \"not TestBlabToolsRunAll\""
   ]
  },
  {
   "cell_type": "markdown",
   "id": "4df00144-c575-4770-ac23-84c695dd6396",
   "metadata": {},
   "source": [
    "# Stop"
   ]
  },
  {
   "cell_type": "code",
   "execution_count": 7,
   "id": "c9082d5a-3d68-4f71-9750-0265241bf187",
   "metadata": {
    "execution": {
     "iopub.execute_input": "2025-03-22T22:29:25.856824Z",
     "iopub.status.busy": "2025-03-22T22:29:25.852983Z",
     "iopub.status.idle": "2025-03-22T22:29:25.919735Z",
     "shell.execute_reply": "2025-03-22T22:29:25.917354Z",
     "shell.execute_reply.started": "2025-03-22T22:29:25.856687Z"
    }
   },
   "outputs": [
    {
     "name": "stdout",
     "output_type": "stream",
     "text": [
      "Stop Time:  23:29:25\n",
      "Elapsed:    34 secs\n"
     ]
    },
    {
     "data": {
      "text/html": [
       "<img src onerror=\"var cell = this.closest('.jp-CodeCell');var editor = cell.querySelector('.jp-Editor');editor.style.background='DarkGray';this.parentNode.removeChild(this)\">"
      ],
      "text/plain": [
       "<IPython.core.display.HTML object>"
      ]
     },
     "metadata": {},
     "output_type": "display_data"
    }
   ],
   "source": [
    "raise Stop"
   ]
  }
 ],
 "metadata": {
  "kernelspec": {
   "display_name": "Python 3 (ipykernel)",
   "language": "python",
   "name": "python3"
  },
  "language_info": {
   "codemirror_mode": {
    "name": "ipython",
    "version": 3
   },
   "file_extension": ".py",
   "mimetype": "text/x-python",
   "name": "python",
   "nbconvert_exporter": "python",
   "pygments_lexer": "ipython3",
   "version": "3.12.9"
  }
 },
 "nbformat": 4,
 "nbformat_minor": 5
}
