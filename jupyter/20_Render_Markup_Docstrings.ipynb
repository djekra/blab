{
 "cells": [
  {
   "cell_type": "markdown",
   "id": "55aec25c-a242-40f0-9cfd-8b6757fbe190",
   "metadata": {},
   "source": [
    "# Render Markup Docstrings"
   ]
  },
  {
   "cell_type": "code",
   "execution_count": 2,
   "id": "8a6e9887-3b17-4a0f-93c7-d9ebf3ec4e75",
   "metadata": {
    "execution": {
     "iopub.execute_input": "2025-03-22T22:20:15.775164Z",
     "iopub.status.busy": "2025-03-22T22:20:15.774918Z",
     "iopub.status.idle": "2025-03-22T22:20:16.815689Z",
     "shell.execute_reply": "2025-03-22T22:20:16.815217Z",
     "shell.execute_reply.started": "2025-03-22T22:20:15.775145Z"
    }
   },
   "outputs": [
    {
     "name": "stdout",
     "output_type": "stream",
     "text": [
      "blab init\n",
      "environment['in_colab']     = False\n",
      "environment['dropbox_path'] = /media/me/LinuxDropbox/Dropbox\n",
      "environment['lib_path']     = /media/me/LinuxDropbox/Dropbox/31_Projekte/01_Python/libs\n",
      "Start Time: 23:20:16\n"
     ]
    },
    {
     "data": {
      "text/html": [
       "<img src onerror=\"var cell = this.closest('.jp-CodeCell');var editor = cell.querySelector('.jp-Editor');editor.style.background='Beige';this.parentNode.removeChild(this)\">"
      ],
      "text/plain": [
       "<IPython.core.display.HTML object>"
      ]
     },
     "metadata": {},
     "output_type": "display_data"
    }
   ],
   "source": [
    "# blab init\n",
    "try:\n",
    "    import blab\n",
    "except ImportError as e:\n",
    "    !pip install blab\n",
    "    import blab    \n",
    "startup_notebook = blab.blab_startup()\n",
    "%run $startup_notebook  "
   ]
  },
  {
   "cell_type": "markdown",
   "id": "adfa3767-8966-452b-92d4-d5cc3b38b103",
   "metadata": {},
   "source": [
    "## help"
   ]
  },
  {
   "cell_type": "code",
   "execution_count": 3,
   "id": "b6af143a-d00c-481d-aef4-6f5af88928b7",
   "metadata": {
    "execution": {
     "iopub.execute_input": "2025-03-22T22:20:16.816985Z",
     "iopub.status.busy": "2025-03-22T22:20:16.816653Z",
     "iopub.status.idle": "2025-03-22T22:20:16.832290Z",
     "shell.execute_reply": "2025-03-22T22:20:16.831603Z",
     "shell.execute_reply.started": "2025-03-22T22:20:16.816952Z"
    }
   },
   "outputs": [
    {
     "data": {
      "text/markdown": [
       "<span style=\"font-size:larger; margin-top: 15px; display: block;\">**help**(obj):</span>\n",
       "\n",
       "Displays the documentation of a Python object in a formatted Markdown output within a Jupyter Notebook.\n",
       "\n",
       "This function is designed to enhance the documentation experience within\n",
       "Jupyter Notebooks. It retrieves the signature and docstring of a given\n",
       "Python object (e.g., a function, class, or method) using the `inspect`\n",
       "module, interprets any Markdown formatting within the docstring, and\n",
       "displays the formatted documentation in the notebook.\n",
       "\n",
       "This allows developers to write rich, formatted documentation using Markdown\n",
       "within their docstrings, which can then be easily viewed and rendered\n",
       "directly within the notebook environment.\n",
       "\n",
       "**Args:**\n",
       "- obj (object): The Python object for which to display documentation.\n",
       "    This can be a function, class, method, module, or any other\n",
       "    inspectable Python object.\n",
       "\n",
       "**Returns:**\n",
       "- IPython.display.Markdown: The formatted documentation as a Markdown object,\n",
       "    which is automatically rendered by Jupyter Notebook.\n",
       "\n",
       "**Notes:**\n",
       "- The function uses `inspect.signature()` to retrieve the object's\n",
       "  signature and `inspect.getdoc()` to retrieve its docstring.\n",
       "\n",
       "**Examples:**\n",
       "- To display the documentation for the search_notebooks function:\n",
       "  `help(search_notebooks)`\n",
       "- To display the documentation for the run_notebooks function:\n",
       "    `help(run_notebooks)`\n",
       "- To display the documentation for the help function itself:\n",
       "    `help(help)`"
      ],
      "text/plain": [
       "<IPython.core.display.Markdown object>"
      ]
     },
     "metadata": {},
     "output_type": "display_data"
    }
   ],
   "source": [
    "help( blab.help )"
   ]
  },
  {
   "cell_type": "code",
   "execution_count": 4,
   "id": "30266195-2110-49b7-b88c-9be29cea678b",
   "metadata": {
    "execution": {
     "iopub.execute_input": "2025-03-22T22:20:16.833547Z",
     "iopub.status.busy": "2025-03-22T22:20:16.833225Z",
     "iopub.status.idle": "2025-03-22T22:20:16.851281Z",
     "shell.execute_reply": "2025-03-22T22:20:16.850464Z",
     "shell.execute_reply.started": "2025-03-22T22:20:16.833518Z"
    }
   },
   "outputs": [],
   "source": [
    "#blab.help( run_notebooks )"
   ]
  }
 ],
 "metadata": {
  "kernelspec": {
   "display_name": "Python 3 (ipykernel)",
   "language": "python",
   "name": "python3"
  },
  "language_info": {
   "codemirror_mode": {
    "name": "ipython",
    "version": 3
   },
   "file_extension": ".py",
   "mimetype": "text/x-python",
   "name": "python",
   "nbconvert_exporter": "python",
   "pygments_lexer": "ipython3",
   "version": "3.12.9"
  }
 },
 "nbformat": 4,
 "nbformat_minor": 5
}
