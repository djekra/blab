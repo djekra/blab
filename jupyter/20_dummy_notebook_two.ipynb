{
 "cells": [
  {
   "cell_type": "markdown",
   "id": "2ff8e365-1efd-4bd6-8070-72d849dd131d",
   "metadata": {},
   "source": [
    "# Notebook two\n",
    "This is no 2 of the jupyter notebooks run by 99___run_all.ipynb"
   ]
  },
  {
   "cell_type": "code",
   "execution_count": null,
   "id": "5909e918-5710-448c-ac9d-281bb4a2c25d",
   "metadata": {},
   "outputs": [],
   "source": [
    "print('Hello 2')"
   ]
  }
 ],
 "metadata": {
  "kernelspec": {
   "display_name": "Python 3 (ipykernel)",
   "language": "python",
   "name": "python3"
  },
  "language_info": {
   "codemirror_mode": {
    "name": "ipython",
    "version": 3
   },
   "file_extension": ".py",
   "mimetype": "text/x-python",
   "name": "python",
   "nbconvert_exporter": "python",
   "pygments_lexer": "ipython3",
   "version": "3.8.12"
  }
 },
 "nbformat": 4,
 "nbformat_minor": 5
}
