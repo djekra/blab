{
 "cells": [
  {
   "cell_type": "markdown",
   "id": "236dacc2-dbd8-4116-9796-bdb69ce39f62",
   "metadata": {},
   "source": [
    "# raise Stop"
   ]
  },
  {
   "cell_type": "code",
   "execution_count": 5,
   "id": "65fd9bcb-97ed-4630-b992-07a06ee53621",
   "metadata": {
    "execution": {
     "iopub.execute_input": "2025-03-22T20:12:20.755066Z",
     "iopub.status.busy": "2025-03-22T20:12:20.754613Z",
     "iopub.status.idle": "2025-03-22T20:12:20.845815Z",
     "shell.execute_reply": "2025-03-22T20:12:20.845028Z",
     "shell.execute_reply.started": "2025-03-22T20:12:20.755022Z"
    }
   },
   "outputs": [
    {
     "name": "stdout",
     "output_type": "stream",
     "text": [
      "blab init\n",
      "environment['in_colab']     = False\n",
      "environment['dropbox_path'] = /media/me/LinuxDropbox/Dropbox\n",
      "environment['lib_path']     = /media/me/LinuxDropbox/Dropbox/31_Projekte/01_Python/libs\n",
      "Start Time: 21:12:20\n"
     ]
    },
    {
     "data": {
      "text/html": [
       "<img src onerror=\"var cell = this.closest('.jp-CodeCell');var editor = cell.querySelector('.jp-Editor');editor.style.background='Beige';this.parentNode.removeChild(this)\">"
      ],
      "text/plain": [
       "<IPython.core.display.HTML object>"
      ]
     },
     "metadata": {},
     "output_type": "display_data"
    }
   ],
   "source": [
    "# blab init\n",
    "try:\n",
    "    import blab\n",
    "except ImportError as e:\n",
    "    !pip install blab\n",
    "    import blab    \n",
    "startup_notebook = blab.blab_startup()\n",
    "%run $startup_notebook  "
   ]
  },
  {
   "cell_type": "code",
   "execution_count": 6,
   "id": "f812c64c-1580-4783-9d28-7c41c675afb8",
   "metadata": {
    "execution": {
     "iopub.execute_input": "2025-03-22T20:12:20.847471Z",
     "iopub.status.busy": "2025-03-22T20:12:20.847061Z",
     "iopub.status.idle": "2025-03-22T20:12:21.985155Z",
     "shell.execute_reply": "2025-03-22T20:12:21.983531Z",
     "shell.execute_reply.started": "2025-03-22T20:12:20.847436Z"
    }
   },
   "outputs": [],
   "source": [
    "sleep(1.123)   "
   ]
  },
  {
   "cell_type": "code",
   "execution_count": 7,
   "id": "f10103c5-acff-4822-9222-afeeaa8ad0b1",
   "metadata": {
    "execution": {
     "iopub.execute_input": "2025-03-22T20:12:21.989751Z",
     "iopub.status.busy": "2025-03-22T20:12:21.987477Z",
     "iopub.status.idle": "2025-03-22T20:12:22.041981Z",
     "shell.execute_reply": "2025-03-22T20:12:22.040565Z",
     "shell.execute_reply.started": "2025-03-22T20:12:21.989645Z"
    }
   },
   "outputs": [
    {
     "data": {
      "text/markdown": [
       "<span style=\"font-size:larger; margin-top: 15px; display: block;\">**Stop**:</span>\n",
       "\n",
       "Exception to stop the execution of a Jupyter Notebook cell or a sequence of cells and display timing information.\n",
       "\n",
       "This exception is designed to be raised within a Jupyter Notebook cell to\n",
       "halt the execution of the current cell or a sequence of cells. It is\n",
       "particularly useful for interrupting long-running processes or for\n",
       "conditional execution where further processing is unnecessary.\n",
       "\n",
       "When `raise Stop` is called, the execution of the current cell is\n",
       "immediately terminated, and the control flow returns to the calling\n",
       "context. If the exception is not caught, the notebook execution will stop.\n",
       "\n",
       "In addition to stopping the execution, `raise Stop` automatically displays\n",
       "the current time (`Stop Time`) and the elapsed time (`Elapsed`). This makes \n",
       "it convenient to measure the execution time of a code block or an entire notebook."
      ],
      "text/plain": [
       "<IPython.core.display.Markdown object>"
      ]
     },
     "metadata": {},
     "output_type": "display_data"
    }
   ],
   "source": [
    "help(Stop)"
   ]
  },
  {
   "cell_type": "code",
   "execution_count": 8,
   "id": "4b5fc4f9-dc27-49d6-8242-a7ac145a9ae4",
   "metadata": {
    "execution": {
     "iopub.execute_input": "2025-03-22T20:12:22.044919Z",
     "iopub.status.busy": "2025-03-22T20:12:22.044317Z",
     "iopub.status.idle": "2025-03-22T20:12:22.076849Z",
     "shell.execute_reply": "2025-03-22T20:12:22.075410Z",
     "shell.execute_reply.started": "2025-03-22T20:12:22.044871Z"
    }
   },
   "outputs": [
    {
     "name": "stdout",
     "output_type": "stream",
     "text": [
      "Stop Time:  21:12:22\n",
      "Elapsed:    1 secs\n"
     ]
    },
    {
     "data": {
      "text/html": [
       "<img src onerror=\"var cell = this.closest('.jp-CodeCell');var editor = cell.querySelector('.jp-Editor');editor.style.background='DarkGray';this.parentNode.removeChild(this)\">"
      ],
      "text/plain": [
       "<IPython.core.display.HTML object>"
      ]
     },
     "metadata": {},
     "output_type": "display_data"
    }
   ],
   "source": [
    "raise Stop"
   ]
  },
  {
   "cell_type": "code",
   "execution_count": null,
   "id": "619056aa-bade-4394-94be-a92853b28753",
   "metadata": {
    "execution": {
     "iopub.status.busy": "2025-03-22T20:12:22.077592Z",
     "iopub.status.idle": "2025-03-22T20:12:22.077890Z",
     "shell.execute_reply": "2025-03-22T20:12:22.077765Z",
     "shell.execute_reply.started": "2025-03-22T20:12:22.077753Z"
    }
   },
   "outputs": [],
   "source": [
    "print('this code is not executed')"
   ]
  }
 ],
 "metadata": {
  "kernelspec": {
   "display_name": "Python 3 (ipykernel)",
   "language": "python",
   "name": "python3"
  },
  "language_info": {
   "codemirror_mode": {
    "name": "ipython",
    "version": 3
   },
   "file_extension": ".py",
   "mimetype": "text/x-python",
   "name": "python",
   "nbconvert_exporter": "python",
   "pygments_lexer": "ipython3",
   "version": "3.12.9"
  }
 },
 "nbformat": 4,
 "nbformat_minor": 5
}
