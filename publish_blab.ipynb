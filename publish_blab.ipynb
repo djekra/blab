{
 "cells": [
  {
   "cell_type": "markdown",
   "id": "161c7fec-18c9-4111-a964-ce15e4db5cbb",
   "metadata": {},
   "source": [
    "## Create README"
   ]
  },
  {
   "cell_type": "code",
   "execution_count": 1,
   "id": "037e1ac6-c843-4bdb-a6a6-4221f7194542",
   "metadata": {},
   "outputs": [
    {
     "name": "stdout",
     "output_type": "stream",
     "text": [
      "[NbConvertApp] Converting notebook README.ipynb to markdown\n",
      "[NbConvertApp] Writing 985 bytes to README.md\n"
     ]
    }
   ],
   "source": [
    "!jupyter nbconvert --ClearMetadataPreprocessor.enabled=True --ClearOutput.enabled=True --to markdown README.ipynb"
   ]
  },
  {
   "cell_type": "markdown",
   "id": "a4547f78-251b-45b5-a478-27dc691d193b",
   "metadata": {},
   "source": [
    "## Local install"
   ]
  },
  {
   "cell_type": "code",
   "execution_count": 2,
   "id": "b6454e67-63bf-4429-9f87-fbec0e99cfd1",
   "metadata": {},
   "outputs": [
    {
     "name": "stdout",
     "output_type": "stream",
     "text": [
      "Found existing installation: blab 0.1.5\n",
      "Uninstalling blab-0.1.5:\n",
      "  Successfully uninstalled blab-0.1.5\n"
     ]
    }
   ],
   "source": [
    "# uninstall\n",
    "!pip uninstall -y blab"
   ]
  },
  {
   "cell_type": "code",
   "execution_count": 3,
   "id": "f345ee0f-748f-40be-8578-8ad4ac4d9fe3",
   "metadata": {},
   "outputs": [
    {
     "name": "stdout",
     "output_type": "stream",
     "text": [
      "Obtaining file:///home/me/Data_Linux/Dropbox/31_Projekte/01_Python/git/blab\n",
      "  Installing build dependencies ... \u001b[?25ldone\n",
      "\u001b[?25h  Checking if build backend supports build_editable ... \u001b[?25ldone\n",
      "\u001b[?25h  Getting requirements to build editable ... \u001b[?25ldone\n",
      "\u001b[?25h  Preparing editable metadata (pyproject.toml) ... \u001b[?25ldone\n",
      "\u001b[?25hRequirement already satisfied: ipython-autotime in /home/me/mambaforge/envs/python_06/lib/python3.9/site-packages (from blab==0.1.5) (0.1)\n",
      "Requirement already satisfied: nbformat in /home/me/mambaforge/envs/python_06/lib/python3.9/site-packages (from blab==0.1.5) (5.7.0)\n",
      "Requirement already satisfied: bpyth in /home/me/mambaforge/envs/python_06/lib/python3.9/site-packages (from blab==0.1.5) (0.1.7)\n",
      "Requirement already satisfied: matplotlib in /home/me/mambaforge/envs/python_06/lib/python3.9/site-packages (from blab==0.1.5) (3.6.1)\n",
      "Requirement already satisfied: nbconvert in /home/me/mambaforge/envs/python_06/lib/python3.9/site-packages (from blab==0.1.5) (7.2.3)\n",
      "Requirement already satisfied: ipytest in /home/me/mambaforge/envs/python_06/lib/python3.9/site-packages (from blab==0.1.5) (0.12.0)\n",
      "Requirement already satisfied: pytest>=5.4 in /home/me/mambaforge/envs/python_06/lib/python3.9/site-packages (from ipytest->blab==0.1.5) (7.2.0)\n",
      "Requirement already satisfied: packaging in /home/me/mambaforge/envs/python_06/lib/python3.9/site-packages (from ipytest->blab==0.1.5) (21.3)\n",
      "Requirement already satisfied: ipython in /home/me/mambaforge/envs/python_06/lib/python3.9/site-packages (from ipytest->blab==0.1.5) (8.6.0)\n",
      "Requirement already satisfied: pillow>=6.2.0 in /home/me/mambaforge/envs/python_06/lib/python3.9/site-packages (from matplotlib->blab==0.1.5) (9.2.0)\n",
      "Requirement already satisfied: kiwisolver>=1.0.1 in /home/me/mambaforge/envs/python_06/lib/python3.9/site-packages (from matplotlib->blab==0.1.5) (1.4.4)\n",
      "Requirement already satisfied: numpy>=1.19 in /home/me/mambaforge/envs/python_06/lib/python3.9/site-packages (from matplotlib->blab==0.1.5) (1.23.4)\n",
      "Requirement already satisfied: fonttools>=4.22.0 in /home/me/mambaforge/envs/python_06/lib/python3.9/site-packages (from matplotlib->blab==0.1.5) (4.38.0)\n",
      "Requirement already satisfied: contourpy>=1.0.1 in /home/me/mambaforge/envs/python_06/lib/python3.9/site-packages (from matplotlib->blab==0.1.5) (1.0.6)\n",
      "Requirement already satisfied: cycler>=0.10 in /home/me/mambaforge/envs/python_06/lib/python3.9/site-packages (from matplotlib->blab==0.1.5) (0.11.0)\n",
      "Requirement already satisfied: pyparsing>=2.2.1 in /home/me/mambaforge/envs/python_06/lib/python3.9/site-packages (from matplotlib->blab==0.1.5) (3.0.9)\n",
      "Requirement already satisfied: python-dateutil>=2.7 in /home/me/mambaforge/envs/python_06/lib/python3.9/site-packages (from matplotlib->blab==0.1.5) (2.8.2)\n",
      "Requirement already satisfied: nbclient>=0.5.0 in /home/me/mambaforge/envs/python_06/lib/python3.9/site-packages (from nbconvert->blab==0.1.5) (0.7.0)\n",
      "Requirement already satisfied: mistune<3,>=2.0.3 in /home/me/mambaforge/envs/python_06/lib/python3.9/site-packages (from nbconvert->blab==0.1.5) (2.0.4)\n",
      "Requirement already satisfied: pandocfilters>=1.4.1 in /home/me/mambaforge/envs/python_06/lib/python3.9/site-packages (from nbconvert->blab==0.1.5) (1.5.0)\n",
      "Requirement already satisfied: jinja2>=3.0 in /home/me/mambaforge/envs/python_06/lib/python3.9/site-packages (from nbconvert->blab==0.1.5) (3.1.2)\n",
      "Requirement already satisfied: bleach in /home/me/mambaforge/envs/python_06/lib/python3.9/site-packages (from nbconvert->blab==0.1.5) (5.0.1)\n",
      "Requirement already satisfied: tinycss2 in /home/me/mambaforge/envs/python_06/lib/python3.9/site-packages (from nbconvert->blab==0.1.5) (1.2.1)\n",
      "Requirement already satisfied: beautifulsoup4 in /home/me/mambaforge/envs/python_06/lib/python3.9/site-packages (from nbconvert->blab==0.1.5) (4.11.1)\n",
      "Requirement already satisfied: importlib-metadata>=3.6 in /home/me/mambaforge/envs/python_06/lib/python3.9/site-packages (from nbconvert->blab==0.1.5) (5.0.0)\n",
      "Requirement already satisfied: defusedxml in /home/me/mambaforge/envs/python_06/lib/python3.9/site-packages (from nbconvert->blab==0.1.5) (0.7.1)\n",
      "Requirement already satisfied: jupyter-core>=4.7 in /home/me/mambaforge/envs/python_06/lib/python3.9/site-packages (from nbconvert->blab==0.1.5) (4.11.1)\n",
      "Requirement already satisfied: traitlets>=5.0 in /home/me/mambaforge/envs/python_06/lib/python3.9/site-packages (from nbconvert->blab==0.1.5) (5.5.0)\n",
      "Requirement already satisfied: jupyterlab-pygments in /home/me/mambaforge/envs/python_06/lib/python3.9/site-packages (from nbconvert->blab==0.1.5) (0.2.2)\n",
      "Requirement already satisfied: pygments>=2.4.1 in /home/me/mambaforge/envs/python_06/lib/python3.9/site-packages (from nbconvert->blab==0.1.5) (2.13.0)\n",
      "Requirement already satisfied: markupsafe>=2.0 in /home/me/mambaforge/envs/python_06/lib/python3.9/site-packages (from nbconvert->blab==0.1.5) (2.1.1)\n",
      "Requirement already satisfied: fastjsonschema in /home/me/mambaforge/envs/python_06/lib/python3.9/site-packages (from nbformat->blab==0.1.5) (2.16.2)\n",
      "Requirement already satisfied: jsonschema>=2.6 in /home/me/mambaforge/envs/python_06/lib/python3.9/site-packages (from nbformat->blab==0.1.5) (4.16.0)\n",
      "Requirement already satisfied: zipp>=0.5 in /home/me/mambaforge/envs/python_06/lib/python3.9/site-packages (from importlib-metadata>=3.6->nbconvert->blab==0.1.5) (3.10.0)\n",
      "Requirement already satisfied: pyrsistent!=0.17.0,!=0.17.1,!=0.17.2,>=0.14.0 in /home/me/mambaforge/envs/python_06/lib/python3.9/site-packages (from jsonschema>=2.6->nbformat->blab==0.1.5) (0.18.1)\n",
      "Requirement already satisfied: attrs>=17.4.0 in /home/me/mambaforge/envs/python_06/lib/python3.9/site-packages (from jsonschema>=2.6->nbformat->blab==0.1.5) (22.1.0)\n",
      "Requirement already satisfied: nest-asyncio in /home/me/mambaforge/envs/python_06/lib/python3.9/site-packages (from nbclient>=0.5.0->nbconvert->blab==0.1.5) (1.5.6)\n",
      "Requirement already satisfied: jupyter-client>=6.1.5 in /home/me/mambaforge/envs/python_06/lib/python3.9/site-packages (from nbclient>=0.5.0->nbconvert->blab==0.1.5) (7.4.4)\n",
      "Requirement already satisfied: iniconfig in /home/me/mambaforge/envs/python_06/lib/python3.9/site-packages (from pytest>=5.4->ipytest->blab==0.1.5) (1.1.1)\n",
      "Requirement already satisfied: pluggy<2.0,>=0.12 in /home/me/mambaforge/envs/python_06/lib/python3.9/site-packages (from pytest>=5.4->ipytest->blab==0.1.5) (1.0.0)\n",
      "Requirement already satisfied: exceptiongroup>=1.0.0rc8 in /home/me/mambaforge/envs/python_06/lib/python3.9/site-packages (from pytest>=5.4->ipytest->blab==0.1.5) (1.0.0)\n",
      "Requirement already satisfied: tomli>=1.0.0 in /home/me/mambaforge/envs/python_06/lib/python3.9/site-packages (from pytest>=5.4->ipytest->blab==0.1.5) (2.0.1)\n",
      "Requirement already satisfied: six>=1.5 in /home/me/mambaforge/envs/python_06/lib/python3.9/site-packages (from python-dateutil>=2.7->matplotlib->blab==0.1.5) (1.16.0)\n",
      "Requirement already satisfied: soupsieve>1.2 in /home/me/mambaforge/envs/python_06/lib/python3.9/site-packages (from beautifulsoup4->nbconvert->blab==0.1.5) (2.3.2.post1)\n",
      "Requirement already satisfied: webencodings in /home/me/mambaforge/envs/python_06/lib/python3.9/site-packages (from bleach->nbconvert->blab==0.1.5) (0.5.1)\n",
      "Requirement already satisfied: backcall in /home/me/mambaforge/envs/python_06/lib/python3.9/site-packages (from ipython->ipytest->blab==0.1.5) (0.2.0)\n",
      "Requirement already satisfied: matplotlib-inline in /home/me/mambaforge/envs/python_06/lib/python3.9/site-packages (from ipython->ipytest->blab==0.1.5) (0.1.6)\n",
      "Requirement already satisfied: pickleshare in /home/me/mambaforge/envs/python_06/lib/python3.9/site-packages (from ipython->ipytest->blab==0.1.5) (0.7.5)\n",
      "Requirement already satisfied: decorator in /home/me/mambaforge/envs/python_06/lib/python3.9/site-packages (from ipython->ipytest->blab==0.1.5) (5.1.1)\n",
      "Requirement already satisfied: stack-data in /home/me/mambaforge/envs/python_06/lib/python3.9/site-packages (from ipython->ipytest->blab==0.1.5) (0.5.1)\n",
      "Requirement already satisfied: jedi>=0.16 in /home/me/mambaforge/envs/python_06/lib/python3.9/site-packages (from ipython->ipytest->blab==0.1.5) (0.18.1)\n",
      "Requirement already satisfied: prompt-toolkit<3.1.0,>3.0.1 in /home/me/mambaforge/envs/python_06/lib/python3.9/site-packages (from ipython->ipytest->blab==0.1.5) (3.0.31)\n",
      "Requirement already satisfied: pexpect>4.3 in /home/me/mambaforge/envs/python_06/lib/python3.9/site-packages (from ipython->ipytest->blab==0.1.5) (4.8.0)\n",
      "Requirement already satisfied: parso<0.9.0,>=0.8.0 in /home/me/mambaforge/envs/python_06/lib/python3.9/site-packages (from jedi>=0.16->ipython->ipytest->blab==0.1.5) (0.8.3)\n",
      "Requirement already satisfied: tornado>=6.2 in /home/me/mambaforge/envs/python_06/lib/python3.9/site-packages (from jupyter-client>=6.1.5->nbclient>=0.5.0->nbconvert->blab==0.1.5) (6.2)\n",
      "Requirement already satisfied: entrypoints in /home/me/mambaforge/envs/python_06/lib/python3.9/site-packages (from jupyter-client>=6.1.5->nbclient>=0.5.0->nbconvert->blab==0.1.5) (0.4)\n",
      "Requirement already satisfied: pyzmq>=23.0 in /home/me/mambaforge/envs/python_06/lib/python3.9/site-packages (from jupyter-client>=6.1.5->nbclient>=0.5.0->nbconvert->blab==0.1.5) (24.0.1)\n",
      "Requirement already satisfied: ptyprocess>=0.5 in /home/me/mambaforge/envs/python_06/lib/python3.9/site-packages (from pexpect>4.3->ipython->ipytest->blab==0.1.5) (0.7.0)\n",
      "Requirement already satisfied: wcwidth in /home/me/mambaforge/envs/python_06/lib/python3.9/site-packages (from prompt-toolkit<3.1.0,>3.0.1->ipython->ipytest->blab==0.1.5) (0.2.5)\n",
      "Requirement already satisfied: executing in /home/me/mambaforge/envs/python_06/lib/python3.9/site-packages (from stack-data->ipython->ipytest->blab==0.1.5) (1.1.1)\n",
      "Requirement already satisfied: pure-eval in /home/me/mambaforge/envs/python_06/lib/python3.9/site-packages (from stack-data->ipython->ipytest->blab==0.1.5) (0.2.2)\n",
      "Requirement already satisfied: asttokens in /home/me/mambaforge/envs/python_06/lib/python3.9/site-packages (from stack-data->ipython->ipytest->blab==0.1.5) (2.0.8)\n",
      "Building wheels for collected packages: blab\n",
      "  Building editable for blab (pyproject.toml) ... \u001b[?25ldone\n",
      "\u001b[?25h  Created wheel for blab: filename=blab-0.1.5-0.editable-py3-none-any.whl size=2941 sha256=dc8629b3a2c5c1ab437990c11a84ce9574c1376d5263e78e3cc1e290e897b8ff\n",
      "  Stored in directory: /tmp/pip-ephem-wheel-cache-bmxrhk1a/wheels/d0/80/a2/491a40bfbf9a7f4cb2822537dbd9e3101d3f3d8a8a229156f0\n",
      "Successfully built blab\n",
      "Installing collected packages: blab\n",
      "Successfully installed blab-0.1.5\n"
     ]
    }
   ],
   "source": [
    "# install locally\n",
    "!python -m pip install -e ."
   ]
  },
  {
   "cell_type": "code",
   "execution_count": 4,
   "id": "8cec0e88-e3c2-4020-b9c9-176bcd255c46",
   "metadata": {},
   "outputs": [
    {
     "name": "stdout",
     "output_type": "stream",
     "text": [
      "Name: blab\n",
      "Version: 0.1.5\n",
      "Summary: Various Jupyter Tools\n",
      "Home-page: \n",
      "Author: \n",
      "Author-email: djekra <hopsalla@gmail.com>\n",
      "License: MIT\n",
      "Location: /home/me/mambaforge/envs/python_06/lib/python3.9/site-packages\n",
      "Requires: bpyth, ipytest, ipython-autotime, matplotlib, nbconvert, nbformat\n",
      "Required-by: pandasklar\n"
     ]
    }
   ],
   "source": [
    "# show\n",
    "!pip show blab"
   ]
  },
  {
   "cell_type": "code",
   "execution_count": 5,
   "id": "baf8f2b6-2bb4-4460-b654-f4454bfec48f",
   "metadata": {},
   "outputs": [],
   "source": [
    "# test import\n",
    "# Wenn dies failed: Restart Kernel and Run all Cells\n",
    "import blab"
   ]
  },
  {
   "cell_type": "code",
   "execution_count": 6,
   "id": "43f0bbdd-2df6-4534-a86e-77657d0329da",
   "metadata": {},
   "outputs": [
    {
     "name": "stdout",
     "output_type": "stream",
     "text": [
      "Hello blab 0.1.5\n"
     ]
    }
   ],
   "source": [
    "# test script\n",
    "!blab"
   ]
  },
  {
   "cell_type": "code",
   "execution_count": 7,
   "id": "4ee9af0c-5d40-48c7-8c8d-61526a6f05d5",
   "metadata": {},
   "outputs": [
    {
     "name": "stdout",
     "output_type": "stream",
     "text": [
      "blab init\n",
      "environment['in_colab']     = False\n",
      "environment['dropbox_path'] = /home/me/Data_Linux/Dropbox\n",
      "environment['lib_path']     = /home/me/Data_Linux/Dropbox/31_Projekte/01_Python/libs\n",
      "Start Time: 23:53:38\n"
     ]
    },
    {
     "data": {
      "text/html": [
       "<img src onerror=\"var cell = this.closest('.jp-CodeCell');var editor = cell.querySelector('.jp-Editor');editor.style.background='Beige';this.parentNode.removeChild(this)\">"
      ],
      "text/plain": [
       "<IPython.core.display.HTML object>"
      ]
     },
     "metadata": {},
     "output_type": "display_data"
    },
    {
     "name": "stdout",
     "output_type": "stream",
     "text": [
      "time: 397 ms\n"
     ]
    }
   ],
   "source": [
    "# blab init\n",
    "try:\n",
    "    import blab\n",
    "    startup_notebook = blab.blab_startup()\n",
    "    %run $startup_notebook\n",
    "except:\n",
    "    pass"
   ]
  },
  {
   "cell_type": "code",
   "execution_count": 8,
   "id": "78535e87-dbc9-4dd4-9c30-1db7b581484d",
   "metadata": {},
   "outputs": [
    {
     "name": "stdout",
     "output_type": "stream",
     "text": [
      "Stop Time:  23:53:39\n",
      "Elapsed:    0 secs\n"
     ]
    },
    {
     "data": {
      "text/html": [
       "<img src onerror=\"var cell = this.closest('.jp-CodeCell');var editor = cell.querySelector('.jp-Editor');editor.style.background='DarkGray';this.parentNode.removeChild(this)\">"
      ],
      "text/plain": [
       "<IPython.core.display.HTML object>"
      ]
     },
     "metadata": {},
     "output_type": "display_data"
    },
    {
     "name": "stdout",
     "output_type": "stream",
     "text": [
      "time: 20 ms\n"
     ]
    }
   ],
   "source": [
    "raise Stop"
   ]
  },
  {
   "cell_type": "markdown",
   "id": "efa2c656-785f-45b7-a3b5-a9ae251bce06",
   "metadata": {},
   "source": [
    "## build"
   ]
  },
  {
   "cell_type": "code",
   "execution_count": 9,
   "id": "f20cbd4d-b38b-4bc9-a750-b14851fb174b",
   "metadata": {},
   "outputs": [
    {
     "name": "stdout",
     "output_type": "stream",
     "text": [
      "time: 3.36 s\n"
     ]
    }
   ],
   "source": [
    "!pip install -q build"
   ]
  },
  {
   "cell_type": "code",
   "execution_count": 10,
   "id": "c745f5da-d6e4-408a-aa73-1166ccc6fd5b",
   "metadata": {},
   "outputs": [
    {
     "name": "stdout",
     "output_type": "stream",
     "text": [
      "\u001b[1m* Creating venv isolated environment...\u001b[0m\n",
      "\u001b[1m* Installing packages in isolated environment... (setuptools>=61.0.0, wheel)\u001b[0m\n",
      "\u001b[1m* Getting build dependencies for sdist...\u001b[0m\n",
      "/tmp/build-env-9nwih61a/lib/python3.9/site-packages/setuptools/config/pyprojecttoml.py:108: _BetaConfiguration: Support for `[tool.setuptools]` in `pyproject.toml` is still *beta*.\n",
      "  warnings.warn(msg, _BetaConfiguration)\n",
      "running egg_info\n",
      "writing src/blab.egg-info/PKG-INFO\n",
      "writing dependency_links to src/blab.egg-info/dependency_links.txt\n",
      "writing entry points to src/blab.egg-info/entry_points.txt\n",
      "writing requirements to src/blab.egg-info/requires.txt\n",
      "writing top-level names to src/blab.egg-info/top_level.txt\n",
      "reading manifest file 'src/blab.egg-info/SOURCES.txt'\n",
      "adding license file 'LICENSE'\n",
      "writing manifest file 'src/blab.egg-info/SOURCES.txt'\n",
      "\u001b[1m* Building sdist...\u001b[0m\n",
      "/tmp/build-env-9nwih61a/lib/python3.9/site-packages/setuptools/config/pyprojecttoml.py:108: _BetaConfiguration: Support for `[tool.setuptools]` in `pyproject.toml` is still *beta*.\n",
      "  warnings.warn(msg, _BetaConfiguration)\n",
      "running sdist\n",
      "running egg_info\n",
      "writing src/blab.egg-info/PKG-INFO\n",
      "writing dependency_links to src/blab.egg-info/dependency_links.txt\n",
      "writing entry points to src/blab.egg-info/entry_points.txt\n",
      "writing requirements to src/blab.egg-info/requires.txt\n",
      "writing top-level names to src/blab.egg-info/top_level.txt\n",
      "reading manifest file 'src/blab.egg-info/SOURCES.txt'\n",
      "adding license file 'LICENSE'\n",
      "writing manifest file 'src/blab.egg-info/SOURCES.txt'\n",
      "running check\n",
      "creating blab-0.1.5\n",
      "creating blab-0.1.5/src\n",
      "creating blab-0.1.5/src/blab\n",
      "creating blab-0.1.5/src/blab.egg-info\n",
      "copying files to blab-0.1.5...\n",
      "copying LICENSE -> blab-0.1.5\n",
      "copying README.md -> blab-0.1.5\n",
      "copying pyproject.toml -> blab-0.1.5\n",
      "copying src/blab/1.txt -> blab-0.1.5/src/blab\n",
      "copying src/blab/__init__.py -> blab-0.1.5/src/blab\n",
      "copying src/blab/__main__.py -> blab-0.1.5/src/blab\n",
      "copying src/blab/blab_startup.ipynb -> blab-0.1.5/src/blab\n",
      "copying src/blab/blab_tools.py -> blab-0.1.5/src/blab\n",
      "copying src/blab.egg-info/PKG-INFO -> blab-0.1.5/src/blab.egg-info\n",
      "copying src/blab.egg-info/SOURCES.txt -> blab-0.1.5/src/blab.egg-info\n",
      "copying src/blab.egg-info/dependency_links.txt -> blab-0.1.5/src/blab.egg-info\n",
      "copying src/blab.egg-info/entry_points.txt -> blab-0.1.5/src/blab.egg-info\n",
      "copying src/blab.egg-info/requires.txt -> blab-0.1.5/src/blab.egg-info\n",
      "copying src/blab.egg-info/top_level.txt -> blab-0.1.5/src/blab.egg-info\n",
      "Writing blab-0.1.5/setup.cfg\n",
      "Creating tar archive\n",
      "removing 'blab-0.1.5' (and everything under it)\n",
      "\u001b[1m* Building wheel from sdist\u001b[0m\n",
      "\u001b[1m* Creating venv isolated environment...\u001b[0m\n",
      "\u001b[1m* Installing packages in isolated environment... (setuptools>=61.0.0, wheel)\u001b[0m\n",
      "\u001b[1m* Getting build dependencies for wheel...\u001b[0m\n",
      "/tmp/build-env-md9m1vm1/lib/python3.9/site-packages/setuptools/config/pyprojecttoml.py:108: _BetaConfiguration: Support for `[tool.setuptools]` in `pyproject.toml` is still *beta*.\n",
      "  warnings.warn(msg, _BetaConfiguration)\n",
      "running egg_info\n",
      "writing src/blab.egg-info/PKG-INFO\n",
      "writing dependency_links to src/blab.egg-info/dependency_links.txt\n",
      "writing entry points to src/blab.egg-info/entry_points.txt\n",
      "writing requirements to src/blab.egg-info/requires.txt\n",
      "writing top-level names to src/blab.egg-info/top_level.txt\n",
      "reading manifest file 'src/blab.egg-info/SOURCES.txt'\n",
      "adding license file 'LICENSE'\n",
      "writing manifest file 'src/blab.egg-info/SOURCES.txt'\n",
      "\u001b[1m* Installing packages in isolated environment... (wheel)\u001b[0m\n",
      "\u001b[1m* Building wheel...\u001b[0m\n",
      "/tmp/build-env-md9m1vm1/lib/python3.9/site-packages/setuptools/config/pyprojecttoml.py:108: _BetaConfiguration: Support for `[tool.setuptools]` in `pyproject.toml` is still *beta*.\n",
      "  warnings.warn(msg, _BetaConfiguration)\n",
      "running bdist_wheel\n",
      "running build\n",
      "running build_py\n",
      "creating build\n",
      "creating build/lib\n",
      "creating build/lib/blab\n",
      "copying src/blab/__main__.py -> build/lib/blab\n",
      "copying src/blab/blab_tools.py -> build/lib/blab\n",
      "copying src/blab/__init__.py -> build/lib/blab\n",
      "running egg_info\n",
      "writing src/blab.egg-info/PKG-INFO\n",
      "writing dependency_links to src/blab.egg-info/dependency_links.txt\n",
      "writing entry points to src/blab.egg-info/entry_points.txt\n",
      "writing requirements to src/blab.egg-info/requires.txt\n",
      "writing top-level names to src/blab.egg-info/top_level.txt\n",
      "reading manifest file 'src/blab.egg-info/SOURCES.txt'\n",
      "adding license file 'LICENSE'\n",
      "writing manifest file 'src/blab.egg-info/SOURCES.txt'\n",
      "copying src/blab/1.txt -> build/lib/blab\n",
      "copying src/blab/blab_startup.ipynb -> build/lib/blab\n",
      "installing to build/bdist.linux-x86_64/wheel\n",
      "running install\n",
      "running install_lib\n",
      "creating build/bdist.linux-x86_64\n",
      "creating build/bdist.linux-x86_64/wheel\n",
      "creating build/bdist.linux-x86_64/wheel/blab\n",
      "copying build/lib/blab/__main__.py -> build/bdist.linux-x86_64/wheel/blab\n",
      "copying build/lib/blab/blab_tools.py -> build/bdist.linux-x86_64/wheel/blab\n",
      "copying build/lib/blab/1.txt -> build/bdist.linux-x86_64/wheel/blab\n",
      "copying build/lib/blab/blab_startup.ipynb -> build/bdist.linux-x86_64/wheel/blab\n",
      "copying build/lib/blab/__init__.py -> build/bdist.linux-x86_64/wheel/blab\n",
      "running install_egg_info\n",
      "Copying src/blab.egg-info to build/bdist.linux-x86_64/wheel/blab-0.1.5-py3.9.egg-info\n",
      "running install_scripts\n",
      "creating build/bdist.linux-x86_64/wheel/blab-0.1.5.dist-info/WHEEL\n",
      "creating '/home/me/Data_Linux/Dropbox/31_Projekte/01_Python/git/blab/dist/.tmp-w1g6igaj/blab-0.1.5-py3-none-any.whl' and adding 'build/bdist.linux-x86_64/wheel' to it\n",
      "adding 'blab/1.txt'\n",
      "adding 'blab/__init__.py'\n",
      "adding 'blab/__main__.py'\n",
      "adding 'blab/blab_startup.ipynb'\n",
      "adding 'blab/blab_tools.py'\n",
      "adding 'blab-0.1.5.dist-info/LICENSE'\n",
      "adding 'blab-0.1.5.dist-info/METADATA'\n",
      "adding 'blab-0.1.5.dist-info/WHEEL'\n",
      "adding 'blab-0.1.5.dist-info/entry_points.txt'\n",
      "adding 'blab-0.1.5.dist-info/top_level.txt'\n",
      "adding 'blab-0.1.5.dist-info/RECORD'\n",
      "removing build/bdist.linux-x86_64/wheel\n",
      "\u001b[1m\u001b[92mSuccessfully built \u001b[4mblab-0.1.5.tar.gz\u001b[0m\u001b[1m\u001b[92m and \u001b[4mblab-0.1.5-py3-none-any.whl\u001b[0m\u001b[1m\u001b[92m\u001b[0m\n",
      "time: 15.3 s\n"
     ]
    }
   ],
   "source": [
    "!python -m build"
   ]
  },
  {
   "cell_type": "markdown",
   "id": "25343284-bf36-4d18-8dba-1d765348763f",
   "metadata": {},
   "source": [
    "## Publish on github"
   ]
  },
  {
   "cell_type": "code",
   "execution_count": 11,
   "id": "d444d5d8-ddb6-451e-9300-fa6424dde8f0",
   "metadata": {},
   "outputs": [
    {
     "name": "stdout",
     "output_type": "stream",
     "text": [
      "Auf Branch master\n",
      "Änderungen, die nicht zum Commit vorgemerkt sind:\n",
      "  (benutzen Sie \"git add <Datei>...\", um die Änderungen zum Commit vorzumerken)\n",
      "  (benutzen Sie \"git restore <Datei>...\", um die Änderungen im Arbeitsverzeichnis zu verwerfen)\n",
      "\t\u001b[31mgeändert:       publish_blab.ipynb\u001b[m\n",
      "\t\u001b[31mgeändert:       pyproject.toml\u001b[m\n",
      "\t\u001b[31mgeändert:       src/blab/blab_startup.ipynb\u001b[m\n",
      "\n",
      "keine Änderungen zum Commit vorgemerkt (benutzen Sie \"git add\" und/oder \"git commit -a\")\n",
      "time: 157 ms\n"
     ]
    }
   ],
   "source": [
    "!git status"
   ]
  },
  {
   "cell_type": "code",
   "execution_count": 12,
   "id": "a9a7e740-2661-43c1-9743-bef78afaba54",
   "metadata": {},
   "outputs": [
    {
     "name": "stdout",
     "output_type": "stream",
     "text": [
      "time: 142 ms\n"
     ]
    }
   ],
   "source": [
    "!git add --all"
   ]
  },
  {
   "cell_type": "code",
   "execution_count": 13,
   "id": "f5ed7e73-e40b-4de9-858d-54a1530018cb",
   "metadata": {},
   "outputs": [
    {
     "name": "stdout",
     "output_type": "stream",
     "text": [
      "[master eba663b] ֹ\n",
      " 3 files changed, 141 insertions(+), 119 deletions(-)\n",
      "time: 140 ms\n"
     ]
    }
   ],
   "source": [
    "# Commit message eintragen und run\n",
    "!git commit -m \"ֹ\""
   ]
  },
  {
   "cell_type": "code",
   "execution_count": 14,
   "id": "2aba6515-d4a9-4a7e-a47a-d1c7aa881c36",
   "metadata": {},
   "outputs": [
    {
     "name": "stdout",
     "output_type": "stream",
     "text": [
      "Stop Time:  23:54:19\n",
      "Elapsed:    40 secs\n"
     ]
    },
    {
     "data": {
      "text/html": [
       "<img src onerror=\"var cell = this.closest('.jp-CodeCell');var editor = cell.querySelector('.jp-Editor');editor.style.background='DarkGray';this.parentNode.removeChild(this)\">"
      ],
      "text/plain": [
       "<IPython.core.display.HTML object>"
      ]
     },
     "metadata": {},
     "output_type": "display_data"
    },
    {
     "name": "stdout",
     "output_type": "stream",
     "text": [
      "time: 19.8 ms\n"
     ]
    }
   ],
   "source": [
    "raise Stop"
   ]
  },
  {
   "cell_type": "markdown",
   "id": "e62fe388-b5f9-408c-b6e6-b6e87eba5876",
   "metadata": {},
   "source": [
    "* Terminal ins Verzeichnis öffnen\n",
    "* `git push origin master`\n",
    "* Personal Access Token verwenden statt Passwort\n",
    "* überprüfen: https://github.com/djekra/blab"
   ]
  },
  {
   "cell_type": "markdown",
   "id": "c7654839-a06f-4024-a72f-5e081082af6b",
   "metadata": {},
   "source": [
    "## Publish on pypi.org"
   ]
  },
  {
   "cell_type": "markdown",
   "id": "2b5b5f7b-8225-4b21-b483-bcad5702b726",
   "metadata": {},
   "source": [
    "* `python -m twine upload --skip-existing dist/*` \n",
    "* Version überprüfen: https://pypi.org/project/blab/"
   ]
  },
  {
   "cell_type": "code",
   "execution_count": 15,
   "id": "42124620-1dac-401c-9780-8b78c5f1c9e2",
   "metadata": {},
   "outputs": [
    {
     "name": "stdout",
     "output_type": "stream",
     "text": [
      "time: 13.4 ms\n"
     ]
    }
   ],
   "source": [
    "# Nicht nötig\n",
    "# Publish on test.pypi.org\n",
    "# python -m twine upload --repository testpypi --skip-existing dist/* "
   ]
  },
  {
   "cell_type": "markdown",
   "id": "16c9f64f-40af-41ac-90db-f802bb8f73c1",
   "metadata": {},
   "source": [
    "## Test from PyPi"
   ]
  },
  {
   "cell_type": "code",
   "execution_count": 16,
   "id": "3af8896f-3f40-4d28-a365-fc4c0cb4228f",
   "metadata": {},
   "outputs": [
    {
     "name": "stdout",
     "output_type": "stream",
     "text": [
      "Found existing installation: blab 0.1.5\n",
      "Uninstalling blab-0.1.5:\n",
      "  Successfully uninstalled blab-0.1.5\n",
      "time: 1.32 s\n"
     ]
    }
   ],
   "source": [
    "# uninstall\n",
    "!pip uninstall -y blab"
   ]
  },
  {
   "cell_type": "code",
   "execution_count": 17,
   "id": "8ea8f83c-6970-424a-993d-f8e378e5faa9",
   "metadata": {},
   "outputs": [
    {
     "name": "stdout",
     "output_type": "stream",
     "text": [
      "Collecting blab\n",
      "  Downloading blab-0.1.5-py3-none-any.whl (7.9 kB)\n",
      "Requirement already satisfied: nbformat in /home/me/mambaforge/envs/python_06/lib/python3.9/site-packages (from blab) (5.7.0)\n",
      "Requirement already satisfied: matplotlib in /home/me/mambaforge/envs/python_06/lib/python3.9/site-packages (from blab) (3.6.1)\n",
      "Requirement already satisfied: ipython-autotime in /home/me/mambaforge/envs/python_06/lib/python3.9/site-packages (from blab) (0.1)\n",
      "Requirement already satisfied: ipytest in /home/me/mambaforge/envs/python_06/lib/python3.9/site-packages (from blab) (0.12.0)\n",
      "Requirement already satisfied: nbconvert in /home/me/mambaforge/envs/python_06/lib/python3.9/site-packages (from blab) (7.2.3)\n",
      "Requirement already satisfied: bpyth in /home/me/mambaforge/envs/python_06/lib/python3.9/site-packages (from blab) (0.1.7)\n",
      "Requirement already satisfied: ipython in /home/me/mambaforge/envs/python_06/lib/python3.9/site-packages (from ipytest->blab) (8.6.0)\n",
      "Requirement already satisfied: pytest>=5.4 in /home/me/mambaforge/envs/python_06/lib/python3.9/site-packages (from ipytest->blab) (7.2.0)\n",
      "Requirement already satisfied: packaging in /home/me/mambaforge/envs/python_06/lib/python3.9/site-packages (from ipytest->blab) (21.3)\n",
      "Requirement already satisfied: pillow>=6.2.0 in /home/me/mambaforge/envs/python_06/lib/python3.9/site-packages (from matplotlib->blab) (9.2.0)\n",
      "Requirement already satisfied: numpy>=1.19 in /home/me/mambaforge/envs/python_06/lib/python3.9/site-packages (from matplotlib->blab) (1.23.4)\n",
      "Requirement already satisfied: pyparsing>=2.2.1 in /home/me/mambaforge/envs/python_06/lib/python3.9/site-packages (from matplotlib->blab) (3.0.9)\n",
      "Requirement already satisfied: python-dateutil>=2.7 in /home/me/mambaforge/envs/python_06/lib/python3.9/site-packages (from matplotlib->blab) (2.8.2)\n",
      "Requirement already satisfied: cycler>=0.10 in /home/me/mambaforge/envs/python_06/lib/python3.9/site-packages (from matplotlib->blab) (0.11.0)\n",
      "Requirement already satisfied: fonttools>=4.22.0 in /home/me/mambaforge/envs/python_06/lib/python3.9/site-packages (from matplotlib->blab) (4.38.0)\n",
      "Requirement already satisfied: kiwisolver>=1.0.1 in /home/me/mambaforge/envs/python_06/lib/python3.9/site-packages (from matplotlib->blab) (1.4.4)\n",
      "Requirement already satisfied: contourpy>=1.0.1 in /home/me/mambaforge/envs/python_06/lib/python3.9/site-packages (from matplotlib->blab) (1.0.6)\n",
      "Requirement already satisfied: pandocfilters>=1.4.1 in /home/me/mambaforge/envs/python_06/lib/python3.9/site-packages (from nbconvert->blab) (1.5.0)\n",
      "Requirement already satisfied: pygments>=2.4.1 in /home/me/mambaforge/envs/python_06/lib/python3.9/site-packages (from nbconvert->blab) (2.13.0)\n",
      "Requirement already satisfied: traitlets>=5.0 in /home/me/mambaforge/envs/python_06/lib/python3.9/site-packages (from nbconvert->blab) (5.5.0)\n",
      "Requirement already satisfied: jupyter-core>=4.7 in /home/me/mambaforge/envs/python_06/lib/python3.9/site-packages (from nbconvert->blab) (4.11.1)\n",
      "Requirement already satisfied: markupsafe>=2.0 in /home/me/mambaforge/envs/python_06/lib/python3.9/site-packages (from nbconvert->blab) (2.1.1)\n",
      "Requirement already satisfied: bleach in /home/me/mambaforge/envs/python_06/lib/python3.9/site-packages (from nbconvert->blab) (5.0.1)\n",
      "Requirement already satisfied: jupyterlab-pygments in /home/me/mambaforge/envs/python_06/lib/python3.9/site-packages (from nbconvert->blab) (0.2.2)\n",
      "Requirement already satisfied: beautifulsoup4 in /home/me/mambaforge/envs/python_06/lib/python3.9/site-packages (from nbconvert->blab) (4.11.1)\n",
      "Requirement already satisfied: importlib-metadata>=3.6 in /home/me/mambaforge/envs/python_06/lib/python3.9/site-packages (from nbconvert->blab) (5.0.0)\n",
      "Requirement already satisfied: nbclient>=0.5.0 in /home/me/mambaforge/envs/python_06/lib/python3.9/site-packages (from nbconvert->blab) (0.7.0)\n",
      "Requirement already satisfied: defusedxml in /home/me/mambaforge/envs/python_06/lib/python3.9/site-packages (from nbconvert->blab) (0.7.1)\n",
      "Requirement already satisfied: tinycss2 in /home/me/mambaforge/envs/python_06/lib/python3.9/site-packages (from nbconvert->blab) (1.2.1)\n",
      "Requirement already satisfied: jinja2>=3.0 in /home/me/mambaforge/envs/python_06/lib/python3.9/site-packages (from nbconvert->blab) (3.1.2)\n",
      "Requirement already satisfied: mistune<3,>=2.0.3 in /home/me/mambaforge/envs/python_06/lib/python3.9/site-packages (from nbconvert->blab) (2.0.4)\n",
      "Requirement already satisfied: fastjsonschema in /home/me/mambaforge/envs/python_06/lib/python3.9/site-packages (from nbformat->blab) (2.16.2)\n",
      "Requirement already satisfied: jsonschema>=2.6 in /home/me/mambaforge/envs/python_06/lib/python3.9/site-packages (from nbformat->blab) (4.16.0)\n",
      "Requirement already satisfied: zipp>=0.5 in /home/me/mambaforge/envs/python_06/lib/python3.9/site-packages (from importlib-metadata>=3.6->nbconvert->blab) (3.10.0)\n",
      "Requirement already satisfied: attrs>=17.4.0 in /home/me/mambaforge/envs/python_06/lib/python3.9/site-packages (from jsonschema>=2.6->nbformat->blab) (22.1.0)\n",
      "Requirement already satisfied: pyrsistent!=0.17.0,!=0.17.1,!=0.17.2,>=0.14.0 in /home/me/mambaforge/envs/python_06/lib/python3.9/site-packages (from jsonschema>=2.6->nbformat->blab) (0.18.1)\n",
      "Requirement already satisfied: jupyter-client>=6.1.5 in /home/me/mambaforge/envs/python_06/lib/python3.9/site-packages (from nbclient>=0.5.0->nbconvert->blab) (7.4.4)\n",
      "Requirement already satisfied: nest-asyncio in /home/me/mambaforge/envs/python_06/lib/python3.9/site-packages (from nbclient>=0.5.0->nbconvert->blab) (1.5.6)\n",
      "Requirement already satisfied: iniconfig in /home/me/mambaforge/envs/python_06/lib/python3.9/site-packages (from pytest>=5.4->ipytest->blab) (1.1.1)\n",
      "Requirement already satisfied: pluggy<2.0,>=0.12 in /home/me/mambaforge/envs/python_06/lib/python3.9/site-packages (from pytest>=5.4->ipytest->blab) (1.0.0)\n",
      "Requirement already satisfied: exceptiongroup>=1.0.0rc8 in /home/me/mambaforge/envs/python_06/lib/python3.9/site-packages (from pytest>=5.4->ipytest->blab) (1.0.0)\n",
      "Requirement already satisfied: tomli>=1.0.0 in /home/me/mambaforge/envs/python_06/lib/python3.9/site-packages (from pytest>=5.4->ipytest->blab) (2.0.1)\n",
      "Requirement already satisfied: six>=1.5 in /home/me/mambaforge/envs/python_06/lib/python3.9/site-packages (from python-dateutil>=2.7->matplotlib->blab) (1.16.0)\n",
      "Requirement already satisfied: soupsieve>1.2 in /home/me/mambaforge/envs/python_06/lib/python3.9/site-packages (from beautifulsoup4->nbconvert->blab) (2.3.2.post1)\n",
      "Requirement already satisfied: webencodings in /home/me/mambaforge/envs/python_06/lib/python3.9/site-packages (from bleach->nbconvert->blab) (0.5.1)\n",
      "Requirement already satisfied: prompt-toolkit<3.1.0,>3.0.1 in /home/me/mambaforge/envs/python_06/lib/python3.9/site-packages (from ipython->ipytest->blab) (3.0.31)\n",
      "Requirement already satisfied: stack-data in /home/me/mambaforge/envs/python_06/lib/python3.9/site-packages (from ipython->ipytest->blab) (0.5.1)\n",
      "Requirement already satisfied: pexpect>4.3 in /home/me/mambaforge/envs/python_06/lib/python3.9/site-packages (from ipython->ipytest->blab) (4.8.0)\n",
      "Requirement already satisfied: jedi>=0.16 in /home/me/mambaforge/envs/python_06/lib/python3.9/site-packages (from ipython->ipytest->blab) (0.18.1)\n",
      "Requirement already satisfied: matplotlib-inline in /home/me/mambaforge/envs/python_06/lib/python3.9/site-packages (from ipython->ipytest->blab) (0.1.6)\n",
      "Requirement already satisfied: pickleshare in /home/me/mambaforge/envs/python_06/lib/python3.9/site-packages (from ipython->ipytest->blab) (0.7.5)\n",
      "Requirement already satisfied: backcall in /home/me/mambaforge/envs/python_06/lib/python3.9/site-packages (from ipython->ipytest->blab) (0.2.0)\n",
      "Requirement already satisfied: decorator in /home/me/mambaforge/envs/python_06/lib/python3.9/site-packages (from ipython->ipytest->blab) (5.1.1)\n",
      "Requirement already satisfied: parso<0.9.0,>=0.8.0 in /home/me/mambaforge/envs/python_06/lib/python3.9/site-packages (from jedi>=0.16->ipython->ipytest->blab) (0.8.3)\n",
      "Requirement already satisfied: tornado>=6.2 in /home/me/mambaforge/envs/python_06/lib/python3.9/site-packages (from jupyter-client>=6.1.5->nbclient>=0.5.0->nbconvert->blab) (6.2)\n",
      "Requirement already satisfied: pyzmq>=23.0 in /home/me/mambaforge/envs/python_06/lib/python3.9/site-packages (from jupyter-client>=6.1.5->nbclient>=0.5.0->nbconvert->blab) (24.0.1)\n",
      "Requirement already satisfied: entrypoints in /home/me/mambaforge/envs/python_06/lib/python3.9/site-packages (from jupyter-client>=6.1.5->nbclient>=0.5.0->nbconvert->blab) (0.4)\n",
      "Requirement already satisfied: ptyprocess>=0.5 in /home/me/mambaforge/envs/python_06/lib/python3.9/site-packages (from pexpect>4.3->ipython->ipytest->blab) (0.7.0)\n",
      "Requirement already satisfied: wcwidth in /home/me/mambaforge/envs/python_06/lib/python3.9/site-packages (from prompt-toolkit<3.1.0,>3.0.1->ipython->ipytest->blab) (0.2.5)\n",
      "Requirement already satisfied: asttokens in /home/me/mambaforge/envs/python_06/lib/python3.9/site-packages (from stack-data->ipython->ipytest->blab) (2.0.8)\n",
      "Requirement already satisfied: executing in /home/me/mambaforge/envs/python_06/lib/python3.9/site-packages (from stack-data->ipython->ipytest->blab) (1.1.1)\n",
      "Requirement already satisfied: pure-eval in /home/me/mambaforge/envs/python_06/lib/python3.9/site-packages (from stack-data->ipython->ipytest->blab) (0.2.2)\n",
      "Installing collected packages: blab\n",
      "Successfully installed blab-0.1.5\n",
      "time: 4.55 s\n"
     ]
    }
   ],
   "source": [
    "!pip install blab --no-cache-dir "
   ]
  },
  {
   "cell_type": "code",
   "execution_count": 18,
   "id": "5655c1d6-916d-4f5a-90aa-1877b6a5317b",
   "metadata": {},
   "outputs": [
    {
     "name": "stdout",
     "output_type": "stream",
     "text": [
      "blab init\n",
      "environment['in_colab']     = False\n",
      "environment['dropbox_path'] = /home/me/Data_Linux/Dropbox\n",
      "environment['lib_path']     = /home/me/Data_Linux/Dropbox/31_Projekte/01_Python/libs\n",
      "Start Time: 23:55:52\n"
     ]
    },
    {
     "data": {
      "text/html": [
       "<img src onerror=\"var cell = this.closest('.jp-CodeCell');var editor = cell.querySelector('.jp-Editor');editor.style.background='Beige';this.parentNode.removeChild(this)\">"
      ],
      "text/plain": [
       "<IPython.core.display.HTML object>"
      ]
     },
     "metadata": {},
     "output_type": "display_data"
    },
    {
     "name": "stdout",
     "output_type": "stream",
     "text": [
      "time: 12.6 ms\n"
     ]
    }
   ],
   "source": [
    "# blab init\n",
    "try:\n",
    "    import blab\n",
    "    startup_notebook = blab.blab_startup()\n",
    "    %run $startup_notebook\n",
    "except:\n",
    "    pass"
   ]
  },
  {
   "cell_type": "code",
   "execution_count": 19,
   "id": "b1a1633d-62ad-4088-8b90-6447cc84daf6",
   "metadata": {},
   "outputs": [
    {
     "name": "stdout",
     "output_type": "stream",
     "text": [
      "Hello blab 0.1.5\n",
      "time: 617 ms\n"
     ]
    }
   ],
   "source": [
    "# test script\n",
    "!blab"
   ]
  },
  {
   "cell_type": "code",
   "execution_count": 20,
   "id": "d734da84-24da-4fa9-8a12-139486f7bf76",
   "metadata": {},
   "outputs": [
    {
     "data": {
      "text/plain": [
       "'0.1.5'"
      ]
     },
     "execution_count": 20,
     "metadata": {},
     "output_type": "execute_result"
    },
    {
     "name": "stdout",
     "output_type": "stream",
     "text": [
      "time: 33.1 ms\n"
     ]
    }
   ],
   "source": [
    "# show version\n",
    "from importlib.metadata import version  \n",
    "version('blab')  "
   ]
  }
 ],
 "metadata": {
  "kernelspec": {
   "display_name": "Python 3 (ipykernel)",
   "language": "python",
   "name": "python3"
  },
  "language_info": {
   "codemirror_mode": {
    "name": "ipython",
    "version": 3
   },
   "file_extension": ".py",
   "mimetype": "text/x-python",
   "name": "python",
   "nbconvert_exporter": "python",
   "pygments_lexer": "ipython3",
   "version": "3.9.13"
  }
 },
 "nbformat": 4,
 "nbformat_minor": 5
}
