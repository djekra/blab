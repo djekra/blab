{
 "cells": [
  {
   "cell_type": "markdown",
   "id": "161c7fec-18c9-4111-a964-ce15e4db5cbb",
   "metadata": {},
   "source": [
    "## Create README"
   ]
  },
  {
   "cell_type": "code",
   "execution_count": 1,
   "id": "037e1ac6-c843-4bdb-a6a6-4221f7194542",
   "metadata": {},
   "outputs": [
    {
     "name": "stdout",
     "output_type": "stream",
     "text": [
      "[NbConvertApp] Converting notebook README.ipynb to markdown\n",
      "[NbConvertApp] Writing 985 bytes to README.md\n"
     ]
    }
   ],
   "source": [
    "!jupyter nbconvert --ClearMetadataPreprocessor.enabled=True --ClearOutput.enabled=True --to markdown README.ipynb"
   ]
  },
  {
   "cell_type": "markdown",
   "id": "a4547f78-251b-45b5-a478-27dc691d193b",
   "metadata": {},
   "source": [
    "## Local install"
   ]
  },
  {
   "cell_type": "code",
   "execution_count": 2,
   "id": "b6454e67-63bf-4429-9f87-fbec0e99cfd1",
   "metadata": {},
   "outputs": [
    {
     "name": "stdout",
     "output_type": "stream",
     "text": [
      "Found existing installation: blab 0.1.3\n",
      "Uninstalling blab-0.1.3:\n",
      "  Successfully uninstalled blab-0.1.3\n"
     ]
    }
   ],
   "source": [
    "# uninstall\n",
    "!pip uninstall -y blab"
   ]
  },
  {
   "cell_type": "code",
   "execution_count": null,
   "id": "f345ee0f-748f-40be-8578-8ad4ac4d9fe3",
   "metadata": {},
   "outputs": [
    {
     "name": "stdout",
     "output_type": "stream",
     "text": [
      "Obtaining file:///home/me/Data_Linux/Dropbox/31_Projekte/01_Python/git/blab\n",
      "  Installing build dependencies ... \u001b[?25ldone\n",
      "\u001b[?25h  Checking if build backend supports build_editable ... \u001b[?25ldone\n",
      "\u001b[?25h  Getting requirements to build editable ... \u001b[?25ldone\n",
      "\u001b[?25h  Preparing editable metadata (pyproject.toml) ... \u001b[?25ldone\n",
      "\u001b[?25hRequirement already satisfied: nbformat in /home/me/mambaforge/envs/python_06/lib/python3.9/site-packages (from blab==0.1.3) (5.7.0)\n",
      "Requirement already satisfied: ipytest in /home/me/mambaforge/envs/python_06/lib/python3.9/site-packages (from blab==0.1.3) (0.12.0)\n",
      "Requirement already satisfied: bpyth in /home/me/mambaforge/envs/python_06/lib/python3.9/site-packages (from blab==0.1.3) (0.1.3)\n",
      "Requirement already satisfied: nbconvert in /home/me/mambaforge/envs/python_06/lib/python3.9/site-packages (from blab==0.1.3) (7.2.3)\n",
      "Requirement already satisfied: ipython-autotime in /home/me/mambaforge/envs/python_06/lib/python3.9/site-packages (from blab==0.1.3) (0.1)\n",
      "Requirement already satisfied: matplotlib in /home/me/mambaforge/envs/python_06/lib/python3.9/site-packages (from blab==0.1.3) (3.6.1)\n",
      "Requirement already satisfied: pytest>=5.4 in /home/me/mambaforge/envs/python_06/lib/python3.9/site-packages (from ipytest->blab==0.1.3) (7.2.0)\n",
      "Requirement already satisfied: packaging in /home/me/mambaforge/envs/python_06/lib/python3.9/site-packages (from ipytest->blab==0.1.3) (21.3)\n",
      "Requirement already satisfied: ipython in /home/me/mambaforge/envs/python_06/lib/python3.9/site-packages (from ipytest->blab==0.1.3) (8.6.0)\n",
      "Requirement already satisfied: cycler>=0.10 in /home/me/mambaforge/envs/python_06/lib/python3.9/site-packages (from matplotlib->blab==0.1.3) (0.11.0)\n",
      "Requirement already satisfied: pyparsing>=2.2.1 in /home/me/mambaforge/envs/python_06/lib/python3.9/site-packages (from matplotlib->blab==0.1.3) (3.0.9)\n",
      "Requirement already satisfied: pillow>=6.2.0 in /home/me/mambaforge/envs/python_06/lib/python3.9/site-packages (from matplotlib->blab==0.1.3) (9.2.0)\n",
      "Requirement already satisfied: fonttools>=4.22.0 in /home/me/mambaforge/envs/python_06/lib/python3.9/site-packages (from matplotlib->blab==0.1.3) (4.38.0)\n",
      "Requirement already satisfied: kiwisolver>=1.0.1 in /home/me/mambaforge/envs/python_06/lib/python3.9/site-packages (from matplotlib->blab==0.1.3) (1.4.4)\n",
      "Requirement already satisfied: contourpy>=1.0.1 in /home/me/mambaforge/envs/python_06/lib/python3.9/site-packages (from matplotlib->blab==0.1.3) (1.0.6)\n",
      "Requirement already satisfied: numpy>=1.19 in /home/me/mambaforge/envs/python_06/lib/python3.9/site-packages (from matplotlib->blab==0.1.3) (1.23.4)\n",
      "Requirement already satisfied: python-dateutil>=2.7 in /home/me/mambaforge/envs/python_06/lib/python3.9/site-packages (from matplotlib->blab==0.1.3) (2.8.2)\n",
      "Requirement already satisfied: jupyterlab-pygments in /home/me/mambaforge/envs/python_06/lib/python3.9/site-packages (from nbconvert->blab==0.1.3) (0.2.2)\n",
      "Requirement already satisfied: defusedxml in /home/me/mambaforge/envs/python_06/lib/python3.9/site-packages (from nbconvert->blab==0.1.3) (0.7.1)\n",
      "Requirement already satisfied: jinja2>=3.0 in /home/me/mambaforge/envs/python_06/lib/python3.9/site-packages (from nbconvert->blab==0.1.3) (3.1.2)\n",
      "Requirement already satisfied: mistune<3,>=2.0.3 in /home/me/mambaforge/envs/python_06/lib/python3.9/site-packages (from nbconvert->blab==0.1.3) (2.0.4)\n",
      "Requirement already satisfied: nbclient>=0.5.0 in /home/me/mambaforge/envs/python_06/lib/python3.9/site-packages (from nbconvert->blab==0.1.3) (0.7.0)\n",
      "Requirement already satisfied: importlib-metadata>=3.6 in /home/me/mambaforge/envs/python_06/lib/python3.9/site-packages (from nbconvert->blab==0.1.3) (5.0.0)\n",
      "Requirement already satisfied: pygments>=2.4.1 in /home/me/mambaforge/envs/python_06/lib/python3.9/site-packages (from nbconvert->blab==0.1.3) (2.13.0)\n",
      "Requirement already satisfied: bleach in /home/me/mambaforge/envs/python_06/lib/python3.9/site-packages (from nbconvert->blab==0.1.3) (5.0.1)\n",
      "Requirement already satisfied: pandocfilters>=1.4.1 in /home/me/mambaforge/envs/python_06/lib/python3.9/site-packages (from nbconvert->blab==0.1.3) (1.5.0)\n",
      "Requirement already satisfied: traitlets>=5.0 in /home/me/mambaforge/envs/python_06/lib/python3.9/site-packages (from nbconvert->blab==0.1.3) (5.5.0)\n",
      "Requirement already satisfied: tinycss2 in /home/me/mambaforge/envs/python_06/lib/python3.9/site-packages (from nbconvert->blab==0.1.3) (1.2.1)\n",
      "Requirement already satisfied: markupsafe>=2.0 in /home/me/mambaforge/envs/python_06/lib/python3.9/site-packages (from nbconvert->blab==0.1.3) (2.1.1)\n",
      "Requirement already satisfied: beautifulsoup4 in /home/me/mambaforge/envs/python_06/lib/python3.9/site-packages (from nbconvert->blab==0.1.3) (4.11.1)\n",
      "Requirement already satisfied: jupyter-core>=4.7 in /home/me/mambaforge/envs/python_06/lib/python3.9/site-packages (from nbconvert->blab==0.1.3) (4.11.1)\n",
      "Requirement already satisfied: jsonschema>=2.6 in /home/me/mambaforge/envs/python_06/lib/python3.9/site-packages (from nbformat->blab==0.1.3) (4.16.0)\n",
      "Requirement already satisfied: fastjsonschema in /home/me/mambaforge/envs/python_06/lib/python3.9/site-packages (from nbformat->blab==0.1.3) (2.16.2)\n",
      "Requirement already satisfied: zipp>=0.5 in /home/me/mambaforge/envs/python_06/lib/python3.9/site-packages (from importlib-metadata>=3.6->nbconvert->blab==0.1.3) (3.10.0)\n",
      "Requirement already satisfied: pyrsistent!=0.17.0,!=0.17.1,!=0.17.2,>=0.14.0 in /home/me/mambaforge/envs/python_06/lib/python3.9/site-packages (from jsonschema>=2.6->nbformat->blab==0.1.3) (0.18.1)\n",
      "Requirement already satisfied: attrs>=17.4.0 in /home/me/mambaforge/envs/python_06/lib/python3.9/site-packages (from jsonschema>=2.6->nbformat->blab==0.1.3) (22.1.0)\n",
      "Requirement already satisfied: nest-asyncio in /home/me/mambaforge/envs/python_06/lib/python3.9/site-packages (from nbclient>=0.5.0->nbconvert->blab==0.1.3) (1.5.6)\n",
      "Requirement already satisfied: jupyter-client>=6.1.5 in /home/me/mambaforge/envs/python_06/lib/python3.9/site-packages (from nbclient>=0.5.0->nbconvert->blab==0.1.3) (7.4.4)\n",
      "Requirement already satisfied: iniconfig in /home/me/mambaforge/envs/python_06/lib/python3.9/site-packages (from pytest>=5.4->ipytest->blab==0.1.3) (1.1.1)\n",
      "Requirement already satisfied: pluggy<2.0,>=0.12 in /home/me/mambaforge/envs/python_06/lib/python3.9/site-packages (from pytest>=5.4->ipytest->blab==0.1.3) (1.0.0)\n",
      "Requirement already satisfied: exceptiongroup>=1.0.0rc8 in /home/me/mambaforge/envs/python_06/lib/python3.9/site-packages (from pytest>=5.4->ipytest->blab==0.1.3) (1.0.0)\n",
      "Requirement already satisfied: tomli>=1.0.0 in /home/me/mambaforge/envs/python_06/lib/python3.9/site-packages (from pytest>=5.4->ipytest->blab==0.1.3) (2.0.1)\n",
      "Requirement already satisfied: six>=1.5 in /home/me/mambaforge/envs/python_06/lib/python3.9/site-packages (from python-dateutil>=2.7->matplotlib->blab==0.1.3) (1.16.0)\n",
      "Requirement already satisfied: soupsieve>1.2 in /home/me/mambaforge/envs/python_06/lib/python3.9/site-packages (from beautifulsoup4->nbconvert->blab==0.1.3) (2.3.2.post1)\n",
      "Requirement already satisfied: webencodings in /home/me/mambaforge/envs/python_06/lib/python3.9/site-packages (from bleach->nbconvert->blab==0.1.3) (0.5.1)\n",
      "Requirement already satisfied: stack-data in /home/me/mambaforge/envs/python_06/lib/python3.9/site-packages (from ipython->ipytest->blab==0.1.3) (0.5.1)\n",
      "Requirement already satisfied: prompt-toolkit<3.1.0,>3.0.1 in /home/me/mambaforge/envs/python_06/lib/python3.9/site-packages (from ipython->ipytest->blab==0.1.3) (3.0.31)\n",
      "Requirement already satisfied: pexpect>4.3 in /home/me/mambaforge/envs/python_06/lib/python3.9/site-packages (from ipython->ipytest->blab==0.1.3) (4.8.0)\n",
      "Requirement already satisfied: pickleshare in /home/me/mambaforge/envs/python_06/lib/python3.9/site-packages (from ipython->ipytest->blab==0.1.3) (0.7.5)\n",
      "Requirement already satisfied: matplotlib-inline in /home/me/mambaforge/envs/python_06/lib/python3.9/site-packages (from ipython->ipytest->blab==0.1.3) (0.1.6)\n",
      "Requirement already satisfied: backcall in /home/me/mambaforge/envs/python_06/lib/python3.9/site-packages (from ipython->ipytest->blab==0.1.3) (0.2.0)\n",
      "Requirement already satisfied: decorator in /home/me/mambaforge/envs/python_06/lib/python3.9/site-packages (from ipython->ipytest->blab==0.1.3) (5.1.1)\n",
      "Requirement already satisfied: jedi>=0.16 in /home/me/mambaforge/envs/python_06/lib/python3.9/site-packages (from ipython->ipytest->blab==0.1.3) (0.18.1)\n",
      "Requirement already satisfied: parso<0.9.0,>=0.8.0 in /home/me/mambaforge/envs/python_06/lib/python3.9/site-packages (from jedi>=0.16->ipython->ipytest->blab==0.1.3) (0.8.3)\n",
      "Requirement already satisfied: pyzmq>=23.0 in /home/me/mambaforge/envs/python_06/lib/python3.9/site-packages (from jupyter-client>=6.1.5->nbclient>=0.5.0->nbconvert->blab==0.1.3) (24.0.1)\n",
      "Requirement already satisfied: entrypoints in /home/me/mambaforge/envs/python_06/lib/python3.9/site-packages (from jupyter-client>=6.1.5->nbclient>=0.5.0->nbconvert->blab==0.1.3) (0.4)\n",
      "Requirement already satisfied: tornado>=6.2 in /home/me/mambaforge/envs/python_06/lib/python3.9/site-packages (from jupyter-client>=6.1.5->nbclient>=0.5.0->nbconvert->blab==0.1.3) (6.2)\n",
      "Requirement already satisfied: ptyprocess>=0.5 in /home/me/mambaforge/envs/python_06/lib/python3.9/site-packages (from pexpect>4.3->ipython->ipytest->blab==0.1.3) (0.7.0)\n",
      "Requirement already satisfied: wcwidth in /home/me/mambaforge/envs/python_06/lib/python3.9/site-packages (from prompt-toolkit<3.1.0,>3.0.1->ipython->ipytest->blab==0.1.3) (0.2.5)\n",
      "Requirement already satisfied: asttokens in /home/me/mambaforge/envs/python_06/lib/python3.9/site-packages (from stack-data->ipython->ipytest->blab==0.1.3) (2.0.8)\n",
      "Requirement already satisfied: executing in /home/me/mambaforge/envs/python_06/lib/python3.9/site-packages (from stack-data->ipython->ipytest->blab==0.1.3) (1.1.1)\n",
      "Requirement already satisfied: pure-eval in /home/me/mambaforge/envs/python_06/lib/python3.9/site-packages (from stack-data->ipython->ipytest->blab==0.1.3) (0.2.2)\n",
      "Building wheels for collected packages: blab\n"
     ]
    }
   ],
   "source": [
    "# install locally\n",
    "!python -m pip install -e ."
   ]
  },
  {
   "cell_type": "code",
   "execution_count": null,
   "id": "8cec0e88-e3c2-4020-b9c9-176bcd255c46",
   "metadata": {},
   "outputs": [],
   "source": [
    "# show\n",
    "!pip show blab"
   ]
  },
  {
   "cell_type": "code",
   "execution_count": null,
   "id": "baf8f2b6-2bb4-4460-b654-f4454bfec48f",
   "metadata": {},
   "outputs": [],
   "source": [
    "# test import\n",
    "# Wenn dies failed: Restart Kernel and Run all Cells\n",
    "import blab"
   ]
  },
  {
   "cell_type": "code",
   "execution_count": null,
   "id": "43f0bbdd-2df6-4534-a86e-77657d0329da",
   "metadata": {},
   "outputs": [],
   "source": [
    "# test script\n",
    "!blab"
   ]
  },
  {
   "cell_type": "code",
   "execution_count": null,
   "id": "4ee9af0c-5d40-48c7-8c8d-61526a6f05d5",
   "metadata": {},
   "outputs": [],
   "source": [
    "# blab init\n",
    "try:\n",
    "    import blab\n",
    "    startup_notebook = blab.blab_startup()\n",
    "    %run $startup_notebook\n",
    "except:\n",
    "    pass"
   ]
  },
  {
   "cell_type": "code",
   "execution_count": null,
   "id": "78535e87-dbc9-4dd4-9c30-1db7b581484d",
   "metadata": {},
   "outputs": [],
   "source": [
    "raise Stop"
   ]
  },
  {
   "cell_type": "markdown",
   "id": "efa2c656-785f-45b7-a3b5-a9ae251bce06",
   "metadata": {},
   "source": [
    "## build"
   ]
  },
  {
   "cell_type": "code",
   "execution_count": null,
   "id": "f20cbd4d-b38b-4bc9-a750-b14851fb174b",
   "metadata": {},
   "outputs": [],
   "source": [
    "!pip install -q build"
   ]
  },
  {
   "cell_type": "code",
   "execution_count": null,
   "id": "c745f5da-d6e4-408a-aa73-1166ccc6fd5b",
   "metadata": {},
   "outputs": [],
   "source": [
    "!python -m build"
   ]
  },
  {
   "cell_type": "markdown",
   "id": "25343284-bf36-4d18-8dba-1d765348763f",
   "metadata": {},
   "source": [
    "## Publish on github"
   ]
  },
  {
   "cell_type": "code",
   "execution_count": null,
   "id": "d444d5d8-ddb6-451e-9300-fa6424dde8f0",
   "metadata": {},
   "outputs": [],
   "source": [
    "!git status"
   ]
  },
  {
   "cell_type": "code",
   "execution_count": null,
   "id": "a9a7e740-2661-43c1-9743-bef78afaba54",
   "metadata": {},
   "outputs": [],
   "source": [
    "!git add --all"
   ]
  },
  {
   "cell_type": "code",
   "execution_count": null,
   "id": "f5ed7e73-e40b-4de9-858d-54a1530018cb",
   "metadata": {},
   "outputs": [],
   "source": [
    "# Commit message eintragen und run\n",
    "!git commit -m \"ֹ\""
   ]
  },
  {
   "cell_type": "code",
   "execution_count": null,
   "id": "2aba6515-d4a9-4a7e-a47a-d1c7aa881c36",
   "metadata": {},
   "outputs": [],
   "source": [
    "raise Stop"
   ]
  },
  {
   "cell_type": "markdown",
   "id": "e62fe388-b5f9-408c-b6e6-b6e87eba5876",
   "metadata": {},
   "source": [
    "* Terminal ins Verzeichnis öffnen\n",
    "* `git push origin master`\n",
    "* Personal Access Token verwenden statt Passwort\n",
    "* überprüfen: https://github.com/djekra/blab"
   ]
  },
  {
   "cell_type": "markdown",
   "id": "c7654839-a06f-4024-a72f-5e081082af6b",
   "metadata": {},
   "source": [
    "## Publish on pypi.org"
   ]
  },
  {
   "cell_type": "markdown",
   "id": "2b5b5f7b-8225-4b21-b483-bcad5702b726",
   "metadata": {},
   "source": [
    "* `python -m twine upload dist/*` \n",
    "* Version überprüfen: https://pypi.org/project/blab/"
   ]
  },
  {
   "cell_type": "code",
   "execution_count": null,
   "id": "42124620-1dac-401c-9780-8b78c5f1c9e2",
   "metadata": {},
   "outputs": [],
   "source": [
    "# Nicht nötig\n",
    "# Publish on test.pypi.org\n",
    "# python -m twine upload --repository testpypi --skip-existing dist/* "
   ]
  },
  {
   "cell_type": "markdown",
   "id": "16c9f64f-40af-41ac-90db-f802bb8f73c1",
   "metadata": {},
   "source": [
    "## Test from PyPi"
   ]
  },
  {
   "cell_type": "code",
   "execution_count": null,
   "id": "3af8896f-3f40-4d28-a365-fc4c0cb4228f",
   "metadata": {},
   "outputs": [],
   "source": [
    "# uninstall\n",
    "!pip uninstall -y blab"
   ]
  },
  {
   "cell_type": "code",
   "execution_count": null,
   "id": "8ea8f83c-6970-424a-993d-f8e378e5faa9",
   "metadata": {},
   "outputs": [],
   "source": [
    "!pip install blab --no-cache-dir "
   ]
  },
  {
   "cell_type": "code",
   "execution_count": null,
   "id": "5655c1d6-916d-4f5a-90aa-1877b6a5317b",
   "metadata": {},
   "outputs": [],
   "source": [
    "# blab init\n",
    "try:\n",
    "    import blab\n",
    "    startup_notebook = blab.blab_startup()\n",
    "    %run $startup_notebook\n",
    "except:\n",
    "    pass"
   ]
  },
  {
   "cell_type": "code",
   "execution_count": null,
   "id": "b1a1633d-62ad-4088-8b90-6447cc84daf6",
   "metadata": {},
   "outputs": [],
   "source": [
    "# test script\n",
    "!blab"
   ]
  },
  {
   "cell_type": "code",
   "execution_count": null,
   "id": "d734da84-24da-4fa9-8a12-139486f7bf76",
   "metadata": {},
   "outputs": [],
   "source": [
    "# show version\n",
    "from importlib.metadata import version  \n",
    "version('blab')  "
   ]
  }
 ],
 "metadata": {
  "kernelspec": {
   "display_name": "Python 3 (ipykernel)",
   "language": "python",
   "name": "python3"
  },
  "language_info": {
   "codemirror_mode": {
    "name": "ipython",
    "version": 3
   },
   "file_extension": ".py",
   "mimetype": "text/x-python",
   "name": "python",
   "nbconvert_exporter": "python",
   "pygments_lexer": "ipython3",
   "version": "3.9.13"
  }
 },
 "nbformat": 4,
 "nbformat_minor": 5
}
