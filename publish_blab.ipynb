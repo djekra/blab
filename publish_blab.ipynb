{
 "cells": [
  {
   "cell_type": "markdown",
   "id": "161c7fec-18c9-4111-a964-ce15e4db5cbb",
   "metadata": {},
   "source": [
    "## Create README"
   ]
  },
  {
   "cell_type": "code",
   "execution_count": 1,
   "id": "037e1ac6-c843-4bdb-a6a6-4221f7194542",
   "metadata": {
    "execution": {
     "iopub.execute_input": "2025-03-23T07:07:29.073545Z",
     "iopub.status.busy": "2025-03-23T07:07:29.072736Z",
     "iopub.status.idle": "2025-03-23T07:07:31.365814Z",
     "shell.execute_reply": "2025-03-23T07:07:31.363231Z",
     "shell.execute_reply.started": "2025-03-23T07:07:29.073498Z"
    }
   },
   "outputs": [
    {
     "name": "stdout",
     "output_type": "stream",
     "text": [
      "[NbConvertApp] Converting notebook README.ipynb to markdown\n",
      "[NbConvertApp] Writing 2743 bytes to README.md\n"
     ]
    }
   ],
   "source": [
    "!jupyter nbconvert --ClearMetadataPreprocessor.enabled=True --ClearOutput.enabled=True --to markdown README.ipynb"
   ]
  },
  {
   "cell_type": "markdown",
   "id": "a4547f78-251b-45b5-a478-27dc691d193b",
   "metadata": {},
   "source": [
    "## Local install"
   ]
  },
  {
   "cell_type": "code",
   "execution_count": 2,
   "id": "b6454e67-63bf-4429-9f87-fbec0e99cfd1",
   "metadata": {
    "execution": {
     "iopub.execute_input": "2025-03-23T07:07:31.372620Z",
     "iopub.status.busy": "2025-03-23T07:07:31.370514Z",
     "iopub.status.idle": "2025-03-23T07:07:32.731069Z",
     "shell.execute_reply": "2025-03-23T07:07:32.728930Z",
     "shell.execute_reply.started": "2025-03-23T07:07:31.372463Z"
    }
   },
   "outputs": [
    {
     "name": "stdout",
     "output_type": "stream",
     "text": [
      "Found existing installation: blab 0.2.0\n",
      "Uninstalling blab-0.2.0:\n",
      "  Successfully uninstalled blab-0.2.0\n"
     ]
    }
   ],
   "source": [
    "# uninstall\n",
    "!pip uninstall -y blab"
   ]
  },
  {
   "cell_type": "code",
   "execution_count": 3,
   "id": "f345ee0f-748f-40be-8578-8ad4ac4d9fe3",
   "metadata": {
    "execution": {
     "iopub.execute_input": "2025-03-23T07:07:32.733963Z",
     "iopub.status.busy": "2025-03-23T07:07:32.733309Z",
     "iopub.status.idle": "2025-03-23T07:07:37.325620Z",
     "shell.execute_reply": "2025-03-23T07:07:37.325023Z",
     "shell.execute_reply.started": "2025-03-23T07:07:32.733897Z"
    }
   },
   "outputs": [
    {
     "name": "stdout",
     "output_type": "stream",
     "text": [
      "Obtaining file:///media/me/LinuxDropbox/Dropbox/31_Projekte/01_Python/88_PyCharm/blab\n",
      "  Installing build dependencies ... \u001b[?2done\n",
      "\u001b[?25h  Checking if build backend supports build_editable ... \u001b[?25ldone\n",
      "\u001b[?25h  Getting requirements to build editable ... \u001b[?25ldone\n",
      "\u001b[?25h  Preparing editable metadata (pyproject.toml) ... \u001b[?25ldone\n",
      "\u001b[?25hRequirement already satisfied: bpyth>=0.2.1 in /home/me/miniforge3/envs/python_07/lib/python3.12/site-packages (from blab==0.2.0) (0.2.1)\n",
      "Requirement already satisfied: importlib_resources in /home/me/miniforge3/envs/python_07/lib/python3.12/site-packages (from blab==0.2.0) (6.5.2)\n",
      "Requirement already satisfied: nbformat in /home/me/miniforge3/envs/python_07/lib/python3.12/site-packages (from blab==0.2.0) (5.10.4)\n",
      "Requirement already satisfied: nbconvert in /home/me/miniforge3/envs/python_07/lib/python3.12/site-packages (from blab==0.2.0) (7.16.6)\n",
      "Requirement already satisfied: ipytest in /home/me/miniforge3/envs/python_07/lib/python3.12/site-packages (from blab==0.2.0) (0.14.2)\n",
      "Requirement already satisfied: matplotlib in /home/me/miniforge3/envs/python_07/lib/python3.12/site-packages (from blab==0.2.0) (3.10.1)\n",
      "Requirement already satisfied: ipython in /home/me/miniforge3/envs/python_07/lib/python3.12/site-packages (from ipytest->blab==0.2.0) (9.0.2)\n",
      "Requirement already satisfied: packaging in /home/me/miniforge3/envs/python_07/lib/python3.12/site-packages (from ipytest->blab==0.2.0) (24.2)\n",
      "Requirement already satisfied: pytest>=5.4 in /home/me/miniforge3/envs/python_07/lib/python3.12/site-packages (from ipytest->blab==0.2.0) (8.3.5)\n",
      "Requirement already satisfied: contourpy>=1.0.1 in /home/me/miniforge3/envs/python_07/lib/python3.12/site-packages (from matplotlib->blab==0.2.0) (1.3.1)\n",
      "Requirement already satisfied: cycler>=0.10 in /home/me/miniforge3/envs/python_07/lib/python3.12/site-packages (from matplotlib->blab==0.2.0) (0.12.1)\n",
      "Requirement already satisfied: fonttools>=4.22.0 in /home/me/miniforge3/envs/python_07/lib/python3.12/site-packages (from matplotlib->blab==0.2.0) (4.56.0)\n",
      "Requirement already satisfied: kiwisolver>=1.3.1 in /home/me/miniforge3/envs/python_07/lib/python3.12/site-packages (from matplotlib->blab==0.2.0) (1.4.8)\n",
      "Requirement already satisfied: numpy>=1.23 in /home/me/miniforge3/envs/python_07/lib/python3.12/site-packages (from matplotlib->blab==0.2.0) (1.26.4)\n",
      "Requirement already satisfied: pillow>=8 in /home/me/miniforge3/envs/python_07/lib/python3.12/site-packages (from matplotlib->blab==0.2.0) (11.1.0)\n",
      "Requirement already satisfied: pyparsing>=2.3.1 in /home/me/miniforge3/envs/python_07/lib/python3.12/site-packages (from matplotlib->blab==0.2.0) (3.2.1)\n",
      "Requirement already satisfied: python-dateutil>=2.7 in /home/me/miniforge3/envs/python_07/lib/python3.12/site-packages (from matplotlib->blab==0.2.0) (2.9.0.post0)\n",
      "Requirement already satisfied: beautifulsoup4 in /home/me/miniforge3/envs/python_07/lib/python3.12/site-packages (from nbconvert->blab==0.2.0) (4.13.3)\n",
      "Requirement already satisfied: bleach!=5.0.0 in /home/me/miniforge3/envs/python_07/lib/python3.12/site-packages (from bleach[css]!=5.0.0->nbconvert->blab==0.2.0) (6.2.0)\n",
      "Requirement already satisfied: defusedxml in /home/me/miniforge3/envs/python_07/lib/python3.12/site-packages (from nbconvert->blab==0.2.0) (0.7.1)\n",
      "Requirement already satisfied: jinja2>=3.0 in /home/me/miniforge3/envs/python_07/lib/python3.12/site-packages (from nbconvert->blab==0.2.0) (3.1.6)\n",
      "Requirement already satisfied: jupyter-core>=4.7 in /home/me/miniforge3/envs/python_07/lib/python3.12/site-packages (from nbconvert->blab==0.2.0) (5.7.2)\n",
      "Requirement already satisfied: jupyterlab-pygments in /home/me/miniforge3/envs/python_07/lib/python3.12/site-packages (from nbconvert->blab==0.2.0) (0.3.0)\n",
      "Requirement already satisfied: markupsafe>=2.0 in /home/me/miniforge3/envs/python_07/lib/python3.12/site-packages (from nbconvert->blab==0.2.0) (3.0.2)\n",
      "Requirement already satisfied: mistune<4,>=2.0.3 in /home/me/miniforge3/envs/python_07/lib/python3.12/site-packages (from nbconvert->blab==0.2.0) (3.1.2)\n",
      "Requirement already satisfied: nbclient>=0.5.0 in /home/me/miniforge3/envs/python_07/lib/python3.12/site-packages (from nbconvert->blab==0.2.0) (0.10.2)\n",
      "Requirement already satisfied: pandocfilters>=1.4.1 in /home/me/miniforge3/envs/python_07/lib/python3.12/site-packages (from nbconvert->blab==0.2.0) (1.5.0)\n",
      "Requirement already satisfied: pygments>=2.4.1 in /home/me/miniforge3/envs/python_07/lib/python3.12/site-packages (from nbconvert->blab==0.2.0) (2.19.1)\n",
      "Requirement already satisfied: traitlets>=5.1 in /home/me/miniforge3/envs/python_07/lib/python3.12/site-packages (from nbconvert->blab==0.2.0) (5.14.3)\n",
      "Requirement already satisfied: fastjsonschema>=2.15 in /home/me/miniforge3/envs/python_07/lib/python3.12/site-packages (from nbformat->blab==0.2.0) (2.21.1)\n",
      "Requirement already satisfied: jsonschema>=2.6 in /home/me/miniforge3/envs/python_07/lib/python3.12/site-packages (from nbformat->blab==0.2.0) (4.23.0)\n",
      "Requirement already satisfied: webencodings in /home/me/miniforge3/envs/python_07/lib/python3.12/site-packages (from bleach!=5.0.0->bleach[css]!=5.0.0->nbconvert->blab==0.2.0) (0.5.1)\n",
      "Requirement already satisfied: tinycss2<1.5,>=1.1.0 in /home/me/miniforge3/envs/python_07/lib/python3.12/site-packages (from bleach[css]!=5.0.0->nbconvert->blab==0.2.0) (1.4.0)\n",
      "Requirement already satisfied: attrs>=22.2.0 in /home/me/miniforge3/envs/python_07/lib/python3.12/site-packages (from jsonschema>=2.6->nbformat->blab==0.2.0) (25.1.0)\n",
      "Requirement already satisfied: jsonschema-specifications>=2023.03.6 in /home/me/miniforge3/envs/python_07/lib/python3.12/site-packages (from jsonschema>=2.6->nbformat->blab==0.2.0) (2024.10.1)\n",
      "Requirement already satisfied: referencing>=0.28.4 in /home/me/miniforge3/envs/python_07/lib/python3.12/site-packages (from jsonschema>=2.6->nbformat->blab==0.2.0) (0.36.2)\n",
      "Requirement already satisfied: rpds-py>=0.7.1 in /home/me/miniforge3/envs/python_07/lib/python3.12/site-packages (from jsonschema>=2.6->nbformat->blab==0.2.0) (0.23.1)\n",
      "Requirement already satisfied: platformdirs>=2.5 in /home/me/miniforge3/envs/python_07/lib/python3.12/site-packages (from jupyter-core>=4.7->nbconvert->blab==0.2.0) (4.3.6)\n",
      "Requirement already satisfied: jupyter-client>=6.1.12 in /home/me/miniforge3/envs/python_07/lib/python3.12/site-packages (from nbclient>=0.5.0->nbconvert->blab==0.2.0) (8.6.3)\n",
      "Requirement already satisfied: iniconfig in /home/me/miniforge3/envs/python_07/lib/python3.12/site-packages (from pytest>=5.4->ipytest->blab==0.2.0) (2.0.0)\n",
      "Requirement already satisfied: pluggy<2,>=1.5 in /home/me/miniforge3/envs/python_07/lib/python3.12/site-packages (from pytest>=5.4->ipytest->blab==0.2.0) (1.5.0)\n",
      "Requirement already satisfied: six>=1.5 in /home/me/miniforge3/envs/python_07/lib/python3.12/site-packages (from python-dateutil>=2.7->matplotlib->blab==0.2.0) (1.17.0)\n",
      "Requirement already satisfied: soupsieve>1.2 in /home/me/miniforge3/envs/python_07/lib/python3.12/site-packages (from beautifulsoup4->nbconvert->blab==0.2.0) (2.5)\n",
      "Requirement already satisfied: typing-extensions>=4.0.0 in /home/me/miniforge3/envs/python_07/lib/python3.12/site-packages (from beautifulsoup4->nbconvert->blab==0.2.0) (4.12.2)\n",
      "Requirement already satisfied: decorator in /home/me/miniforge3/envs/python_07/lib/python3.12/site-packages (from ipython->ipytest->blab==0.2.0) (5.2.1)\n",
      "Requirement already satisfied: ipython-pygments-lexers in /home/me/miniforge3/envs/python_07/lib/python3.12/site-packages (from ipython->ipytest->blab==0.2.0) (1.1.1)\n",
      "Requirement already satisfied: jedi>=0.16 in /home/me/miniforge3/envs/python_07/lib/python3.12/site-packages (from ipython->ipytest->blab==0.2.0) (0.19.2)\n",
      "Requirement already satisfied: matplotlib-inline in /home/me/miniforge3/envs/python_07/lib/python3.12/site-packages (from ipython->ipytest->blab==0.2.0) (0.1.7)\n",
      "Requirement already satisfied: pexpect>4.3 in /home/me/miniforge3/envs/python_07/lib/python3.12/site-packages (from ipython->ipytest->blab==0.2.0) (4.9.0)\n",
      "Requirement already satisfied: prompt_toolkit<3.1.0,>=3.0.41 in /home/me/miniforge3/envs/python_07/lib/python3.12/site-packages (from ipython->ipytest->blab==0.2.0) (3.0.50)\n",
      "Requirement already satisfied: stack_data in /home/me/miniforge3/envs/python_07/lib/python3.12/site-packages (from ipython->ipytest->blab==0.2.0) (0.6.3)\n",
      "Requirement already satisfied: parso<0.9.0,>=0.8.4 in /home/me/miniforge3/envs/python_07/lib/python3.12/site-packages (from jedi>=0.16->ipython->ipytest->blab==0.2.0) (0.8.4)\n",
      "Requirement already satisfied: pyzmq>=23.0 in /home/me/miniforge3/envs/python_07/lib/python3.12/site-packages (from jupyter-client>=6.1.12->nbclient>=0.5.0->nbconvert->blab==0.2.0) (26.2.1)\n",
      "Requirement already satisfied: tornado>=6.2 in /home/me/miniforge3/envs/python_07/lib/python3.12/site-packages (from jupyter-client>=6.1.12->nbclient>=0.5.0->nbconvert->blab==0.2.0) (6.4.2)\n",
      "Requirement already satisfied: ptyprocess>=0.5 in /home/me/miniforge3/envs/python_07/lib/python3.12/site-packages (from pexpect>4.3->ipython->ipytest->blab==0.2.0) (0.7.0)\n",
      "Requirement already satisfied: wcwidth in /home/me/miniforge3/envs/python_07/lib/python3.12/site-packages (from prompt_toolkit<3.1.0,>=3.0.41->ipython->ipytest->blab==0.2.0) (0.2.13)\n",
      "Requirement already satisfied: executing>=1.2.0 in /home/me/miniforge3/envs/python_07/lib/python3.12/site-packages (from stack_data->ipython->ipytest->blab==0.2.0) (2.1.0)\n",
      "Requirement already satisfied: asttokens>=2.1.0 in /home/me/miniforge3/envs/python_07/lib/python3.12/site-packages (from stack_data->ipython->ipytest->blab==0.2.0) (3.0.0)\n",
      "Requirement already satisfied: pure_eval in /home/me/miniforge3/envs/python_07/lib/python3.12/site-packages (from stack_data->ipython->ipytest->blab==0.2.0) (0.2.3)\n",
      "Building wheels for collected packages: blab\n",
      "  Building editable for blab (pyproject.toml) ... \u001b[?25ldone\n",
      "\u001b[?25h  Created wheel for blab: filename=blab-0.2.0-0.editable-py3-none-any.whl size=2380 sha256=c82ef673e3f302db0c1ad548eda46c5f6dac5ef91a69f99c75ea56ec3cc71972\n",
      "  Stored in directory: /tmp/pip-ephem-wheel-cache-t0wplygt/wheels/00/ca/47/22fd9a722617936d906addc1ae5daf36d582b9a5dfc88a1b2e\n",
      "Successfully built blab\n",
      "Installing collected packages: blab\n",
      "Successfully installed blab-0.2.0\n"
     ]
    }
   ],
   "source": [
    "# install locally\n",
    "!python -m pip install -e ."
   ]
  },
  {
   "cell_type": "code",
   "execution_count": 4,
   "id": "8cec0e88-e3c2-4020-b9c9-176bcd255c46",
   "metadata": {
    "execution": {
     "iopub.execute_input": "2025-03-23T07:07:37.327730Z",
     "iopub.status.busy": "2025-03-23T07:07:37.327323Z",
     "iopub.status.idle": "2025-03-23T07:07:39.462463Z",
     "shell.execute_reply": "2025-03-23T07:07:39.461594Z",
     "shell.execute_reply.started": "2025-03-23T07:07:37.327701Z"
    }
   },
   "outputs": [
    {
     "name": "stdout",
     "output_type": "stream",
     "text": [
      "Name: blab\n",
      "Version: 0.2.0\n",
      "Summary: \n",
      "Home-page: https://github.com/djekra/blab\n",
      "Author: \n",
      "Author-email: \n",
      "License: \n",
      "Location: /home/me/miniforge3/envs/python_07/lib/python3.12/site-packages\n",
      "Editable project location: /media/me/LinuxDropbox/Dropbox/31_Projekte/01_Python/88_PyCharm/blab\n",
      "Requires: bpyth, importlib_resources, ipytest, matplotlib, nbconvert, nbformat\n",
      "Required-by: pandasklar\n"
     ]
    }
   ],
   "source": [
    "# show\n",
    "!pip show blab"
   ]
  },
  {
   "cell_type": "code",
   "execution_count": 5,
   "id": "baf8f2b6-2bb4-4460-b654-f4454bfec48f",
   "metadata": {
    "execution": {
     "iopub.execute_input": "2025-03-23T07:07:39.463869Z",
     "iopub.status.busy": "2025-03-23T07:07:39.463521Z",
     "iopub.status.idle": "2025-03-23T07:07:40.036235Z",
     "shell.execute_reply": "2025-03-23T07:07:40.035742Z",
     "shell.execute_reply.started": "2025-03-23T07:07:39.463831Z"
    }
   },
   "outputs": [],
   "source": [
    "# test import\n",
    "# Wenn dies failed: Restart Kernel and Run all Cells\n",
    "import blab"
   ]
  },
  {
   "cell_type": "code",
   "execution_count": 6,
   "id": "43f0bbdd-2df6-4534-a86e-77657d0329da",
   "metadata": {
    "execution": {
     "iopub.execute_input": "2025-03-23T07:07:40.037134Z",
     "iopub.status.busy": "2025-03-23T07:07:40.036858Z",
     "iopub.status.idle": "2025-03-23T07:07:41.538994Z",
     "shell.execute_reply": "2025-03-23T07:07:41.536052Z",
     "shell.execute_reply.started": "2025-03-23T07:07:40.037109Z"
    }
   },
   "outputs": [
    {
     "name": "stdout",
     "output_type": "stream",
     "text": [
      "Hello blab 0.2.0\n"
     ]
    }
   ],
   "source": [
    "# test script\n",
    "!blab"
   ]
  },
  {
   "cell_type": "code",
   "execution_count": 7,
   "id": "4ee9af0c-5d40-48c7-8c8d-61526a6f05d5",
   "metadata": {
    "execution": {
     "iopub.execute_input": "2025-03-23T07:07:41.543346Z",
     "iopub.status.busy": "2025-03-23T07:07:41.542086Z",
     "iopub.status.idle": "2025-03-23T07:07:42.213370Z",
     "shell.execute_reply": "2025-03-23T07:07:42.212676Z",
     "shell.execute_reply.started": "2025-03-23T07:07:41.543224Z"
    }
   },
   "outputs": [
    {
     "name": "stdout",
     "output_type": "stream",
     "text": [
      "blab init\n",
      "environment['in_colab']     = False\n",
      "environment['dropbox_path'] = /media/me/LinuxDropbox/Dropbox\n",
      "environment['lib_path']     = /media/me/LinuxDropbox/Dropbox/31_Projekte/01_Python/libs\n",
      "Start Time: 08:07:41\n"
     ]
    },
    {
     "data": {
      "text/html": [
       "<img src onerror=\"var cell = this.closest('.jp-CodeCell');var editor = cell.querySelector('.jp-Editor');editor.style.background='Beige';this.parentNode.removeChild(this)\">"
      ],
      "text/plain": [
       "<IPython.core.display.HTML object>"
      ]
     },
     "metadata": {},
     "output_type": "display_data"
    }
   ],
   "source": [
    "# blab init\n",
    "try:\n",
    "    import blab\n",
    "    startup_notebook = blab.blab_startup()\n",
    "    %run $startup_notebook\n",
    "except:\n",
    "    pass"
   ]
  },
  {
   "cell_type": "code",
   "execution_count": 8,
   "id": "78535e87-dbc9-4dd4-9c30-1db7b581484d",
   "metadata": {
    "execution": {
     "iopub.execute_input": "2025-03-23T07:07:42.214839Z",
     "iopub.status.busy": "2025-03-23T07:07:42.214117Z",
     "iopub.status.idle": "2025-03-23T07:07:42.235596Z",
     "shell.execute_reply": "2025-03-23T07:07:42.233811Z",
     "shell.execute_reply.started": "2025-03-23T07:07:42.214805Z"
    }
   },
   "outputs": [
    {
     "name": "stdout",
     "output_type": "stream",
     "text": [
      "Stop Time:  08:07:42\n",
      "Elapsed:    0 secs\n"
     ]
    },
    {
     "data": {
      "text/html": [
       "<img src onerror=\"var cell = this.closest('.jp-CodeCell');var editor = cell.querySelector('.jp-Editor');editor.style.background='DarkGray';this.parentNode.removeChild(this)\">"
      ],
      "text/plain": [
       "<IPython.core.display.HTML object>"
      ]
     },
     "metadata": {},
     "output_type": "display_data"
    }
   ],
   "source": [
    "raise Stop"
   ]
  },
  {
   "cell_type": "markdown",
   "id": "efa2c656-785f-45b7-a3b5-a9ae251bce06",
   "metadata": {},
   "source": [
    "## build"
   ]
  },
  {
   "cell_type": "code",
   "execution_count": 9,
   "id": "f20cbd4d-b38b-4bc9-a750-b14851fb174b",
   "metadata": {
    "execution": {
     "iopub.execute_input": "2025-03-23T07:08:59.298842Z",
     "iopub.status.busy": "2025-03-23T07:08:59.297423Z",
     "iopub.status.idle": "2025-03-23T07:09:00.720583Z",
     "shell.execute_reply": "2025-03-23T07:09:00.717200Z",
     "shell.execute_reply.started": "2025-03-23T07:08:59.298799Z"
    }
   },
   "outputs": [],
   "source": [
    "!pip install -q build"
   ]
  },
  {
   "cell_type": "code",
   "execution_count": 10,
   "id": "c745f5da-d6e4-408a-aa73-1166ccc6fd5b",
   "metadata": {
    "execution": {
     "iopub.execute_input": "2025-03-23T07:09:03.632672Z",
     "iopub.status.busy": "2025-03-23T07:09:03.631281Z",
     "iopub.status.idle": "2025-03-23T07:09:08.559362Z",
     "shell.execute_reply": "2025-03-23T07:09:08.557057Z",
     "shell.execute_reply.started": "2025-03-23T07:09:03.632514Z"
    }
   },
   "outputs": [
    {
     "name": "stdout",
     "output_type": "stream",
     "text": [
      "\u001b[1m* Creating isolated environment: venv+pip...\u001b[0m\n",
      "\u001b[1m* Installing packages in isolated environment:\u001b[0m\n",
      "  - setuptools>=61.0.0\n",
      "  - wheel\n",
      "\u001b[1m* Getting build dependencies for sdist...\u001b[0m\n",
      "running egg_info\n",
      "writing src/blab.egg-info/PKG-INFO\n",
      "writing dependency_links to src/blab.egg-info/dependency_links.txt\n",
      "writing entry points to src/blab.egg-info/entry_points.txt\n",
      "writing requirements to src/blab.egg-info/requires.txt\n",
      "writing top-level names to src/blab.egg-info/top_level.txt\n",
      "reading manifest file 'src/blab.egg-info/SOURCES.txt'\n",
      "adding license file 'LICENSE'\n",
      "writing manifest file 'src/blab.egg-info/SOURCES.txt'\n",
      "\u001b[1m* Building sdist...\u001b[0m\n",
      "running sdist\n",
      "running egg_info\n",
      "writing src/blab.egg-info/PKG-INFO\n",
      "writing dependency_links to src/blab.egg-info/dependency_links.txt\n",
      "writing entry points to src/blab.egg-info/entry_points.txt\n",
      "writing requirements to src/blab.egg-info/requires.txt\n",
      "writing top-level names to src/blab.egg-info/top_level.txt\n",
      "reading manifest file 'src/blab.egg-info/SOURCES.txt'\n",
      "adding license file 'LICENSE'\n",
      "writing manifest file 'src/blab.egg-info/SOURCES.txt'\n",
      "running check\n",
      "creating blab-0.2.0\n",
      "creating blab-0.2.0/src/blab\n",
      "creating blab-0.2.0/src/blab.egg-info\n",
      "creating blab-0.2.0/tests\n",
      "copying files to blab-0.2.0...\n",
      "copying LICENSE -> blab-0.2.0\n",
      "copying README.md -> blab-0.2.0\n",
      "copying pyproject.toml -> blab-0.2.0\n",
      "copying src/blab/1.txt -> blab-0.2.0/src/blab\n",
      "copying src/blab/__init__.py -> blab-0.2.0/src/blab\n",
      "copying src/blab/__main__.py -> blab-0.2.0/src/blab\n",
      "copying src/blab/blab_startup.ipynb -> blab-0.2.0/src/blab\n",
      "copying src/blab/blab_tools.py -> blab-0.2.0/src/blab\n",
      "copying src/blab.egg-info/PKG-INFO -> blab-0.2.0/src/blab.egg-info\n",
      "copying src/blab.egg-info/SOURCES.txt -> blab-0.2.0/src/blab.egg-info\n",
      "copying src/blab.egg-info/dependency_links.txt -> blab-0.2.0/src/blab.egg-info\n",
      "copying src/blab.egg-info/entry_points.txt -> blab-0.2.0/src/blab.egg-info\n",
      "copying src/blab.egg-info/requires.txt -> blab-0.2.0/src/blab.egg-info\n",
      "copying src/blab.egg-info/top_level.txt -> blab-0.2.0/src/blab.egg-info\n",
      "copying tests/test_blab_tools.py -> blab-0.2.0/tests\n",
      "copying tests/test_blab_tools_run_all.py -> blab-0.2.0/tests\n",
      "copying tests/test_blab_tools_search_notebooks.py -> blab-0.2.0/tests\n",
      "copying src/blab.egg-info/SOURCES.txt -> blab-0.2.0/src/blab.egg-info\n",
      "Writing blab-0.2.0/setup.cfg\n",
      "Creating tar archive\n",
      "removing 'blab-0.2.0' (and everything under it)\n",
      "\u001b[1m* Building wheel from sdist\u001b[0m\n",
      "\u001b[1m* Creating isolated environment: venv+pip...\u001b[0m\n",
      "\u001b[1m* Installing packages in isolated environment:\u001b[0m\n",
      "  - setuptools>=61.0.0\n",
      "  - wheel\n",
      "\u001b[1m* Getting build dependencies for wheel...\u001b[0m\n",
      "running egg_info\n",
      "writing src/blab.egg-info/PKG-INFO\n",
      "writing dependency_links to src/blab.egg-info/dependency_links.txt\n",
      "writing entry points to src/blab.egg-info/entry_points.txt\n",
      "writing requirements to src/blab.egg-info/requires.txt\n",
      "writing top-level names to src/blab.egg-info/top_level.txt\n",
      "reading manifest file 'src/blab.egg-info/SOURCES.txt'\n",
      "adding license file 'LICENSE'\n",
      "writing manifest file 'src/blab.egg-info/SOURCES.txt'\n",
      "\u001b[1m* Building wheel...\u001b[0m\n",
      "running bdist_wheel\n",
      "running build\n",
      "running build_py\n",
      "creating build/lib/blab\n",
      "copying src/blab/__init__.py -> build/lib/blab\n",
      "copying src/blab/blab_tools.py -> build/lib/blab\n",
      "copying src/blab/__main__.py -> build/lib/blab\n",
      "running egg_info\n",
      "writing src/blab.egg-info/PKG-INFO\n",
      "writing dependency_links to src/blab.egg-info/dependency_links.txt\n",
      "writing entry points to src/blab.egg-info/entry_points.txt\n",
      "writing requirements to src/blab.egg-info/requires.txt\n",
      "writing top-level names to src/blab.egg-info/top_level.txt\n",
      "reading manifest file 'src/blab.egg-info/SOURCES.txt'\n",
      "adding license file 'LICENSE'\n",
      "writing manifest file 'src/blab.egg-info/SOURCES.txt'\n",
      "copying src/blab/1.txt -> build/lib/blab\n",
      "copying src/blab/blab_startup.ipynb -> build/lib/blab\n",
      "installing to build/bdist.linux-x86_64/wheel\n",
      "running install\n",
      "running install_lib\n",
      "creating build/bdist.linux-x86_64/wheel\n",
      "creating build/bdist.linux-x86_64/wheel/blab\n",
      "copying build/lib/blab/1.txt -> build/bdist.linux-x86_64/wheel/./blab\n",
      "copying build/lib/blab/__init__.py -> build/bdist.linux-x86_64/wheel/./blab\n",
      "copying build/lib/blab/blab_tools.py -> build/bdist.linux-x86_64/wheel/./blab\n",
      "copying build/lib/blab/blab_startup.ipynb -> build/bdist.linux-x86_64/wheel/./blab\n",
      "copying build/lib/blab/__main__.py -> build/bdist.linux-x86_64/wheel/./blab\n",
      "running install_egg_info\n",
      "Copying src/blab.egg-info to build/bdist.linux-x86_64/wheel/./blab-0.2.0-py3.12.egg-info\n",
      "running install_scripts\n",
      "creating build/bdist.linux-x86_64/wheel/blab-0.2.0.dist-info/WHEEL\n",
      "creating '/media/me/LinuxDropbox/Dropbox/31_Projekte/01_Python/88_PyCharm/blab/dist/.tmp-2nkege2l/blab-0.2.0-py3-none-any.whl' and adding 'build/bdist.linux-x86_64/wheel' to it\n",
      "adding 'blab/1.txt'\n",
      "adding 'blab/__init__.py'\n",
      "adding 'blab/__main__.py'\n",
      "adding 'blab/blab_startup.ipynb'\n",
      "adding 'blab/blab_tools.py'\n",
      "adding 'blab-0.2.0.dist-info/licenses/LICENSE'\n",
      "adding 'blab-0.2.0.dist-info/METADATA'\n",
      "adding 'blab-0.2.0.dist-info/WHEEL'\n",
      "adding 'blab-0.2.0.dist-info/entry_points.txt'\n",
      "adding 'blab-0.2.0.dist-info/top_level.txt'\n",
      "adding 'blab-0.2.0.dist-info/RECORD'\n",
      "removing build/bdist.linux-x86_64/wheel\n",
      "\u001b[1m\u001b[92mSuccessfully built \u001b[4mblab-0.2.0.tar.gz\u001b[0m\u001b[1m\u001b[92m and \u001b[4mblab-0.2.0-py3-none-any.whl\u001b[0m\u001b[1m\u001b[92m\u001b[0m\n"
     ]
    }
   ],
   "source": [
    "!python -m build"
   ]
  },
  {
   "cell_type": "markdown",
   "id": "25343284-bf36-4d18-8dba-1d765348763f",
   "metadata": {},
   "source": [
    "## Publish on github"
   ]
  },
  {
   "cell_type": "code",
   "execution_count": null,
   "id": "d444d5d8-ddb6-451e-9300-fa6424dde8f0",
   "metadata": {
    "execution": {
     "iopub.status.busy": "2025-03-23T07:07:42.238196Z",
     "iopub.status.idle": "2025-03-23T07:07:42.238550Z",
     "shell.execute_reply": "2025-03-23T07:07:42.238376Z",
     "shell.execute_reply.started": "2025-03-23T07:07:42.238360Z"
    }
   },
   "outputs": [],
   "source": [
    "!git status"
   ]
  },
  {
   "cell_type": "code",
   "execution_count": null,
   "id": "a9a7e740-2661-43c1-9743-bef78afaba54",
   "metadata": {
    "execution": {
     "iopub.status.busy": "2025-03-23T07:07:42.239507Z",
     "iopub.status.idle": "2025-03-23T07:07:42.239778Z",
     "shell.execute_reply": "2025-03-23T07:07:42.239667Z",
     "shell.execute_reply.started": "2025-03-23T07:07:42.239656Z"
    }
   },
   "outputs": [],
   "source": [
    "!git add --all"
   ]
  },
  {
   "cell_type": "code",
   "execution_count": null,
   "id": "f5ed7e73-e40b-4de9-858d-54a1530018cb",
   "metadata": {
    "execution": {
     "iopub.status.busy": "2025-03-23T07:07:42.240315Z",
     "iopub.status.idle": "2025-03-23T07:07:42.240713Z",
     "shell.execute_reply": "2025-03-23T07:07:42.240514Z",
     "shell.execute_reply.started": "2025-03-23T07:07:42.240496Z"
    }
   },
   "outputs": [],
   "source": [
    "# Commit message eintragen und run\n",
    "!git commit -m \"ֹ\""
   ]
  },
  {
   "cell_type": "code",
   "execution_count": null,
   "id": "2aba6515-d4a9-4a7e-a47a-d1c7aa881c36",
   "metadata": {
    "execution": {
     "iopub.status.busy": "2025-03-23T07:07:42.242254Z",
     "iopub.status.idle": "2025-03-23T07:07:42.242664Z",
     "shell.execute_reply": "2025-03-23T07:07:42.242464Z",
     "shell.execute_reply.started": "2025-03-23T07:07:42.242447Z"
    }
   },
   "outputs": [],
   "source": [
    "raise Stop"
   ]
  },
  {
   "cell_type": "markdown",
   "id": "e62fe388-b5f9-408c-b6e6-b6e87eba5876",
   "metadata": {},
   "source": [
    "* Terminal ins Verzeichnis öffnen\n",
    "* `git push origin master`\n",
    "* Personal Access Token verwenden statt Passwort\n",
    "* überprüfen: https://github.com/djekra/blab"
   ]
  },
  {
   "cell_type": "markdown",
   "id": "c7654839-a06f-4024-a72f-5e081082af6b",
   "metadata": {},
   "source": [
    "## Publish on pypi.org"
   ]
  },
  {
   "cell_type": "markdown",
   "id": "2b5b5f7b-8225-4b21-b483-bcad5702b726",
   "metadata": {},
   "source": [
    "* `python -m twine upload --skip-existing dist/*` \n",
    "* Version überprüfen: https://pypi.org/project/blab/"
   ]
  },
  {
   "cell_type": "code",
   "execution_count": null,
   "id": "42124620-1dac-401c-9780-8b78c5f1c9e2",
   "metadata": {
    "execution": {
     "iopub.status.busy": "2025-03-23T07:07:42.243195Z",
     "iopub.status.idle": "2025-03-23T07:07:42.243537Z",
     "shell.execute_reply": "2025-03-23T07:07:42.243379Z",
     "shell.execute_reply.started": "2025-03-23T07:07:42.243364Z"
    }
   },
   "outputs": [],
   "source": [
    "# Nicht nötig\n",
    "# Publish on test.pypi.org\n",
    "# python -m twine upload --repository testpypi --skip-existing dist/* "
   ]
  },
  {
   "cell_type": "markdown",
   "id": "16c9f64f-40af-41ac-90db-f802bb8f73c1",
   "metadata": {},
   "source": [
    "## Test from PyPi"
   ]
  },
  {
   "cell_type": "code",
   "execution_count": null,
   "id": "3af8896f-3f40-4d28-a365-fc4c0cb4228f",
   "metadata": {
    "execution": {
     "iopub.status.busy": "2025-03-23T07:07:42.245724Z",
     "iopub.status.idle": "2025-03-23T07:07:42.246431Z",
     "shell.execute_reply": "2025-03-23T07:07:42.246220Z",
     "shell.execute_reply.started": "2025-03-23T07:07:42.246197Z"
    }
   },
   "outputs": [],
   "source": [
    "# uninstall\n",
    "!pip uninstall -y blab"
   ]
  },
  {
   "cell_type": "code",
   "execution_count": null,
   "id": "8ea8f83c-6970-424a-993d-f8e378e5faa9",
   "metadata": {
    "execution": {
     "iopub.status.busy": "2025-03-23T07:07:42.247000Z",
     "iopub.status.idle": "2025-03-23T07:07:42.247443Z",
     "shell.execute_reply": "2025-03-23T07:07:42.247237Z",
     "shell.execute_reply.started": "2025-03-23T07:07:42.247220Z"
    }
   },
   "outputs": [],
   "source": [
    "!pip install blab --no-cache-dir "
   ]
  },
  {
   "cell_type": "code",
   "execution_count": null,
   "id": "5655c1d6-916d-4f5a-90aa-1877b6a5317b",
   "metadata": {
    "execution": {
     "iopub.status.busy": "2025-03-23T07:07:42.248094Z",
     "iopub.status.idle": "2025-03-23T07:07:42.248387Z",
     "shell.execute_reply": "2025-03-23T07:07:42.248274Z",
     "shell.execute_reply.started": "2025-03-23T07:07:42.248263Z"
    }
   },
   "outputs": [],
   "source": [
    "# blab init\n",
    "try:\n",
    "    import blab\n",
    "    startup_notebook = blab.blab_startup()\n",
    "    %run $startup_notebook\n",
    "except:\n",
    "    pass"
   ]
  },
  {
   "cell_type": "code",
   "execution_count": null,
   "id": "b1a1633d-62ad-4088-8b90-6447cc84daf6",
   "metadata": {
    "execution": {
     "iopub.status.busy": "2025-03-23T07:07:42.248923Z",
     "iopub.status.idle": "2025-03-23T07:07:42.250640Z",
     "shell.execute_reply": "2025-03-23T07:07:42.250357Z",
     "shell.execute_reply.started": "2025-03-23T07:07:42.250332Z"
    }
   },
   "outputs": [],
   "source": [
    "# test script\n",
    "!blab"
   ]
  },
  {
   "cell_type": "code",
   "execution_count": null,
   "id": "d734da84-24da-4fa9-8a12-139486f7bf76",
   "metadata": {
    "execution": {
     "iopub.status.busy": "2025-03-23T07:07:42.251353Z",
     "iopub.status.idle": "2025-03-23T07:07:42.251832Z",
     "shell.execute_reply": "2025-03-23T07:07:42.251590Z",
     "shell.execute_reply.started": "2025-03-23T07:07:42.251574Z"
    }
   },
   "outputs": [],
   "source": [
    "# show version\n",
    "from importlib.metadata import version  \n",
    "version('blab')  "
   ]
  }
 ],
 "metadata": {
  "kernelspec": {
   "display_name": "Python 3 (ipykernel)",
   "language": "python",
   "name": "python3"
  },
  "language_info": {
   "codemirror_mode": {
    "name": "ipython",
    "version": 3
   },
   "file_extension": ".py",
   "mimetype": "text/x-python",
   "name": "python",
   "nbconvert_exporter": "python",
   "pygments_lexer": "ipython3",
   "version": "3.12.9"
  }
 },
 "nbformat": 4,
 "nbformat_minor": 5
}
