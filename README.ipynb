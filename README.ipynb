{
 "cells": [
  {
   "cell_type": "markdown",
   "id": "5c77f0a1-d5b1-4dc1-b446-ea5f2528180b",
   "metadata": {},
   "source": [
    "# blab Tools for Jupyter\n",
    "Some Jupyter Tools, see `jupyter` directory\n",
    "\n",
    "## Install\n",
    "`pip install blab`\n",
    "\n",
    "## Usage\n",
    "Put this code in the first cell of your notebook:\n",
    "```\n",
    "# blab init\n",
    "try:\n",
    "    import blab\n",
    "    startup_notebook = blab.blab_startup()\n",
    "    %run $startup_notebook\n",
    "except:\n",
    "    pass\n",
    "```\n",
    "\n",
    "## Features\n",
    "* Finds a local folder named `libs` and integrates it into the Python path. Useful for your own private libraries.\n",
    "* loads `autotime` (see https://github.com/cpcloud/ipython-autotime)\n",
    "* loads `autoreload` \n",
    "* loads `ipytest`\n",
    "* configures `%matplotlib inline`\n",
    "* Tool: `run_notebooks`: Starts all notebooks in the directory in alphabetical order\n",
    "* Tool: `search_notebooks`: Searches notebooks for occurrences of a string (wrapper for nbconvert)\n",
    "* Tool: `raise Stop`: Ends the execution of a notebook and displays the elapsed time\n",
    "* Tool: `bgc('orange')`: Sets the backbround color of a notebook cell\n"
   ]
  },
  {
   "cell_type": "code",
   "execution_count": null,
   "id": "997a89d4-ee36-4eb2-8f4f-9affd8c95333",
   "metadata": {},
   "outputs": [],
   "source": []
  }
 ],
 "metadata": {
  "kernelspec": {
   "display_name": "Python 3 (ipykernel)",
   "language": "python",
   "name": "python3"
  },
  "language_info": {
   "codemirror_mode": {
    "name": "ipython",
    "version": 3
   },
   "file_extension": ".py",
   "mimetype": "text/x-python",
   "name": "python",
   "nbconvert_exporter": "python",
   "pygments_lexer": "ipython3",
   "version": "3.9.13"
  }
 },
 "nbformat": 4,
 "nbformat_minor": 5
}
