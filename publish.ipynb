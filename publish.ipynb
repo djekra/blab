{
 "cells": [
  {
   "cell_type": "markdown",
   "id": "a4547f78-251b-45b5-a478-27dc691d193b",
   "metadata": {},
   "source": [
    "## Local install"
   ]
  },
  {
   "cell_type": "code",
   "execution_count": 4,
   "id": "b6454e67-63bf-4429-9f87-fbec0e99cfd1",
   "metadata": {},
   "outputs": [
    {
     "name": "stdout",
     "output_type": "stream",
     "text": [
      "Found existing installation: blab 0.0.29\n",
      "Uninstalling blab-0.0.29:\n",
      "  Would remove:\n",
      "    /home/a/anaconda3/envs/bjpython/bin/blab\n",
      "    /home/a/anaconda3/envs/bjpython/lib/python3.8/site-packages/__editable__.blab-0.0.29.pth\n",
      "    /home/a/anaconda3/envs/bjpython/lib/python3.8/site-packages/blab-0.0.29.dist-info/*\n",
      "Proceed (Y/n)?   Successfully uninstalled blab-0.0.29\n"
     ]
    }
   ],
   "source": [
    "# uninstall\n",
    "!printf 'y\\n' | pip uninstall blab"
   ]
  },
  {
   "cell_type": "code",
   "execution_count": 5,
   "id": "f345ee0f-748f-40be-8578-8ad4ac4d9fe3",
   "metadata": {},
   "outputs": [
    {
     "name": "stdout",
     "output_type": "stream",
     "text": [
      "Obtaining file:///mnt/DATA/Dropbox/31_Projekte/01_Python/git/blab\n",
      "  Installing build dependencies ... \u001b[?25ldone\n",
      "\u001b[?25h  Checking if build backend supports build_editable ... \u001b[?25ldone\n",
      "\u001b[?25h  Getting requirements to build editable ... \u001b[?25ldone\n",
      "\u001b[?25h  Preparing editable metadata (pyproject.toml) ... \u001b[?25ldone\n",
      "\u001b[?25hRequirement already satisfied: nbformat in /home/a/anaconda3/envs/bjpython/lib/python3.8/site-packages (from blab==0.0.30) (5.2.0)\n",
      "Requirement already satisfied: bpyth in /home/a/anaconda3/envs/bjpython/lib/python3.8/site-packages (from blab==0.0.30) (0.0.9)\n",
      "Requirement already satisfied: nbconvert in /home/a/anaconda3/envs/bjpython/lib/python3.8/site-packages (from blab==0.0.30) (6.4.4)\n",
      "Requirement already satisfied: entrypoints>=0.2.2 in /home/a/anaconda3/envs/bjpython/lib/python3.8/site-packages (from nbconvert->blab==0.0.30) (0.4)\n",
      "Requirement already satisfied: jupyterlab-pygments in /home/a/anaconda3/envs/bjpython/lib/python3.8/site-packages (from nbconvert->blab==0.0.30) (0.1.2)\n",
      "Requirement already satisfied: testpath in /home/a/anaconda3/envs/bjpython/lib/python3.8/site-packages (from nbconvert->blab==0.0.30) (0.6.0)\n",
      "Requirement already satisfied: traitlets>=5.0 in /home/a/anaconda3/envs/bjpython/lib/python3.8/site-packages (from nbconvert->blab==0.0.30) (5.1.1)\n",
      "Requirement already satisfied: defusedxml in /home/a/anaconda3/envs/bjpython/lib/python3.8/site-packages (from nbconvert->blab==0.0.30) (0.7.1)\n",
      "Requirement already satisfied: mistune<2,>=0.8.1 in /home/a/anaconda3/envs/bjpython/lib/python3.8/site-packages (from nbconvert->blab==0.0.30) (0.8.4)\n",
      "Requirement already satisfied: jinja2>=2.4 in /home/a/anaconda3/envs/bjpython/lib/python3.8/site-packages (from nbconvert->blab==0.0.30) (3.0.3)\n",
      "Requirement already satisfied: jupyter-core in /home/a/anaconda3/envs/bjpython/lib/python3.8/site-packages (from nbconvert->blab==0.0.30) (4.9.2)\n",
      "Requirement already satisfied: pandocfilters>=1.4.1 in /home/a/anaconda3/envs/bjpython/lib/python3.8/site-packages (from nbconvert->blab==0.0.30) (1.5.0)\n",
      "Requirement already satisfied: nbclient<0.6.0,>=0.5.0 in /home/a/anaconda3/envs/bjpython/lib/python3.8/site-packages (from nbconvert->blab==0.0.30) (0.5.13)\n",
      "Requirement already satisfied: bleach in /home/a/anaconda3/envs/bjpython/lib/python3.8/site-packages (from nbconvert->blab==0.0.30) (4.1.0)\n",
      "Requirement already satisfied: pygments>=2.4.1 in /home/a/anaconda3/envs/bjpython/lib/python3.8/site-packages (from nbconvert->blab==0.0.30) (2.11.2)\n",
      "Requirement already satisfied: beautifulsoup4 in /home/a/anaconda3/envs/bjpython/lib/python3.8/site-packages (from nbconvert->blab==0.0.30) (4.10.0)\n",
      "Requirement already satisfied: jsonschema!=2.5.0,>=2.4 in /home/a/anaconda3/envs/bjpython/lib/python3.8/site-packages (from nbformat->blab==0.0.30) (4.4.0)\n",
      "Requirement already satisfied: MarkupSafe>=2.0 in /home/a/anaconda3/envs/bjpython/lib/python3.8/site-packages (from jinja2>=2.4->nbconvert->blab==0.0.30) (2.1.1)\n",
      "Requirement already satisfied: pyrsistent!=0.17.0,!=0.17.1,!=0.17.2,>=0.14.0 in /home/a/anaconda3/envs/bjpython/lib/python3.8/site-packages (from jsonschema!=2.5.0,>=2.4->nbformat->blab==0.0.30) (0.18.1)\n",
      "Requirement already satisfied: attrs>=17.4.0 in /home/a/anaconda3/envs/bjpython/lib/python3.8/site-packages (from jsonschema!=2.5.0,>=2.4->nbformat->blab==0.0.30) (21.4.0)\n",
      "Requirement already satisfied: importlib-resources>=1.4.0 in /home/a/anaconda3/envs/bjpython/lib/python3.8/site-packages (from jsonschema!=2.5.0,>=2.4->nbformat->blab==0.0.30) (5.4.0)\n",
      "Requirement already satisfied: nest-asyncio in /home/a/anaconda3/envs/bjpython/lib/python3.8/site-packages (from nbclient<0.6.0,>=0.5.0->nbconvert->blab==0.0.30) (1.5.4)\n",
      "Requirement already satisfied: jupyter-client>=6.1.5 in /home/a/anaconda3/envs/bjpython/lib/python3.8/site-packages (from nbclient<0.6.0,>=0.5.0->nbconvert->blab==0.0.30) (7.1.2)\n",
      "Requirement already satisfied: soupsieve>1.2 in /home/a/anaconda3/envs/bjpython/lib/python3.8/site-packages (from beautifulsoup4->nbconvert->blab==0.0.30) (2.3.1)\n",
      "Requirement already satisfied: webencodings in /home/a/anaconda3/envs/bjpython/lib/python3.8/site-packages (from bleach->nbconvert->blab==0.0.30) (0.5.1)\n",
      "Requirement already satisfied: six>=1.9.0 in /home/a/anaconda3/envs/bjpython/lib/python3.8/site-packages (from bleach->nbconvert->blab==0.0.30) (1.16.0)\n",
      "Requirement already satisfied: packaging in /home/a/anaconda3/envs/bjpython/lib/python3.8/site-packages (from bleach->nbconvert->blab==0.0.30) (21.3)\n",
      "Requirement already satisfied: zipp>=3.1.0 in /home/a/anaconda3/envs/bjpython/lib/python3.8/site-packages (from importlib-resources>=1.4.0->jsonschema!=2.5.0,>=2.4->nbformat->blab==0.0.30) (3.7.0)\n",
      "Requirement already satisfied: python-dateutil>=2.1 in /home/a/anaconda3/envs/bjpython/lib/python3.8/site-packages (from jupyter-client>=6.1.5->nbclient<0.6.0,>=0.5.0->nbconvert->blab==0.0.30) (2.8.2)\n",
      "Requirement already satisfied: tornado>=4.1 in /home/a/anaconda3/envs/bjpython/lib/python3.8/site-packages (from jupyter-client>=6.1.5->nbclient<0.6.0,>=0.5.0->nbconvert->blab==0.0.30) (6.1)\n",
      "Requirement already satisfied: pyzmq>=13 in /home/a/anaconda3/envs/bjpython/lib/python3.8/site-packages (from jupyter-client>=6.1.5->nbclient<0.6.0,>=0.5.0->nbconvert->blab==0.0.30) (22.3.0)\n",
      "Requirement already satisfied: pyparsing!=3.0.5,>=2.0.2 in /home/a/anaconda3/envs/bjpython/lib/python3.8/site-packages (from packaging->bleach->nbconvert->blab==0.0.30) (3.0.7)\n",
      "Building wheels for collected packages: blab\n",
      "  Building editable for blab (pyproject.toml) ... \u001b[?25ldone\n",
      "\u001b[?25h  Created wheel for blab: filename=blab-0.0.30-0.editable-py3-none-any.whl size=2878 sha256=2e7a9fd996110474833462b8a8d404982cc1079990b386a67532a8c177207c5a\n",
      "  Stored in directory: /tmp/pip-ephem-wheel-cache-jnekqseb/wheels/c8/09/5e/1303fcd63bde4bdd0d380af1969eeca063f3158bbbf5f72b16\n",
      "Successfully built blab\n",
      "Installing collected packages: blab\n",
      "Successfully installed blab-0.0.30\n"
     ]
    }
   ],
   "source": [
    "# install locally\n",
    "!python -m pip install -e ."
   ]
  },
  {
   "cell_type": "code",
   "execution_count": 6,
   "id": "8cec0e88-e3c2-4020-b9c9-176bcd255c46",
   "metadata": {},
   "outputs": [
    {
     "name": "stdout",
     "output_type": "stream",
     "text": [
      "Name: blab\n",
      "Version: 0.0.30\n",
      "Summary: Various Jupyter Tools\n",
      "Home-page: \n",
      "Author: \n",
      "Author-email: djekra <hopsalla@gmail.com>\n",
      "License: MIT\n",
      "Location: /home/a/anaconda3/envs/bjpython/lib/python3.8/site-packages\n",
      "Requires: bpyth, nbconvert, nbformat\n",
      "Required-by: \n"
     ]
    }
   ],
   "source": [
    "# show\n",
    "!pip show blab"
   ]
  },
  {
   "cell_type": "code",
   "execution_count": 7,
   "id": "baf8f2b6-2bb4-4460-b654-f4454bfec48f",
   "metadata": {},
   "outputs": [],
   "source": [
    "# test import\n",
    "import blab"
   ]
  },
  {
   "cell_type": "code",
   "execution_count": 8,
   "id": "43f0bbdd-2df6-4534-a86e-77657d0329da",
   "metadata": {},
   "outputs": [
    {
     "name": "stdout",
     "output_type": "stream",
     "text": [
      "blab Hello World\n"
     ]
    }
   ],
   "source": [
    "# test script\n",
    "!blab"
   ]
  },
  {
   "cell_type": "code",
   "execution_count": 9,
   "id": "4ee9af0c-5d40-48c7-8c8d-61526a6f05d5",
   "metadata": {},
   "outputs": [
    {
     "name": "stdout",
     "output_type": "stream",
     "text": [
      "blab init\n",
      "blab found local libs at /mnt/DATA/Dropbox/31_Projekte/01_Python/libs\n",
      "Start Time: 17:30:52\n"
     ]
    },
    {
     "data": {
      "text/html": [
       "<img src onerror=\"var cell = this.closest('.jp-CodeCell');var editor = cell.querySelector('.jp-Editor');editor.style.background='Beige';this.parentNode.removeChild(this)\">"
      ],
      "text/plain": [
       "<IPython.core.display.HTML object>"
      ]
     },
     "metadata": {},
     "output_type": "display_data"
    },
    {
     "name": "stdout",
     "output_type": "stream",
     "text": [
      "time: 861 ms (started: 2022-09-13 17:30:52 +02:00)\n"
     ]
    }
   ],
   "source": [
    "# blab init\n",
    "import blab\n",
    "startup_notebook = blab.blab_startup()\n",
    "%run $startup_notebook"
   ]
  },
  {
   "cell_type": "markdown",
   "id": "efa2c656-785f-45b7-a3b5-a9ae251bce06",
   "metadata": {},
   "source": [
    "## build"
   ]
  },
  {
   "cell_type": "code",
   "execution_count": 10,
   "id": "f20cbd4d-b38b-4bc9-a750-b14851fb174b",
   "metadata": {},
   "outputs": [
    {
     "name": "stdout",
     "output_type": "stream",
     "text": [
      "time: 2.92 s (started: 2022-09-13 17:30:53 +02:00)\n"
     ]
    }
   ],
   "source": [
    "!pip install -q build"
   ]
  },
  {
   "cell_type": "code",
   "execution_count": 11,
   "id": "c745f5da-d6e4-408a-aa73-1166ccc6fd5b",
   "metadata": {},
   "outputs": [
    {
     "name": "stdout",
     "output_type": "stream",
     "text": [
      "\u001b[1m* Creating venv isolated environment...\u001b[0m\n",
      "\u001b[1m* Installing packages in isolated environment... (setuptools>=61.0.0, wheel)\u001b[0m\n",
      "\u001b[1m* Getting dependencies for sdist...\u001b[0m\n",
      "/tmp/build-env-gvl6azze/lib/python3.8/site-packages/setuptools/config/pyprojecttoml.py:108: _BetaConfiguration: Support for `[tool.setuptools]` in `pyproject.toml` is still *beta*.\n",
      "  warnings.warn(msg, _BetaConfiguration)\n",
      "running egg_info\n",
      "writing src/blab.egg-info/PKG-INFO\n",
      "writing dependency_links to src/blab.egg-info/dependency_links.txt\n",
      "writing entry points to src/blab.egg-info/entry_points.txt\n",
      "writing requirements to src/blab.egg-info/requires.txt\n",
      "writing top-level names to src/blab.egg-info/top_level.txt\n",
      "reading manifest file 'src/blab.egg-info/SOURCES.txt'\n",
      "adding license file 'LICENSE'\n",
      "writing manifest file 'src/blab.egg-info/SOURCES.txt'\n",
      "\u001b[1m* Building sdist...\u001b[0m\n",
      "/tmp/build-env-gvl6azze/lib/python3.8/site-packages/setuptools/config/pyprojecttoml.py:108: _BetaConfiguration: Support for `[tool.setuptools]` in `pyproject.toml` is still *beta*.\n",
      "  warnings.warn(msg, _BetaConfiguration)\n",
      "running sdist\n",
      "running egg_info\n",
      "writing src/blab.egg-info/PKG-INFO\n",
      "writing dependency_links to src/blab.egg-info/dependency_links.txt\n",
      "writing entry points to src/blab.egg-info/entry_points.txt\n",
      "writing requirements to src/blab.egg-info/requires.txt\n",
      "writing top-level names to src/blab.egg-info/top_level.txt\n",
      "reading manifest file 'src/blab.egg-info/SOURCES.txt'\n",
      "adding license file 'LICENSE'\n",
      "writing manifest file 'src/blab.egg-info/SOURCES.txt'\n",
      "running check\n",
      "creating blab-0.0.30\n",
      "creating blab-0.0.30/src\n",
      "creating blab-0.0.30/src/blab\n",
      "creating blab-0.0.30/src/blab.egg-info\n",
      "copying files to blab-0.0.30...\n",
      "copying LICENSE -> blab-0.0.30\n",
      "copying README.md -> blab-0.0.30\n",
      "copying pyproject.toml -> blab-0.0.30\n",
      "copying src/blab/1.txt -> blab-0.0.30/src/blab\n",
      "copying src/blab/__init__.py -> blab-0.0.30/src/blab\n",
      "copying src/blab/__main__.py -> blab-0.0.30/src/blab\n",
      "copying src/blab/blab_startup.ipynb -> blab-0.0.30/src/blab\n",
      "copying src/blab/blab_tools.py -> blab-0.0.30/src/blab\n",
      "copying src/blab.egg-info/PKG-INFO -> blab-0.0.30/src/blab.egg-info\n",
      "copying src/blab.egg-info/SOURCES.txt -> blab-0.0.30/src/blab.egg-info\n",
      "copying src/blab.egg-info/dependency_links.txt -> blab-0.0.30/src/blab.egg-info\n",
      "copying src/blab.egg-info/entry_points.txt -> blab-0.0.30/src/blab.egg-info\n",
      "copying src/blab.egg-info/requires.txt -> blab-0.0.30/src/blab.egg-info\n",
      "copying src/blab.egg-info/top_level.txt -> blab-0.0.30/src/blab.egg-info\n",
      "Writing blab-0.0.30/setup.cfg\n",
      "Creating tar archive\n",
      "removing 'blab-0.0.30' (and everything under it)\n",
      "\u001b[1m* Building wheel from sdist\u001b[0m\n",
      "\u001b[1m* Creating venv isolated environment...\u001b[0m\n",
      "\u001b[1m* Installing packages in isolated environment... (setuptools>=61.0.0, wheel)\u001b[0m\n",
      "\u001b[1m* Getting dependencies for wheel...\u001b[0m\n",
      "/tmp/build-env-u7vex4df/lib/python3.8/site-packages/setuptools/config/pyprojecttoml.py:108: _BetaConfiguration: Support for `[tool.setuptools]` in `pyproject.toml` is still *beta*.\n",
      "  warnings.warn(msg, _BetaConfiguration)\n",
      "running egg_info\n",
      "writing src/blab.egg-info/PKG-INFO\n",
      "writing dependency_links to src/blab.egg-info/dependency_links.txt\n",
      "writing entry points to src/blab.egg-info/entry_points.txt\n",
      "writing requirements to src/blab.egg-info/requires.txt\n",
      "writing top-level names to src/blab.egg-info/top_level.txt\n",
      "reading manifest file 'src/blab.egg-info/SOURCES.txt'\n",
      "adding license file 'LICENSE'\n",
      "writing manifest file 'src/blab.egg-info/SOURCES.txt'\n",
      "\u001b[1m* Installing packages in isolated environment... (wheel)\u001b[0m\n",
      "\u001b[1m* Building wheel...\u001b[0m\n",
      "/tmp/build-env-u7vex4df/lib/python3.8/site-packages/setuptools/config/pyprojecttoml.py:108: _BetaConfiguration: Support for `[tool.setuptools]` in `pyproject.toml` is still *beta*.\n",
      "  warnings.warn(msg, _BetaConfiguration)\n",
      "running bdist_wheel\n",
      "running build\n",
      "running build_py\n",
      "creating build\n",
      "creating build/lib\n",
      "creating build/lib/blab\n",
      "copying src/blab/__init__.py -> build/lib/blab\n",
      "copying src/blab/__main__.py -> build/lib/blab\n",
      "copying src/blab/blab_tools.py -> build/lib/blab\n",
      "running egg_info\n",
      "writing src/blab.egg-info/PKG-INFO\n",
      "writing dependency_links to src/blab.egg-info/dependency_links.txt\n",
      "writing entry points to src/blab.egg-info/entry_points.txt\n",
      "writing requirements to src/blab.egg-info/requires.txt\n",
      "writing top-level names to src/blab.egg-info/top_level.txt\n",
      "reading manifest file 'src/blab.egg-info/SOURCES.txt'\n",
      "adding license file 'LICENSE'\n",
      "writing manifest file 'src/blab.egg-info/SOURCES.txt'\n",
      "copying src/blab/1.txt -> build/lib/blab\n",
      "copying src/blab/blab_startup.ipynb -> build/lib/blab\n",
      "installing to build/bdist.linux-x86_64/wheel\n",
      "running install\n",
      "running install_lib\n",
      "creating build/bdist.linux-x86_64\n",
      "creating build/bdist.linux-x86_64/wheel\n",
      "creating build/bdist.linux-x86_64/wheel/blab\n",
      "copying build/lib/blab/__init__.py -> build/bdist.linux-x86_64/wheel/blab\n",
      "copying build/lib/blab/1.txt -> build/bdist.linux-x86_64/wheel/blab\n",
      "copying build/lib/blab/blab_startup.ipynb -> build/bdist.linux-x86_64/wheel/blab\n",
      "copying build/lib/blab/__main__.py -> build/bdist.linux-x86_64/wheel/blab\n",
      "copying build/lib/blab/blab_tools.py -> build/bdist.linux-x86_64/wheel/blab\n",
      "running install_egg_info\n",
      "Copying src/blab.egg-info to build/bdist.linux-x86_64/wheel/blab-0.0.30-py3.8.egg-info\n",
      "running install_scripts\n",
      "adding license file \"LICENSE\" (matched pattern \"LICEN[CS]E*\")\n",
      "creating build/bdist.linux-x86_64/wheel/blab-0.0.30.dist-info/WHEEL\n",
      "creating '/mnt/DATA/Dropbox/31_Projekte/01_Python/git/blab/dist/tmpwhsv9vzh/blab-0.0.30-py3-none-any.whl' and adding 'build/bdist.linux-x86_64/wheel' to it\n",
      "adding 'blab/1.txt'\n",
      "adding 'blab/__init__.py'\n",
      "adding 'blab/__main__.py'\n",
      "adding 'blab/blab_startup.ipynb'\n",
      "adding 'blab/blab_tools.py'\n",
      "adding 'blab-0.0.30.dist-info/LICENSE'\n",
      "adding 'blab-0.0.30.dist-info/METADATA'\n",
      "adding 'blab-0.0.30.dist-info/WHEEL'\n",
      "adding 'blab-0.0.30.dist-info/entry_points.txt'\n",
      "adding 'blab-0.0.30.dist-info/top_level.txt'\n",
      "adding 'blab-0.0.30.dist-info/RECORD'\n",
      "removing build/bdist.linux-x86_64/wheel\n",
      "\u001b[1m\u001b[92mSuccessfully built \u001b[4mblab-0.0.30.tar.gz\u001b[0m\u001b[1m\u001b[92m and \u001b[4mblab-0.0.30-py3-none-any.whl\u001b[0m\u001b[1m\u001b[92m\u001b[0m\n",
      "\u001b[0mtime: 12.9 s (started: 2022-09-13 17:30:56 +02:00)\n"
     ]
    }
   ],
   "source": [
    "!python -m build"
   ]
  },
  {
   "cell_type": "code",
   "execution_count": 12,
   "id": "2aba6515-d4a9-4a7e-a47a-d1c7aa881c36",
   "metadata": {},
   "outputs": [
    {
     "name": "stdout",
     "output_type": "stream",
     "text": [
      "Stop Time:  17:31:09\n",
      "Elapsed:    16 secs\n"
     ]
    },
    {
     "data": {
      "text/html": [
       "<img src onerror=\"var cell = this.closest('.jp-CodeCell');var editor = cell.querySelector('.jp-Editor');editor.style.background='DarkGray';this.parentNode.removeChild(this)\">"
      ],
      "text/plain": [
       "<IPython.core.display.HTML object>"
      ]
     },
     "metadata": {},
     "output_type": "display_data"
    },
    {
     "name": "stdout",
     "output_type": "stream",
     "text": [
      "time: 33.3 ms (started: 2022-09-13 17:31:09 +02:00)\n"
     ]
    }
   ],
   "source": [
    "raise Stop"
   ]
  },
  {
   "cell_type": "markdown",
   "id": "c7654839-a06f-4024-a72f-5e081082af6b",
   "metadata": {},
   "source": [
    "## Publish on pypi.org"
   ]
  },
  {
   "cell_type": "code",
   "execution_count": null,
   "id": "42124620-1dac-401c-9780-8b78c5f1c9e2",
   "metadata": {},
   "outputs": [],
   "source": [
    "# Publish on test.pypi.org\n",
    "#python -m twine upload --repository testpypi --skip-existing dist/* "
   ]
  },
  {
   "cell_type": "code",
   "execution_count": null,
   "id": "96b1ff64-4c21-4c33-a7e3-d8576dd461fd",
   "metadata": {},
   "outputs": [],
   "source": [
    "# Publish on pypi.org\n",
    "#python -m twine upload dist/* "
   ]
  },
  {
   "cell_type": "markdown",
   "id": "ad45e97b-d74f-4b28-b514-aa0d9243ee7d",
   "metadata": {},
   "source": [
    "## Publish on github"
   ]
  },
  {
   "cell_type": "code",
   "execution_count": null,
   "id": "d444d5d8-ddb6-451e-9300-fa6424dde8f0",
   "metadata": {},
   "outputs": [],
   "source": [
    "!git status"
   ]
  },
  {
   "cell_type": "code",
   "execution_count": null,
   "id": "a9a7e740-2661-43c1-9743-bef78afaba54",
   "metadata": {},
   "outputs": [],
   "source": [
    "!git add --all"
   ]
  },
  {
   "cell_type": "code",
   "execution_count": null,
   "id": "f5ed7e73-e40b-4de9-858d-54a1530018cb",
   "metadata": {},
   "outputs": [],
   "source": [
    "!git commit -m \"docs\""
   ]
  },
  {
   "cell_type": "code",
   "execution_count": null,
   "id": "9d44e586-3194-4030-bf4b-d84e6868e09e",
   "metadata": {},
   "outputs": [],
   "source": [
    "#!git push origin master"
   ]
  },
  {
   "cell_type": "markdown",
   "id": "16c9f64f-40af-41ac-90db-f802bb8f73c1",
   "metadata": {},
   "source": [
    "## Test from PyPi"
   ]
  },
  {
   "cell_type": "code",
   "execution_count": null,
   "id": "3af8896f-3f40-4d28-a365-fc4c0cb4228f",
   "metadata": {},
   "outputs": [],
   "source": [
    "# uninstall\n",
    "!printf 'y\\n' | pip uninstall blab"
   ]
  },
  {
   "cell_type": "code",
   "execution_count": null,
   "id": "8ea8f83c-6970-424a-993d-f8e378e5faa9",
   "metadata": {},
   "outputs": [],
   "source": [
    "!pip install blab --no-cache-dir "
   ]
  },
  {
   "cell_type": "code",
   "execution_count": null,
   "id": "5655c1d6-916d-4f5a-90aa-1877b6a5317b",
   "metadata": {},
   "outputs": [],
   "source": [
    "# test import\n",
    "import blab"
   ]
  },
  {
   "cell_type": "code",
   "execution_count": null,
   "id": "b1a1633d-62ad-4088-8b90-6447cc84daf6",
   "metadata": {},
   "outputs": [],
   "source": [
    "# test script\n",
    "!blab"
   ]
  },
  {
   "cell_type": "code",
   "execution_count": null,
   "id": "d734da84-24da-4fa9-8a12-139486f7bf76",
   "metadata": {},
   "outputs": [],
   "source": []
  }
 ],
 "metadata": {
  "kernelspec": {
   "display_name": "Python 3 (ipykernel)",
   "language": "python",
   "name": "python3"
  },
  "language_info": {
   "codemirror_mode": {
    "name": "ipython",
    "version": 3
   },
   "file_extension": ".py",
   "mimetype": "text/x-python",
   "name": "python",
   "nbconvert_exporter": "python",
   "pygments_lexer": "ipython3",
   "version": "3.8.12"
  }
 },
 "nbformat": 4,
 "nbformat_minor": 5
}
